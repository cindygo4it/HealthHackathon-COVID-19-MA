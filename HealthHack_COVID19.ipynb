{
 "cells": [
  {
   "cell_type": "code",
   "execution_count": 225,
   "metadata": {},
   "outputs": [],
   "source": [
    "import pandas as pd\n",
    "import numpy as np\n",
    "import sqlite3\n",
    "import matplotlib.pyplot as plt\n",
    "import seaborn as sns\n",
    "from sklearn.linear_model import LogisticRegression\n",
    "from sklearn.model_selection import train_test_split"
   ]
  },
  {
   "cell_type": "code",
   "execution_count": 226,
   "metadata": {},
   "outputs": [],
   "source": [
    "# Create a SQL connection to our SQLite database\n",
    "con = sqlite3.connect(\"C:\\\\Users\\\\cgoss\\\\Downloads\\\\SQLiteDatabaseBrowserPortable\\\\Data\\\\HealthHack_TrainData.db\")\n",
    "\n",
    "#Get training data\n",
    "obser = pd.read_sql_query(\"SELECT * from observations WHERE CODE='94531-1'\" , con)\n",
    "allergies = pd.read_sql_query(\"SELECT * from allergies\" , con)\n",
    "conditions = pd.read_sql_query(\"SELECT * from conditions\", con)\n",
    "devices = pd.read_sql_query(\"SELECT * from devices\", con)\n",
    "immunizations = pd.read_sql_query(\"SELECT * from immunizations\", con)\n",
    "patients = pd.read_sql_query(\"SELECT * from patients\", con)\n",
    "\n",
    "# Be sure to close the connection\n",
    "con.close()"
   ]
  },
  {
   "cell_type": "code",
   "execution_count": 227,
   "metadata": {},
   "outputs": [
    {
     "data": {
      "text/html": [
       "<div>\n",
       "<style scoped>\n",
       "    .dataframe tbody tr th:only-of-type {\n",
       "        vertical-align: middle;\n",
       "    }\n",
       "\n",
       "    .dataframe tbody tr th {\n",
       "        vertical-align: top;\n",
       "    }\n",
       "\n",
       "    .dataframe thead th {\n",
       "        text-align: right;\n",
       "    }\n",
       "</style>\n",
       "<table border=\"1\" class=\"dataframe\">\n",
       "  <thead>\n",
       "    <tr style=\"text-align: right;\">\n",
       "      <th></th>\n",
       "      <th>DATE</th>\n",
       "      <th>PATIENT</th>\n",
       "      <th>ENCOUNTER</th>\n",
       "      <th>CODE</th>\n",
       "      <th>DESCRIPTION</th>\n",
       "      <th>VALUE</th>\n",
       "      <th>UNITS</th>\n",
       "      <th>TYPE</th>\n",
       "    </tr>\n",
       "  </thead>\n",
       "  <tbody>\n",
       "    <tr>\n",
       "      <th>0</th>\n",
       "      <td>2020-03-10</td>\n",
       "      <td>30fb496e-b8d3-4d36-8e50-86acb3d1a223</td>\n",
       "      <td>a703222d-f88a-45ef-be97-b3636357b5bc</td>\n",
       "      <td>94531-1</td>\n",
       "      <td>SARS-CoV-2 RNA Pnl Resp NAA+probe</td>\n",
       "      <td>Not detected (qualifier value)</td>\n",
       "      <td>None</td>\n",
       "      <td>text</td>\n",
       "    </tr>\n",
       "    <tr>\n",
       "      <th>1</th>\n",
       "      <td>2020-03-11</td>\n",
       "      <td>afa2680f-7f73-46d9-b0cd-2cf3db49724b</td>\n",
       "      <td>00bee8c8-40e5-433e-ba85-2125f133e5eb</td>\n",
       "      <td>94531-1</td>\n",
       "      <td>SARS-CoV-2 RNA Pnl Resp NAA+probe</td>\n",
       "      <td>Detected (qualifier value)</td>\n",
       "      <td>None</td>\n",
       "      <td>text</td>\n",
       "    </tr>\n",
       "    <tr>\n",
       "      <th>2</th>\n",
       "      <td>2020-02-23</td>\n",
       "      <td>26e5d262-6cdc-4274-a5cd-d7fd439e35f9</td>\n",
       "      <td>08727d55-6b17-4312-9e90-1174f54b9c22</td>\n",
       "      <td>94531-1</td>\n",
       "      <td>SARS-CoV-2 RNA Pnl Resp NAA+probe</td>\n",
       "      <td>Detected (qualifier value)</td>\n",
       "      <td>None</td>\n",
       "      <td>text</td>\n",
       "    </tr>\n",
       "    <tr>\n",
       "      <th>3</th>\n",
       "      <td>2020-03-03</td>\n",
       "      <td>90031c21-e8a4-416e-b60b-23e871ee62dc</td>\n",
       "      <td>630ee0a3-2bb2-434a-a7cb-b37c7f8a43cb</td>\n",
       "      <td>94531-1</td>\n",
       "      <td>SARS-CoV-2 RNA Pnl Resp NAA+probe</td>\n",
       "      <td>Detected (qualifier value)</td>\n",
       "      <td>None</td>\n",
       "      <td>text</td>\n",
       "    </tr>\n",
       "    <tr>\n",
       "      <th>4</th>\n",
       "      <td>2020-03-10</td>\n",
       "      <td>26e5d262-6cdc-4274-a5cd-d7fd439e35f9</td>\n",
       "      <td>e6ad9f78-fa0e-431a-b9b6-5d127a594261</td>\n",
       "      <td>94531-1</td>\n",
       "      <td>SARS-CoV-2 RNA Pnl Resp NAA+probe</td>\n",
       "      <td>Not detected (qualifier value)</td>\n",
       "      <td>None</td>\n",
       "      <td>text</td>\n",
       "    </tr>\n",
       "  </tbody>\n",
       "</table>\n",
       "</div>"
      ],
      "text/plain": [
       "         DATE                               PATIENT  \\\n",
       "0  2020-03-10  30fb496e-b8d3-4d36-8e50-86acb3d1a223   \n",
       "1  2020-03-11  afa2680f-7f73-46d9-b0cd-2cf3db49724b   \n",
       "2  2020-02-23  26e5d262-6cdc-4274-a5cd-d7fd439e35f9   \n",
       "3  2020-03-03  90031c21-e8a4-416e-b60b-23e871ee62dc   \n",
       "4  2020-03-10  26e5d262-6cdc-4274-a5cd-d7fd439e35f9   \n",
       "\n",
       "                              ENCOUNTER     CODE  \\\n",
       "0  a703222d-f88a-45ef-be97-b3636357b5bc  94531-1   \n",
       "1  00bee8c8-40e5-433e-ba85-2125f133e5eb  94531-1   \n",
       "2  08727d55-6b17-4312-9e90-1174f54b9c22  94531-1   \n",
       "3  630ee0a3-2bb2-434a-a7cb-b37c7f8a43cb  94531-1   \n",
       "4  e6ad9f78-fa0e-431a-b9b6-5d127a594261  94531-1   \n",
       "\n",
       "                         DESCRIPTION                           VALUE UNITS  \\\n",
       "0  SARS-CoV-2 RNA Pnl Resp NAA+probe  Not detected (qualifier value)  None   \n",
       "1  SARS-CoV-2 RNA Pnl Resp NAA+probe      Detected (qualifier value)  None   \n",
       "2  SARS-CoV-2 RNA Pnl Resp NAA+probe      Detected (qualifier value)  None   \n",
       "3  SARS-CoV-2 RNA Pnl Resp NAA+probe      Detected (qualifier value)  None   \n",
       "4  SARS-CoV-2 RNA Pnl Resp NAA+probe  Not detected (qualifier value)  None   \n",
       "\n",
       "   TYPE  \n",
       "0  text  \n",
       "1  text  \n",
       "2  text  \n",
       "3  text  \n",
       "4  text  "
      ]
     },
     "execution_count": 227,
     "metadata": {},
     "output_type": "execute_result"
    }
   ],
   "source": [
    "obser.head()"
   ]
  },
  {
   "cell_type": "code",
   "execution_count": 228,
   "metadata": {},
   "outputs": [
    {
     "data": {
      "text/plain": [
       "(105548, 8)"
      ]
     },
     "execution_count": 228,
     "metadata": {},
     "output_type": "execute_result"
    }
   ],
   "source": [
    "obser.shape"
   ]
  },
  {
   "cell_type": "code",
   "execution_count": 168,
   "metadata": {},
   "outputs": [],
   "source": [
    "# need to drop records that are additional tests on one patient, \n",
    "#these appear to always be a follow-up test a couple weeks after the first positive result\n",
    "obser.drop_duplicates(subset='PATIENT', inplace=True)"
   ]
  },
  {
   "cell_type": "code",
   "execution_count": 229,
   "metadata": {},
   "outputs": [],
   "source": [
    "obser.drop(obser[obser['VALUE'] == \"Not detected (qualifier value)\"].index, axis=0, inplace=True)"
   ]
  },
  {
   "cell_type": "code",
   "execution_count": 230,
   "metadata": {},
   "outputs": [
    {
     "name": "stdout",
     "output_type": "stream",
     "text": [
      "<class 'pandas.core.frame.DataFrame'>\n",
      "Int64Index: 73697 entries, 1 to 105547\n",
      "Data columns (total 8 columns):\n",
      " #   Column       Non-Null Count  Dtype \n",
      "---  ------       --------------  ----- \n",
      " 0   DATE         73697 non-null  object\n",
      " 1   PATIENT      73697 non-null  object\n",
      " 2   ENCOUNTER    73697 non-null  object\n",
      " 3   CODE         73697 non-null  object\n",
      " 4   DESCRIPTION  73697 non-null  object\n",
      " 5   VALUE        73697 non-null  object\n",
      " 6   UNITS        0 non-null      object\n",
      " 7   TYPE         73697 non-null  object\n",
      "dtypes: object(8)\n",
      "memory usage: 5.1+ MB\n"
     ]
    }
   ],
   "source": [
    "obser.info()"
   ]
  },
  {
   "cell_type": "code",
   "execution_count": 231,
   "metadata": {},
   "outputs": [],
   "source": [
    "obser = obser[['DATE', 'PATIENT', 'ENCOUNTER']]"
   ]
  },
  {
   "cell_type": "code",
   "execution_count": 232,
   "metadata": {},
   "outputs": [
    {
     "data": {
      "text/html": [
       "<div>\n",
       "<style scoped>\n",
       "    .dataframe tbody tr th:only-of-type {\n",
       "        vertical-align: middle;\n",
       "    }\n",
       "\n",
       "    .dataframe tbody tr th {\n",
       "        vertical-align: top;\n",
       "    }\n",
       "\n",
       "    .dataframe thead th {\n",
       "        text-align: right;\n",
       "    }\n",
       "</style>\n",
       "<table border=\"1\" class=\"dataframe\">\n",
       "  <thead>\n",
       "    <tr style=\"text-align: right;\">\n",
       "      <th></th>\n",
       "      <th>DATE</th>\n",
       "      <th>PATIENT</th>\n",
       "      <th>ENCOUNTER</th>\n",
       "    </tr>\n",
       "  </thead>\n",
       "  <tbody>\n",
       "    <tr>\n",
       "      <th>1</th>\n",
       "      <td>2020-03-11</td>\n",
       "      <td>afa2680f-7f73-46d9-b0cd-2cf3db49724b</td>\n",
       "      <td>00bee8c8-40e5-433e-ba85-2125f133e5eb</td>\n",
       "    </tr>\n",
       "    <tr>\n",
       "      <th>2</th>\n",
       "      <td>2020-02-23</td>\n",
       "      <td>26e5d262-6cdc-4274-a5cd-d7fd439e35f9</td>\n",
       "      <td>08727d55-6b17-4312-9e90-1174f54b9c22</td>\n",
       "    </tr>\n",
       "    <tr>\n",
       "      <th>3</th>\n",
       "      <td>2020-03-03</td>\n",
       "      <td>90031c21-e8a4-416e-b60b-23e871ee62dc</td>\n",
       "      <td>630ee0a3-2bb2-434a-a7cb-b37c7f8a43cb</td>\n",
       "    </tr>\n",
       "    <tr>\n",
       "      <th>8</th>\n",
       "      <td>2020-03-10</td>\n",
       "      <td>0ac2e031-ab88-41f9-ac5d-d7d588952222</td>\n",
       "      <td>6faa29bc-9e80-4386-840e-b9c5ad5644ef</td>\n",
       "    </tr>\n",
       "    <tr>\n",
       "      <th>9</th>\n",
       "      <td>2020-03-09</td>\n",
       "      <td>45138fb4-dc79-4aec-ba78-7a012d3edca7</td>\n",
       "      <td>eed09e0e-a9ba-4623-82c7-9e28d90812bc</td>\n",
       "    </tr>\n",
       "  </tbody>\n",
       "</table>\n",
       "</div>"
      ],
      "text/plain": [
       "         DATE                               PATIENT  \\\n",
       "1  2020-03-11  afa2680f-7f73-46d9-b0cd-2cf3db49724b   \n",
       "2  2020-02-23  26e5d262-6cdc-4274-a5cd-d7fd439e35f9   \n",
       "3  2020-03-03  90031c21-e8a4-416e-b60b-23e871ee62dc   \n",
       "8  2020-03-10  0ac2e031-ab88-41f9-ac5d-d7d588952222   \n",
       "9  2020-03-09  45138fb4-dc79-4aec-ba78-7a012d3edca7   \n",
       "\n",
       "                              ENCOUNTER  \n",
       "1  00bee8c8-40e5-433e-ba85-2125f133e5eb  \n",
       "2  08727d55-6b17-4312-9e90-1174f54b9c22  \n",
       "3  630ee0a3-2bb2-434a-a7cb-b37c7f8a43cb  \n",
       "8  6faa29bc-9e80-4386-840e-b9c5ad5644ef  \n",
       "9  eed09e0e-a9ba-4623-82c7-9e28d90812bc  "
      ]
     },
     "execution_count": 232,
     "metadata": {},
     "output_type": "execute_result"
    }
   ],
   "source": [
    "obser.head()"
   ]
  },
  {
   "cell_type": "code",
   "execution_count": 233,
   "metadata": {},
   "outputs": [],
   "source": [
    "master = obser.merge(patients, how=\"left\", left_on='PATIENT', right_on='Id')"
   ]
  },
  {
   "cell_type": "code",
   "execution_count": 234,
   "metadata": {},
   "outputs": [
    {
     "data": {
      "text/html": [
       "<div>\n",
       "<style scoped>\n",
       "    .dataframe tbody tr th:only-of-type {\n",
       "        vertical-align: middle;\n",
       "    }\n",
       "\n",
       "    .dataframe tbody tr th {\n",
       "        vertical-align: top;\n",
       "    }\n",
       "\n",
       "    .dataframe thead th {\n",
       "        text-align: right;\n",
       "    }\n",
       "</style>\n",
       "<table border=\"1\" class=\"dataframe\">\n",
       "  <thead>\n",
       "    <tr style=\"text-align: right;\">\n",
       "      <th></th>\n",
       "      <th>DATE</th>\n",
       "      <th>PATIENT</th>\n",
       "      <th>ENCOUNTER</th>\n",
       "      <th>Id</th>\n",
       "      <th>BIRTHDATE</th>\n",
       "      <th>DEATHDATE</th>\n",
       "      <th>SSN</th>\n",
       "      <th>DRIVERS</th>\n",
       "      <th>PASSPORT</th>\n",
       "      <th>PREFIX</th>\n",
       "      <th>...</th>\n",
       "      <th>BIRTHPLACE</th>\n",
       "      <th>ADDRESS</th>\n",
       "      <th>CITY</th>\n",
       "      <th>STATE</th>\n",
       "      <th>COUNTY</th>\n",
       "      <th>ZIP</th>\n",
       "      <th>LAT</th>\n",
       "      <th>LON</th>\n",
       "      <th>HEALTHCARE_EXPENSES</th>\n",
       "      <th>HEALTHCARE_COVERAGE</th>\n",
       "    </tr>\n",
       "  </thead>\n",
       "  <tbody>\n",
       "    <tr>\n",
       "      <th>0</th>\n",
       "      <td>2020-03-11</td>\n",
       "      <td>afa2680f-7f73-46d9-b0cd-2cf3db49724b</td>\n",
       "      <td>00bee8c8-40e5-433e-ba85-2125f133e5eb</td>\n",
       "      <td>afa2680f-7f73-46d9-b0cd-2cf3db49724b</td>\n",
       "      <td>1978-06-16</td>\n",
       "      <td>None</td>\n",
       "      <td>999-21-2569</td>\n",
       "      <td>S99940488</td>\n",
       "      <td>X6135636X</td>\n",
       "      <td>Mrs.</td>\n",
       "      <td>...</td>\n",
       "      <td>Boston  Massachusetts  US</td>\n",
       "      <td>128 Considine Plaza Apt 21</td>\n",
       "      <td>Wakefield</td>\n",
       "      <td>Massachusetts</td>\n",
       "      <td>Middlesex County</td>\n",
       "      <td>1880.0</td>\n",
       "      <td>42.460402</td>\n",
       "      <td>-71.113293</td>\n",
       "      <td>878157.60</td>\n",
       "      <td>8128.09</td>\n",
       "    </tr>\n",
       "    <tr>\n",
       "      <th>1</th>\n",
       "      <td>2020-02-23</td>\n",
       "      <td>26e5d262-6cdc-4274-a5cd-d7fd439e35f9</td>\n",
       "      <td>08727d55-6b17-4312-9e90-1174f54b9c22</td>\n",
       "      <td>26e5d262-6cdc-4274-a5cd-d7fd439e35f9</td>\n",
       "      <td>1989-09-05</td>\n",
       "      <td>None</td>\n",
       "      <td>999-39-4400</td>\n",
       "      <td>S99956192</td>\n",
       "      <td>X43478634X</td>\n",
       "      <td>Mr.</td>\n",
       "      <td>...</td>\n",
       "      <td>Hamilton  Massachusetts  US</td>\n",
       "      <td>840 Brekke Union</td>\n",
       "      <td>Weston</td>\n",
       "      <td>Massachusetts</td>\n",
       "      <td>Middlesex County</td>\n",
       "      <td>None</td>\n",
       "      <td>42.338808</td>\n",
       "      <td>-71.341510</td>\n",
       "      <td>21147.02</td>\n",
       "      <td>0.00</td>\n",
       "    </tr>\n",
       "    <tr>\n",
       "      <th>2</th>\n",
       "      <td>2020-03-03</td>\n",
       "      <td>90031c21-e8a4-416e-b60b-23e871ee62dc</td>\n",
       "      <td>630ee0a3-2bb2-434a-a7cb-b37c7f8a43cb</td>\n",
       "      <td>90031c21-e8a4-416e-b60b-23e871ee62dc</td>\n",
       "      <td>1983-07-24</td>\n",
       "      <td>None</td>\n",
       "      <td>999-86-1503</td>\n",
       "      <td>S99937062</td>\n",
       "      <td>X73557271X</td>\n",
       "      <td>Mrs.</td>\n",
       "      <td>...</td>\n",
       "      <td>Charlton  Massachusetts  US</td>\n",
       "      <td>475 Cronin Manor Unit 94</td>\n",
       "      <td>Millville</td>\n",
       "      <td>Massachusetts</td>\n",
       "      <td>Worcester County</td>\n",
       "      <td>None</td>\n",
       "      <td>42.010525</td>\n",
       "      <td>-71.622337</td>\n",
       "      <td>746790.89</td>\n",
       "      <td>12704.15</td>\n",
       "    </tr>\n",
       "    <tr>\n",
       "      <th>3</th>\n",
       "      <td>2020-03-10</td>\n",
       "      <td>0ac2e031-ab88-41f9-ac5d-d7d588952222</td>\n",
       "      <td>6faa29bc-9e80-4386-840e-b9c5ad5644ef</td>\n",
       "      <td>0ac2e031-ab88-41f9-ac5d-d7d588952222</td>\n",
       "      <td>1996-02-17</td>\n",
       "      <td>None</td>\n",
       "      <td>999-28-9132</td>\n",
       "      <td>S99982506</td>\n",
       "      <td>X18319389X</td>\n",
       "      <td>Mr.</td>\n",
       "      <td>...</td>\n",
       "      <td>Holbrook  Massachusetts  US</td>\n",
       "      <td>561 Crona Byway Unit 38</td>\n",
       "      <td>Boston</td>\n",
       "      <td>Massachusetts</td>\n",
       "      <td>Suffolk County</td>\n",
       "      <td>2199.0</td>\n",
       "      <td>42.377211</td>\n",
       "      <td>-70.996938</td>\n",
       "      <td>620087.37</td>\n",
       "      <td>8129.28</td>\n",
       "    </tr>\n",
       "    <tr>\n",
       "      <th>4</th>\n",
       "      <td>2020-03-09</td>\n",
       "      <td>45138fb4-dc79-4aec-ba78-7a012d3edca7</td>\n",
       "      <td>eed09e0e-a9ba-4623-82c7-9e28d90812bc</td>\n",
       "      <td>45138fb4-dc79-4aec-ba78-7a012d3edca7</td>\n",
       "      <td>1960-06-08</td>\n",
       "      <td>None</td>\n",
       "      <td>999-81-6574</td>\n",
       "      <td>S99977268</td>\n",
       "      <td>X8571358X</td>\n",
       "      <td>Mrs.</td>\n",
       "      <td>...</td>\n",
       "      <td>Stoughton  Massachusetts  US</td>\n",
       "      <td>807 Maggio Grove</td>\n",
       "      <td>Boston</td>\n",
       "      <td>Massachusetts</td>\n",
       "      <td>Suffolk County</td>\n",
       "      <td>2134.0</td>\n",
       "      <td>42.350963</td>\n",
       "      <td>-71.133840</td>\n",
       "      <td>32286.70</td>\n",
       "      <td>1659.84</td>\n",
       "    </tr>\n",
       "  </tbody>\n",
       "</table>\n",
       "<p>5 rows × 28 columns</p>\n",
       "</div>"
      ],
      "text/plain": [
       "         DATE                               PATIENT  \\\n",
       "0  2020-03-11  afa2680f-7f73-46d9-b0cd-2cf3db49724b   \n",
       "1  2020-02-23  26e5d262-6cdc-4274-a5cd-d7fd439e35f9   \n",
       "2  2020-03-03  90031c21-e8a4-416e-b60b-23e871ee62dc   \n",
       "3  2020-03-10  0ac2e031-ab88-41f9-ac5d-d7d588952222   \n",
       "4  2020-03-09  45138fb4-dc79-4aec-ba78-7a012d3edca7   \n",
       "\n",
       "                              ENCOUNTER                                    Id  \\\n",
       "0  00bee8c8-40e5-433e-ba85-2125f133e5eb  afa2680f-7f73-46d9-b0cd-2cf3db49724b   \n",
       "1  08727d55-6b17-4312-9e90-1174f54b9c22  26e5d262-6cdc-4274-a5cd-d7fd439e35f9   \n",
       "2  630ee0a3-2bb2-434a-a7cb-b37c7f8a43cb  90031c21-e8a4-416e-b60b-23e871ee62dc   \n",
       "3  6faa29bc-9e80-4386-840e-b9c5ad5644ef  0ac2e031-ab88-41f9-ac5d-d7d588952222   \n",
       "4  eed09e0e-a9ba-4623-82c7-9e28d90812bc  45138fb4-dc79-4aec-ba78-7a012d3edca7   \n",
       "\n",
       "    BIRTHDATE DEATHDATE          SSN    DRIVERS    PASSPORT PREFIX  ...  \\\n",
       "0  1978-06-16      None  999-21-2569  S99940488   X6135636X   Mrs.  ...   \n",
       "1  1989-09-05      None  999-39-4400  S99956192  X43478634X    Mr.  ...   \n",
       "2  1983-07-24      None  999-86-1503  S99937062  X73557271X   Mrs.  ...   \n",
       "3  1996-02-17      None  999-28-9132  S99982506  X18319389X    Mr.  ...   \n",
       "4  1960-06-08      None  999-81-6574  S99977268   X8571358X   Mrs.  ...   \n",
       "\n",
       "                     BIRTHPLACE                     ADDRESS       CITY  \\\n",
       "0     Boston  Massachusetts  US  128 Considine Plaza Apt 21  Wakefield   \n",
       "1   Hamilton  Massachusetts  US            840 Brekke Union     Weston   \n",
       "2   Charlton  Massachusetts  US    475 Cronin Manor Unit 94  Millville   \n",
       "3   Holbrook  Massachusetts  US     561 Crona Byway Unit 38     Boston   \n",
       "4  Stoughton  Massachusetts  US            807 Maggio Grove     Boston   \n",
       "\n",
       "           STATE            COUNTY     ZIP        LAT        LON  \\\n",
       "0  Massachusetts  Middlesex County  1880.0  42.460402 -71.113293   \n",
       "1  Massachusetts  Middlesex County    None  42.338808 -71.341510   \n",
       "2  Massachusetts  Worcester County    None  42.010525 -71.622337   \n",
       "3  Massachusetts    Suffolk County  2199.0  42.377211 -70.996938   \n",
       "4  Massachusetts    Suffolk County  2134.0  42.350963 -71.133840   \n",
       "\n",
       "  HEALTHCARE_EXPENSES HEALTHCARE_COVERAGE  \n",
       "0           878157.60             8128.09  \n",
       "1            21147.02                0.00  \n",
       "2           746790.89            12704.15  \n",
       "3           620087.37             8129.28  \n",
       "4            32286.70             1659.84  \n",
       "\n",
       "[5 rows x 28 columns]"
      ]
     },
     "execution_count": 234,
     "metadata": {},
     "output_type": "execute_result"
    }
   ],
   "source": [
    "master.head()"
   ]
  },
  {
   "cell_type": "code",
   "execution_count": 235,
   "metadata": {},
   "outputs": [
    {
     "data": {
      "text/plain": [
       "(73697, 28)"
      ]
     },
     "execution_count": 235,
     "metadata": {},
     "output_type": "execute_result"
    }
   ],
   "source": [
    "master.shape"
   ]
  },
  {
   "cell_type": "code",
   "execution_count": 236,
   "metadata": {},
   "outputs": [],
   "source": [
    "master[\"ISDEAD\"] = master['DEATHDATE'].notnull()\n",
    "master.loc[(master.ISDEAD == True), 'ISDEAD'] = 1\n",
    "master.loc[(master.ISDEAD == False), 'ISDEAD'] = 0"
   ]
  },
  {
   "cell_type": "code",
   "execution_count": 237,
   "metadata": {},
   "outputs": [
    {
     "data": {
      "text/plain": [
       "0    68129\n",
       "1     5568\n",
       "Name: ISDEAD, dtype: int64"
      ]
     },
     "execution_count": 237,
     "metadata": {},
     "output_type": "execute_result"
    }
   ],
   "source": [
    "master['ISDEAD'].value_counts()"
   ]
  },
  {
   "cell_type": "code",
   "execution_count": 238,
   "metadata": {},
   "outputs": [],
   "source": [
    "master.drop(['Id', 'SSN', 'DRIVERS', 'PASSPORT', 'MAIDEN', 'BIRTHPLACE', 'ADDRESS', 'STATE', 'PREFIX', 'SUFFIX'], axis=1, inplace=True)"
   ]
  },
  {
   "cell_type": "code",
   "execution_count": 239,
   "metadata": {},
   "outputs": [
    {
     "name": "stdout",
     "output_type": "stream",
     "text": [
      "<class 'pandas.core.frame.DataFrame'>\n",
      "Int64Index: 73697 entries, 0 to 73696\n",
      "Data columns (total 19 columns):\n",
      " #   Column               Non-Null Count  Dtype  \n",
      "---  ------               --------------  -----  \n",
      " 0   DATE                 73697 non-null  object \n",
      " 1   PATIENT              73697 non-null  object \n",
      " 2   ENCOUNTER            73697 non-null  object \n",
      " 3   BIRTHDATE            73697 non-null  object \n",
      " 4   DEATHDATE            5568 non-null   object \n",
      " 5   FIRST                73697 non-null  object \n",
      " 6   LAST                 73697 non-null  object \n",
      " 7   MARITAL              67360 non-null  object \n",
      " 8   RACE                 73697 non-null  object \n",
      " 9   ETHNICITY            73697 non-null  object \n",
      " 10  GENDER               73697 non-null  object \n",
      " 11  CITY                 73697 non-null  object \n",
      " 12  COUNTY               73697 non-null  object \n",
      " 13  ZIP                  39687 non-null  object \n",
      " 14  LAT                  73697 non-null  float64\n",
      " 15  LON                  73697 non-null  float64\n",
      " 16  HEALTHCARE_EXPENSES  73697 non-null  float64\n",
      " 17  HEALTHCARE_COVERAGE  73697 non-null  float64\n",
      " 18  ISDEAD               73697 non-null  object \n",
      "dtypes: float64(4), object(15)\n",
      "memory usage: 11.2+ MB\n"
     ]
    }
   ],
   "source": [
    "master.info()"
   ]
  },
  {
   "cell_type": "code",
   "execution_count": 240,
   "metadata": {},
   "outputs": [
    {
     "data": {
      "text/plain": [
       "(3966, 6)"
      ]
     },
     "execution_count": 240,
     "metadata": {},
     "output_type": "execute_result"
    }
   ],
   "source": [
    "mould_allergy = allergies.loc[(allergies['CODE'] == 419474003)]\n",
    "type(mould_allergy)\n",
    "mould_allergy.head()\n",
    "mould_allergy.shape"
   ]
  },
  {
   "cell_type": "code",
   "execution_count": 241,
   "metadata": {},
   "outputs": [],
   "source": [
    "#merge patients that have a mould allergy into master df\n",
    "master = master.merge(mould_allergy, how=\"left\", on='PATIENT')"
   ]
  },
  {
   "cell_type": "code",
   "execution_count": 242,
   "metadata": {},
   "outputs": [
    {
     "data": {
      "text/plain": [
       "419474003.0    2884\n",
       "Name: CODE, dtype: int64"
      ]
     },
     "execution_count": 242,
     "metadata": {},
     "output_type": "execute_result"
    }
   ],
   "source": [
    "master.CODE.value_counts()"
   ]
  },
  {
   "cell_type": "code",
   "execution_count": 243,
   "metadata": {},
   "outputs": [],
   "source": [
    "master[\"CODE\"] = master['CODE'].notnull()\n",
    "master.loc[(master.CODE == True), 'CODE'] = 1\n",
    "master.loc[(master.CODE == False), 'CODE'] = 0"
   ]
  },
  {
   "cell_type": "code",
   "execution_count": 244,
   "metadata": {},
   "outputs": [],
   "source": [
    "master.rename(columns={'CODE':'HAS_MOULD_ALLERGY', 'DATE':'DATE_TESTED_POSITIVE', 'ETHNICITY':'ISHISPANIC', 'GENDER':'ISFEMALE'}, inplace = True)"
   ]
  },
  {
   "cell_type": "code",
   "execution_count": 245,
   "metadata": {},
   "outputs": [],
   "source": [
    "master.drop(['ENCOUNTER_x', 'START', 'STOP', 'ENCOUNTER_y', 'DESCRIPTION'], axis=1, inplace=True)"
   ]
  },
  {
   "cell_type": "code",
   "execution_count": 246,
   "metadata": {},
   "outputs": [
    {
     "name": "stdout",
     "output_type": "stream",
     "text": [
      "(23686, 6)\n"
     ]
    }
   ],
   "source": [
    "# merge patients that have diabetes into master df\n",
    "diabetes_patients = conditions.loc[(conditions['CODE'] == 44054006)]\n",
    "#diabetes_patients.rename(columns={'CODE':'HAS_DIABETES'}, inplace=True)\n",
    "print(diabetes_patients.shape)\n",
    "#diabetes_patients.head()"
   ]
  },
  {
   "cell_type": "code",
   "execution_count": 247,
   "metadata": {},
   "outputs": [
    {
     "data": {
      "text/plain": [
       "Index(['DATE_TESTED_POSITIVE', 'PATIENT', 'BIRTHDATE', 'DEATHDATE', 'FIRST',\n",
       "       'LAST', 'MARITAL', 'RACE', 'ISHISPANIC', 'ISFEMALE', 'CITY', 'COUNTY',\n",
       "       'ZIP', 'LAT', 'LON', 'HEALTHCARE_EXPENSES', 'HEALTHCARE_COVERAGE',\n",
       "       'ISDEAD', 'HAS_MOULD_ALLERGY'],\n",
       "      dtype='object')"
      ]
     },
     "execution_count": 247,
     "metadata": {},
     "output_type": "execute_result"
    }
   ],
   "source": [
    "master.columns"
   ]
  },
  {
   "cell_type": "code",
   "execution_count": 248,
   "metadata": {},
   "outputs": [
    {
     "data": {
      "text/plain": [
       "Index(['START', 'STOP', 'PATIENT', 'ENCOUNTER', 'CODE', 'DESCRIPTION'], dtype='object')"
      ]
     },
     "execution_count": 248,
     "metadata": {},
     "output_type": "execute_result"
    }
   ],
   "source": [
    "diabetes_patients.columns"
   ]
  },
  {
   "cell_type": "code",
   "execution_count": 249,
   "metadata": {},
   "outputs": [
    {
     "data": {
      "text/plain": [
       "Index(['DATE_TESTED_POSITIVE', 'PATIENT', 'BIRTHDATE', 'DEATHDATE', 'FIRST',\n",
       "       'LAST', 'MARITAL', 'RACE', 'ISHISPANIC', 'ISFEMALE', 'CITY', 'COUNTY',\n",
       "       'ZIP', 'LAT', 'LON', 'HEALTHCARE_EXPENSES', 'HEALTHCARE_COVERAGE',\n",
       "       'ISDEAD', 'HAS_MOULD_ALLERGY', 'START', 'STOP', 'ENCOUNTER', 'CODE',\n",
       "       'DESCRIPTION'],\n",
       "      dtype='object')"
      ]
     },
     "execution_count": 249,
     "metadata": {},
     "output_type": "execute_result"
    }
   ],
   "source": [
    "master = master.merge(diabetes_patients, how='left', on='PATIENT')\n",
    "master.columns"
   ]
  },
  {
   "cell_type": "code",
   "execution_count": 250,
   "metadata": {},
   "outputs": [],
   "source": [
    "master.drop(['START', 'STOP', 'ENCOUNTER', 'DESCRIPTION'], axis=1, inplace=True)\n",
    "master.rename(columns={'CODE':'HAS_DIABETES'}, inplace=True)"
   ]
  },
  {
   "cell_type": "code",
   "execution_count": 251,
   "metadata": {},
   "outputs": [
    {
     "name": "stdout",
     "output_type": "stream",
     "text": [
      "Index(['DATE_TESTED_POSITIVE', 'PATIENT', 'BIRTHDATE', 'DEATHDATE', 'FIRST',\n",
      "       'LAST', 'MARITAL', 'RACE', 'ISHISPANIC', 'ISFEMALE', 'CITY', 'COUNTY',\n",
      "       'ZIP', 'LAT', 'LON', 'HEALTHCARE_EXPENSES', 'HEALTHCARE_COVERAGE',\n",
      "       'ISDEAD', 'HAS_MOULD_ALLERGY', 'HAS_DIABETES'],\n",
      "      dtype='object')\n"
     ]
    },
    {
     "data": {
      "text/plain": [
       "(73697, 20)"
      ]
     },
     "execution_count": 251,
     "metadata": {},
     "output_type": "execute_result"
    }
   ],
   "source": [
    "print(master.columns)\n",
    "master.shape"
   ]
  },
  {
   "cell_type": "code",
   "execution_count": 252,
   "metadata": {},
   "outputs": [],
   "source": [
    "master[\"HAS_DIABETES\"] = master['HAS_DIABETES'].notnull()\n",
    "master.loc[(master.HAS_DIABETES == True), 'HAS_DIABETES'] = 1\n",
    "master.loc[(master.HAS_DIABETES == False), 'HAS_DIABETES'] = 0"
   ]
  },
  {
   "cell_type": "code",
   "execution_count": 253,
   "metadata": {},
   "outputs": [
    {
     "data": {
      "text/plain": [
       "(73697, 20)"
      ]
     },
     "execution_count": 253,
     "metadata": {},
     "output_type": "execute_result"
    }
   ],
   "source": [
    "master.shape"
   ]
  },
  {
   "cell_type": "code",
   "execution_count": 254,
   "metadata": {},
   "outputs": [
    {
     "data": {
      "text/plain": [
       "Hemodialysis machine  device (physical object)         14088\n",
       "Implantable defibrillator  device (physical object)     5760\n",
       "Mechanical ventilator (physical object)                 4210\n",
       "Videolaryngoscope (physical object)                     4210\n",
       "Coronary artery stent (physical object)                 3698\n",
       "Implantable cardiac pacemaker (physical object)         1530\n",
       "Name: DESCRIPTION, dtype: int64"
      ]
     },
     "execution_count": 254,
     "metadata": {},
     "output_type": "execute_result"
    }
   ],
   "source": [
    "devices.DESCRIPTION.value_counts()"
   ]
  },
  {
   "cell_type": "code",
   "execution_count": 224,
   "metadata": {},
   "outputs": [
    {
     "name": "stdout",
     "output_type": "stream",
     "text": [
      "(3590, 7)\n"
     ]
    },
    {
     "data": {
      "text/html": [
       "<div>\n",
       "<style scoped>\n",
       "    .dataframe tbody tr th:only-of-type {\n",
       "        vertical-align: middle;\n",
       "    }\n",
       "\n",
       "    .dataframe tbody tr th {\n",
       "        vertical-align: top;\n",
       "    }\n",
       "\n",
       "    .dataframe thead th {\n",
       "        text-align: right;\n",
       "    }\n",
       "</style>\n",
       "<table border=\"1\" class=\"dataframe\">\n",
       "  <thead>\n",
       "    <tr style=\"text-align: right;\">\n",
       "      <th></th>\n",
       "      <th>START</th>\n",
       "      <th>STOP</th>\n",
       "      <th>PATIENT</th>\n",
       "      <th>ENCOUNTER</th>\n",
       "      <th>CODE</th>\n",
       "      <th>DESCRIPTION</th>\n",
       "      <th>UDI</th>\n",
       "    </tr>\n",
       "  </thead>\n",
       "  <tbody>\n",
       "    <tr>\n",
       "      <th>9</th>\n",
       "      <td>2020-03-19</td>\n",
       "      <td>2020-03-25</td>\n",
       "      <td>534e1ef3-b3c7-42da-a022-fea54d6c828f</td>\n",
       "      <td>d3dc790a-ee5d-49ee-8bce-dfb4f9c9cd25</td>\n",
       "      <td>449071006</td>\n",
       "      <td>Mechanical ventilator (physical object)</td>\n",
       "      <td>(01)28461652502686(11)200227(17)450313(10)6462...</td>\n",
       "    </tr>\n",
       "    <tr>\n",
       "      <th>14</th>\n",
       "      <td>2020-03-22</td>\n",
       "      <td>2020-03-22</td>\n",
       "      <td>534e1ef3-b3c7-42da-a022-fea54d6c828f</td>\n",
       "      <td>d3dc790a-ee5d-49ee-8bce-dfb4f9c9cd25</td>\n",
       "      <td>36965003</td>\n",
       "      <td>Hemodialysis machine  device (physical object)</td>\n",
       "      <td>(01)46046086160979(11)200301(17)450316(10)3766...</td>\n",
       "    </tr>\n",
       "    <tr>\n",
       "      <th>23</th>\n",
       "      <td>2020-03-16</td>\n",
       "      <td>2020-03-16</td>\n",
       "      <td>5158d043-8c93-4987-8fcb-5f94e7e32fa1</td>\n",
       "      <td>db16bec8-bf00-4728-996e-24c524f46bf1</td>\n",
       "      <td>36965003</td>\n",
       "      <td>Hemodialysis machine  device (physical object)</td>\n",
       "      <td>(01)23634455587063(11)200224(17)450310(10)5176...</td>\n",
       "    </tr>\n",
       "    <tr>\n",
       "      <th>36</th>\n",
       "      <td>2017-01-18</td>\n",
       "      <td>None</td>\n",
       "      <td>358b784d-cccb-421e-84af-033aecec250b</td>\n",
       "      <td>f48fd05e-dad1-4f68-8cd8-400a5b4772c7</td>\n",
       "      <td>706004007</td>\n",
       "      <td>Implantable cardiac pacemaker (physical object)</td>\n",
       "      <td>(01)21352969840227(11)161228(17)420112(10)2153...</td>\n",
       "    </tr>\n",
       "    <tr>\n",
       "      <th>38</th>\n",
       "      <td>2005-04-01</td>\n",
       "      <td>None</td>\n",
       "      <td>e95e1cce-8950-432b-b56b-907b9e2696d7</td>\n",
       "      <td>fb49ade0-8151-4e64-975f-7edf924f5d1a</td>\n",
       "      <td>705643001</td>\n",
       "      <td>Coronary artery stent (physical object)</td>\n",
       "      <td>(01)92050809527061(11)050311(17)300326(10)6368...</td>\n",
       "    </tr>\n",
       "  </tbody>\n",
       "</table>\n",
       "</div>"
      ],
      "text/plain": [
       "         START        STOP                               PATIENT  \\\n",
       "9   2020-03-19  2020-03-25  534e1ef3-b3c7-42da-a022-fea54d6c828f   \n",
       "14  2020-03-22  2020-03-22  534e1ef3-b3c7-42da-a022-fea54d6c828f   \n",
       "23  2020-03-16  2020-03-16  5158d043-8c93-4987-8fcb-5f94e7e32fa1   \n",
       "36  2017-01-18        None  358b784d-cccb-421e-84af-033aecec250b   \n",
       "38  2005-04-01        None  e95e1cce-8950-432b-b56b-907b9e2696d7   \n",
       "\n",
       "                               ENCOUNTER       CODE  \\\n",
       "9   d3dc790a-ee5d-49ee-8bce-dfb4f9c9cd25  449071006   \n",
       "14  d3dc790a-ee5d-49ee-8bce-dfb4f9c9cd25   36965003   \n",
       "23  db16bec8-bf00-4728-996e-24c524f46bf1   36965003   \n",
       "36  f48fd05e-dad1-4f68-8cd8-400a5b4772c7  706004007   \n",
       "38  fb49ade0-8151-4e64-975f-7edf924f5d1a  705643001   \n",
       "\n",
       "                                        DESCRIPTION  \\\n",
       "9           Mechanical ventilator (physical object)   \n",
       "14   Hemodialysis machine  device (physical object)   \n",
       "23   Hemodialysis machine  device (physical object)   \n",
       "36  Implantable cardiac pacemaker (physical object)   \n",
       "38          Coronary artery stent (physical object)   \n",
       "\n",
       "                                                  UDI  \n",
       "9   (01)28461652502686(11)200227(17)450313(10)6462...  \n",
       "14  (01)46046086160979(11)200301(17)450316(10)3766...  \n",
       "23  (01)23634455587063(11)200224(17)450310(10)5176...  \n",
       "36  (01)21352969840227(11)161228(17)420112(10)2153...  \n",
       "38  (01)92050809527061(11)050311(17)300326(10)6368...  "
      ]
     },
     "execution_count": 224,
     "metadata": {},
     "output_type": "execute_result"
    }
   ],
   "source": [
    "# let's add if a patient has a device - these seem to indicate weak heart, kidney or lung?\n",
    "device_patients = devices.loc[(master['PATIENT'].isin(devices['PATIENT']))]\n",
    "#diabetes_patients.rename(columns={'CODE':'HAS_DIABETES'}, inplace=True)\n",
    "print(device_patients.shape)\n",
    "device_patients.head()"
   ]
  },
  {
   "cell_type": "code",
   "execution_count": null,
   "metadata": {},
   "outputs": [],
   "source": []
  },
  {
   "cell_type": "code",
   "execution_count": null,
   "metadata": {},
   "outputs": [],
   "source": []
  },
  {
   "cell_type": "code",
   "execution_count": null,
   "metadata": {},
   "outputs": [],
   "source": []
  },
  {
   "cell_type": "code",
   "execution_count": null,
   "metadata": {},
   "outputs": [],
   "source": []
  },
  {
   "cell_type": "code",
   "execution_count": 255,
   "metadata": {},
   "outputs": [
    {
     "data": {
      "text/html": [
       "<div>\n",
       "<style scoped>\n",
       "    .dataframe tbody tr th:only-of-type {\n",
       "        vertical-align: middle;\n",
       "    }\n",
       "\n",
       "    .dataframe tbody tr th {\n",
       "        vertical-align: top;\n",
       "    }\n",
       "\n",
       "    .dataframe thead th {\n",
       "        text-align: right;\n",
       "    }\n",
       "</style>\n",
       "<table border=\"1\" class=\"dataframe\">\n",
       "  <thead>\n",
       "    <tr style=\"text-align: right;\">\n",
       "      <th></th>\n",
       "      <th>DATE_TESTED_POSITIVE</th>\n",
       "      <th>PATIENT</th>\n",
       "      <th>BIRTHDATE</th>\n",
       "      <th>DEATHDATE</th>\n",
       "      <th>FIRST</th>\n",
       "      <th>LAST</th>\n",
       "      <th>MARITAL</th>\n",
       "      <th>RACE</th>\n",
       "      <th>ISHISPANIC</th>\n",
       "      <th>ISFEMALE</th>\n",
       "      <th>CITY</th>\n",
       "      <th>COUNTY</th>\n",
       "      <th>ZIP</th>\n",
       "      <th>LAT</th>\n",
       "      <th>LON</th>\n",
       "      <th>HEALTHCARE_EXPENSES</th>\n",
       "      <th>HEALTHCARE_COVERAGE</th>\n",
       "      <th>ISDEAD</th>\n",
       "      <th>HAS_MOULD_ALLERGY</th>\n",
       "      <th>HAS_DIABETES</th>\n",
       "    </tr>\n",
       "  </thead>\n",
       "  <tbody>\n",
       "    <tr>\n",
       "      <th>0</th>\n",
       "      <td>2020-03-11</td>\n",
       "      <td>afa2680f-7f73-46d9-b0cd-2cf3db49724b</td>\n",
       "      <td>1978-06-16</td>\n",
       "      <td>None</td>\n",
       "      <td>Janeth814</td>\n",
       "      <td>Beatty507</td>\n",
       "      <td>M</td>\n",
       "      <td>white</td>\n",
       "      <td>nonhispanic</td>\n",
       "      <td>F</td>\n",
       "      <td>Wakefield</td>\n",
       "      <td>Middlesex County</td>\n",
       "      <td>1880.0</td>\n",
       "      <td>42.460402</td>\n",
       "      <td>-71.113293</td>\n",
       "      <td>878157.60</td>\n",
       "      <td>8128.09</td>\n",
       "      <td>0</td>\n",
       "      <td>0</td>\n",
       "      <td>0</td>\n",
       "    </tr>\n",
       "    <tr>\n",
       "      <th>1</th>\n",
       "      <td>2020-02-23</td>\n",
       "      <td>26e5d262-6cdc-4274-a5cd-d7fd439e35f9</td>\n",
       "      <td>1989-09-05</td>\n",
       "      <td>None</td>\n",
       "      <td>Adrian111</td>\n",
       "      <td>Blanda868</td>\n",
       "      <td>S</td>\n",
       "      <td>white</td>\n",
       "      <td>nonhispanic</td>\n",
       "      <td>M</td>\n",
       "      <td>Weston</td>\n",
       "      <td>Middlesex County</td>\n",
       "      <td>None</td>\n",
       "      <td>42.338808</td>\n",
       "      <td>-71.341510</td>\n",
       "      <td>21147.02</td>\n",
       "      <td>0.00</td>\n",
       "      <td>0</td>\n",
       "      <td>0</td>\n",
       "      <td>0</td>\n",
       "    </tr>\n",
       "    <tr>\n",
       "      <th>2</th>\n",
       "      <td>2020-03-03</td>\n",
       "      <td>90031c21-e8a4-416e-b60b-23e871ee62dc</td>\n",
       "      <td>1983-07-24</td>\n",
       "      <td>None</td>\n",
       "      <td>Peggie783</td>\n",
       "      <td>Turcotte120</td>\n",
       "      <td>M</td>\n",
       "      <td>white</td>\n",
       "      <td>nonhispanic</td>\n",
       "      <td>F</td>\n",
       "      <td>Millville</td>\n",
       "      <td>Worcester County</td>\n",
       "      <td>None</td>\n",
       "      <td>42.010525</td>\n",
       "      <td>-71.622337</td>\n",
       "      <td>746790.89</td>\n",
       "      <td>12704.15</td>\n",
       "      <td>0</td>\n",
       "      <td>0</td>\n",
       "      <td>1</td>\n",
       "    </tr>\n",
       "    <tr>\n",
       "      <th>3</th>\n",
       "      <td>2020-03-10</td>\n",
       "      <td>0ac2e031-ab88-41f9-ac5d-d7d588952222</td>\n",
       "      <td>1996-02-17</td>\n",
       "      <td>None</td>\n",
       "      <td>Cecil300</td>\n",
       "      <td>Barton704</td>\n",
       "      <td>None</td>\n",
       "      <td>black</td>\n",
       "      <td>nonhispanic</td>\n",
       "      <td>M</td>\n",
       "      <td>Boston</td>\n",
       "      <td>Suffolk County</td>\n",
       "      <td>2199.0</td>\n",
       "      <td>42.377211</td>\n",
       "      <td>-70.996938</td>\n",
       "      <td>620087.37</td>\n",
       "      <td>8129.28</td>\n",
       "      <td>0</td>\n",
       "      <td>0</td>\n",
       "      <td>0</td>\n",
       "    </tr>\n",
       "    <tr>\n",
       "      <th>4</th>\n",
       "      <td>2020-03-09</td>\n",
       "      <td>45138fb4-dc79-4aec-ba78-7a012d3edca7</td>\n",
       "      <td>1960-06-08</td>\n",
       "      <td>None</td>\n",
       "      <td>Shiloh191</td>\n",
       "      <td>Turner526</td>\n",
       "      <td>M</td>\n",
       "      <td>white</td>\n",
       "      <td>hispanic</td>\n",
       "      <td>F</td>\n",
       "      <td>Boston</td>\n",
       "      <td>Suffolk County</td>\n",
       "      <td>2134.0</td>\n",
       "      <td>42.350963</td>\n",
       "      <td>-71.133840</td>\n",
       "      <td>32286.70</td>\n",
       "      <td>1659.84</td>\n",
       "      <td>0</td>\n",
       "      <td>0</td>\n",
       "      <td>0</td>\n",
       "    </tr>\n",
       "    <tr>\n",
       "      <th>5</th>\n",
       "      <td>2020-03-06</td>\n",
       "      <td>fba0823a-d6fc-402f-a6c3-9394f54b1870</td>\n",
       "      <td>1981-04-04</td>\n",
       "      <td>None</td>\n",
       "      <td>Man114</td>\n",
       "      <td>Halvorson124</td>\n",
       "      <td>S</td>\n",
       "      <td>white</td>\n",
       "      <td>nonhispanic</td>\n",
       "      <td>M</td>\n",
       "      <td>Northampton</td>\n",
       "      <td>Hampshire County</td>\n",
       "      <td>1053.0</td>\n",
       "      <td>42.396915</td>\n",
       "      <td>-72.728120</td>\n",
       "      <td>989352.06</td>\n",
       "      <td>3135.56</td>\n",
       "      <td>0</td>\n",
       "      <td>0</td>\n",
       "      <td>0</td>\n",
       "    </tr>\n",
       "    <tr>\n",
       "      <th>6</th>\n",
       "      <td>2020-02-11</td>\n",
       "      <td>93ef4d47-2a1e-4af1-b792-96a6077b75e0</td>\n",
       "      <td>1984-08-14</td>\n",
       "      <td>None</td>\n",
       "      <td>Lionel365</td>\n",
       "      <td>D'Amore443</td>\n",
       "      <td>M</td>\n",
       "      <td>white</td>\n",
       "      <td>nonhispanic</td>\n",
       "      <td>M</td>\n",
       "      <td>Middleborough</td>\n",
       "      <td>Plymouth County</td>\n",
       "      <td>None</td>\n",
       "      <td>41.868198</td>\n",
       "      <td>-70.905575</td>\n",
       "      <td>823563.89</td>\n",
       "      <td>3958.76</td>\n",
       "      <td>0</td>\n",
       "      <td>0</td>\n",
       "      <td>0</td>\n",
       "    </tr>\n",
       "    <tr>\n",
       "      <th>7</th>\n",
       "      <td>2020-03-05</td>\n",
       "      <td>ff524e84-ef48-4c59-8e16-ff28514271a1</td>\n",
       "      <td>1998-06-17</td>\n",
       "      <td>None</td>\n",
       "      <td>Dessie725</td>\n",
       "      <td>Thiel172</td>\n",
       "      <td>None</td>\n",
       "      <td>white</td>\n",
       "      <td>nonhispanic</td>\n",
       "      <td>F</td>\n",
       "      <td>Quincy</td>\n",
       "      <td>Norfolk County</td>\n",
       "      <td>2170.0</td>\n",
       "      <td>42.315826</td>\n",
       "      <td>-71.027811</td>\n",
       "      <td>512151.27</td>\n",
       "      <td>4462.12</td>\n",
       "      <td>0</td>\n",
       "      <td>0</td>\n",
       "      <td>0</td>\n",
       "    </tr>\n",
       "    <tr>\n",
       "      <th>8</th>\n",
       "      <td>2020-03-12</td>\n",
       "      <td>5c6dd9dd-effb-4ba6-a059-a60579b86ee1</td>\n",
       "      <td>1976-01-27</td>\n",
       "      <td>None</td>\n",
       "      <td>Eldridge510</td>\n",
       "      <td>Wuckert783</td>\n",
       "      <td>S</td>\n",
       "      <td>asian</td>\n",
       "      <td>nonhispanic</td>\n",
       "      <td>M</td>\n",
       "      <td>Norton</td>\n",
       "      <td>Bristol County</td>\n",
       "      <td>None</td>\n",
       "      <td>41.968562</td>\n",
       "      <td>-71.206804</td>\n",
       "      <td>1077512.24</td>\n",
       "      <td>5529.52</td>\n",
       "      <td>0</td>\n",
       "      <td>0</td>\n",
       "      <td>0</td>\n",
       "    </tr>\n",
       "    <tr>\n",
       "      <th>9</th>\n",
       "      <td>2020-03-04</td>\n",
       "      <td>c58ae02e-235e-4db2-a9c3-6926e9c0c5fa</td>\n",
       "      <td>1954-03-19</td>\n",
       "      <td>2020-03-15</td>\n",
       "      <td>Tuan998</td>\n",
       "      <td>Schuster709</td>\n",
       "      <td>M</td>\n",
       "      <td>white</td>\n",
       "      <td>nonhispanic</td>\n",
       "      <td>M</td>\n",
       "      <td>Lynnfield</td>\n",
       "      <td>Essex County</td>\n",
       "      <td>1940.0</td>\n",
       "      <td>42.504375</td>\n",
       "      <td>-71.075393</td>\n",
       "      <td>1423163.19</td>\n",
       "      <td>8303.87</td>\n",
       "      <td>1</td>\n",
       "      <td>0</td>\n",
       "      <td>1</td>\n",
       "    </tr>\n",
       "  </tbody>\n",
       "</table>\n",
       "</div>"
      ],
      "text/plain": [
       "  DATE_TESTED_POSITIVE                               PATIENT   BIRTHDATE  \\\n",
       "0           2020-03-11  afa2680f-7f73-46d9-b0cd-2cf3db49724b  1978-06-16   \n",
       "1           2020-02-23  26e5d262-6cdc-4274-a5cd-d7fd439e35f9  1989-09-05   \n",
       "2           2020-03-03  90031c21-e8a4-416e-b60b-23e871ee62dc  1983-07-24   \n",
       "3           2020-03-10  0ac2e031-ab88-41f9-ac5d-d7d588952222  1996-02-17   \n",
       "4           2020-03-09  45138fb4-dc79-4aec-ba78-7a012d3edca7  1960-06-08   \n",
       "5           2020-03-06  fba0823a-d6fc-402f-a6c3-9394f54b1870  1981-04-04   \n",
       "6           2020-02-11  93ef4d47-2a1e-4af1-b792-96a6077b75e0  1984-08-14   \n",
       "7           2020-03-05  ff524e84-ef48-4c59-8e16-ff28514271a1  1998-06-17   \n",
       "8           2020-03-12  5c6dd9dd-effb-4ba6-a059-a60579b86ee1  1976-01-27   \n",
       "9           2020-03-04  c58ae02e-235e-4db2-a9c3-6926e9c0c5fa  1954-03-19   \n",
       "\n",
       "    DEATHDATE        FIRST          LAST MARITAL   RACE   ISHISPANIC ISFEMALE  \\\n",
       "0        None    Janeth814     Beatty507       M  white  nonhispanic        F   \n",
       "1        None    Adrian111     Blanda868       S  white  nonhispanic        M   \n",
       "2        None    Peggie783   Turcotte120       M  white  nonhispanic        F   \n",
       "3        None     Cecil300     Barton704    None  black  nonhispanic        M   \n",
       "4        None    Shiloh191     Turner526       M  white     hispanic        F   \n",
       "5        None       Man114  Halvorson124       S  white  nonhispanic        M   \n",
       "6        None    Lionel365    D'Amore443       M  white  nonhispanic        M   \n",
       "7        None    Dessie725      Thiel172    None  white  nonhispanic        F   \n",
       "8        None  Eldridge510    Wuckert783       S  asian  nonhispanic        M   \n",
       "9  2020-03-15      Tuan998   Schuster709       M  white  nonhispanic        M   \n",
       "\n",
       "            CITY            COUNTY     ZIP        LAT        LON  \\\n",
       "0      Wakefield  Middlesex County  1880.0  42.460402 -71.113293   \n",
       "1         Weston  Middlesex County    None  42.338808 -71.341510   \n",
       "2      Millville  Worcester County    None  42.010525 -71.622337   \n",
       "3         Boston    Suffolk County  2199.0  42.377211 -70.996938   \n",
       "4         Boston    Suffolk County  2134.0  42.350963 -71.133840   \n",
       "5    Northampton  Hampshire County  1053.0  42.396915 -72.728120   \n",
       "6  Middleborough   Plymouth County    None  41.868198 -70.905575   \n",
       "7         Quincy    Norfolk County  2170.0  42.315826 -71.027811   \n",
       "8         Norton    Bristol County    None  41.968562 -71.206804   \n",
       "9      Lynnfield      Essex County  1940.0  42.504375 -71.075393   \n",
       "\n",
       "   HEALTHCARE_EXPENSES  HEALTHCARE_COVERAGE ISDEAD HAS_MOULD_ALLERGY  \\\n",
       "0            878157.60              8128.09      0                 0   \n",
       "1             21147.02                 0.00      0                 0   \n",
       "2            746790.89             12704.15      0                 0   \n",
       "3            620087.37              8129.28      0                 0   \n",
       "4             32286.70              1659.84      0                 0   \n",
       "5            989352.06              3135.56      0                 0   \n",
       "6            823563.89              3958.76      0                 0   \n",
       "7            512151.27              4462.12      0                 0   \n",
       "8           1077512.24              5529.52      0                 0   \n",
       "9           1423163.19              8303.87      1                 0   \n",
       "\n",
       "  HAS_DIABETES  \n",
       "0            0  \n",
       "1            0  \n",
       "2            1  \n",
       "3            0  \n",
       "4            0  \n",
       "5            0  \n",
       "6            0  \n",
       "7            0  \n",
       "8            0  \n",
       "9            1  "
      ]
     },
     "execution_count": 255,
     "metadata": {},
     "output_type": "execute_result"
    }
   ],
   "source": [
    "master.head(10)"
   ]
  },
  {
   "cell_type": "code",
   "execution_count": 256,
   "metadata": {},
   "outputs": [
    {
     "data": {
      "text/plain": [
       "white     61959\n",
       "black      6306\n",
       "asian      4946\n",
       "native      400\n",
       "other        86\n",
       "Name: RACE, dtype: int64"
      ]
     },
     "execution_count": 256,
     "metadata": {},
     "output_type": "execute_result"
    }
   ],
   "source": [
    "master.RACE.value_counts()"
   ]
  },
  {
   "cell_type": "code",
   "execution_count": 257,
   "metadata": {},
   "outputs": [
    {
     "data": {
      "text/plain": [
       "<matplotlib.axes._subplots.AxesSubplot at 0x20d95af7c48>"
      ]
     },
     "execution_count": 257,
     "metadata": {},
     "output_type": "execute_result"
    },
    {
     "data": {
      "image/png": "[encoded data removed]",
      "text/plain": [
       "<Figure size 432x288 with 1 Axes>"
      ]
     },
     "metadata": {
      "needs_background": "light"
     },
     "output_type": "display_data"
    }
   ],
   "source": [
    "sns.countplot(x = 'HAS_DIABETES', hue = 'ISDEAD', data = master)"
   ]
  },
  {
   "cell_type": "code",
   "execution_count": 258,
   "metadata": {},
   "outputs": [],
   "source": [
    "master.loc[(master.RACE == 'white'), 'RACE'] = 0\n",
    "master.loc[(master.RACE == 'black'), 'RACE'] = 1\n",
    "master.loc[(master.RACE == 'asian'), 'RACE'] = 2\n",
    "master.loc[(master.RACE == 'native'), 'RACE'] = 3\n",
    "master.loc[(master.RACE == 'other'), 'RACE'] = 4"
   ]
  },
  {
   "cell_type": "code",
   "execution_count": 259,
   "metadata": {},
   "outputs": [],
   "source": [
    "master.loc[(master.ISFEMALE == 'M'), 'ISFEMALE'] = 0\n",
    "master.loc[(master.ISFEMALE == 'F'), 'ISFEMALE'] = 1"
   ]
  },
  {
   "cell_type": "code",
   "execution_count": 260,
   "metadata": {},
   "outputs": [
    {
     "data": {
      "text/plain": [
       "0    65420\n",
       "1     8277\n",
       "Name: ISHISPANIC, dtype: int64"
      ]
     },
     "execution_count": 260,
     "metadata": {},
     "output_type": "execute_result"
    }
   ],
   "source": [
    "master.loc[(master.ISHISPANIC == 'nonhispanic'), 'ISHISPANIC'] = 0\n",
    "master.loc[(master.ISHISPANIC == 'hispanic'), 'ISHISPANIC'] = 1\n",
    "master.ISHISPANIC.value_counts()"
   ]
  },
  {
   "cell_type": "code",
   "execution_count": 261,
   "metadata": {},
   "outputs": [
    {
     "name": "stdout",
     "output_type": "stream",
     "text": [
      "<class 'pandas.core.frame.DataFrame'>\n",
      "Int64Index: 73697 entries, 0 to 73696\n",
      "Data columns (total 20 columns):\n",
      " #   Column                Non-Null Count  Dtype  \n",
      "---  ------                --------------  -----  \n",
      " 0   DATE_TESTED_POSITIVE  73697 non-null  object \n",
      " 1   PATIENT               73697 non-null  object \n",
      " 2   BIRTHDATE             73697 non-null  object \n",
      " 3   DEATHDATE             5568 non-null   object \n",
      " 4   FIRST                 73697 non-null  object \n",
      " 5   LAST                  73697 non-null  object \n",
      " 6   MARITAL               67360 non-null  object \n",
      " 7   RACE                  73697 non-null  int64  \n",
      " 8   ISHISPANIC            73697 non-null  int64  \n",
      " 9   ISFEMALE              73697 non-null  int64  \n",
      " 10  CITY                  73697 non-null  object \n",
      " 11  COUNTY                73697 non-null  object \n",
      " 12  ZIP                   39687 non-null  object \n",
      " 13  LAT                   73697 non-null  float64\n",
      " 14  LON                   73697 non-null  float64\n",
      " 15  HEALTHCARE_EXPENSES   73697 non-null  float64\n",
      " 16  HEALTHCARE_COVERAGE   73697 non-null  float64\n",
      " 17  ISDEAD                73697 non-null  int64  \n",
      " 18  HAS_MOULD_ALLERGY     73697 non-null  int64  \n",
      " 19  HAS_DIABETES          73697 non-null  int64  \n",
      "dtypes: float64(4), int64(6), object(10)\n",
      "memory usage: 14.3+ MB\n"
     ]
    }
   ],
   "source": [
    "master['ISFEMALE'] = pd.to_numeric(master['ISFEMALE'])\n",
    "master['ISHISPANIC'] = pd.to_numeric(master['ISHISPANIC'])\n",
    "master['HAS_MOULD_ALLERGY'] = pd.to_numeric(master['HAS_MOULD_ALLERGY'])\n",
    "master['RACE'] = pd.to_numeric(master['RACE'])\n",
    "master['ISDEAD'] = pd.to_numeric(master['ISDEAD'])\n",
    "master['HAS_DIABETES'] = pd.to_numeric(master['HAS_DIABETES'])\n",
    "\n",
    "master.info()"
   ]
  },
  {
   "cell_type": "markdown",
   "metadata": {},
   "source": [
    "### Let's add age into the mix"
   ]
  },
  {
   "cell_type": "code",
   "execution_count": 262,
   "metadata": {},
   "outputs": [],
   "source": [
    "master['BIRTHDATE'] = pd.to_datetime(master['BIRTHDATE'])\n",
    "master['DEATHDATE'] = pd.to_datetime(master['DEATHDATE'])\n",
    "master['DATE_TESTED_POSITIVE'] = pd.to_datetime(master['DATE_TESTED_POSITIVE'])"
   ]
  },
  {
   "cell_type": "code",
   "execution_count": 263,
   "metadata": {},
   "outputs": [],
   "source": [
    "master['AGE_WHEN_TESTED'] = (master['DATE_TESTED_POSITIVE'] - master['BIRTHDATE']).dt.days / 365"
   ]
  },
  {
   "cell_type": "code",
   "execution_count": 264,
   "metadata": {},
   "outputs": [],
   "source": [
    "master['AGE_WHEN_TESTED'] = master['AGE_WHEN_TESTED'].astype(int)"
   ]
  },
  {
   "cell_type": "code",
   "execution_count": 265,
   "metadata": {},
   "outputs": [
    {
     "data": {
      "text/html": [
       "<div>\n",
       "<style scoped>\n",
       "    .dataframe tbody tr th:only-of-type {\n",
       "        vertical-align: middle;\n",
       "    }\n",
       "\n",
       "    .dataframe tbody tr th {\n",
       "        vertical-align: top;\n",
       "    }\n",
       "\n",
       "    .dataframe thead th {\n",
       "        text-align: right;\n",
       "    }\n",
       "</style>\n",
       "<table border=\"1\" class=\"dataframe\">\n",
       "  <thead>\n",
       "    <tr style=\"text-align: right;\">\n",
       "      <th></th>\n",
       "      <th>DATE_TESTED_POSITIVE</th>\n",
       "      <th>PATIENT</th>\n",
       "      <th>BIRTHDATE</th>\n",
       "      <th>DEATHDATE</th>\n",
       "      <th>FIRST</th>\n",
       "      <th>LAST</th>\n",
       "      <th>MARITAL</th>\n",
       "      <th>RACE</th>\n",
       "      <th>ISHISPANIC</th>\n",
       "      <th>ISFEMALE</th>\n",
       "      <th>...</th>\n",
       "      <th>COUNTY</th>\n",
       "      <th>ZIP</th>\n",
       "      <th>LAT</th>\n",
       "      <th>LON</th>\n",
       "      <th>HEALTHCARE_EXPENSES</th>\n",
       "      <th>HEALTHCARE_COVERAGE</th>\n",
       "      <th>ISDEAD</th>\n",
       "      <th>HAS_MOULD_ALLERGY</th>\n",
       "      <th>HAS_DIABETES</th>\n",
       "      <th>AGE_WHEN_TESTED</th>\n",
       "    </tr>\n",
       "  </thead>\n",
       "  <tbody>\n",
       "    <tr>\n",
       "      <th>0</th>\n",
       "      <td>2020-03-11</td>\n",
       "      <td>afa2680f-7f73-46d9-b0cd-2cf3db49724b</td>\n",
       "      <td>1978-06-16</td>\n",
       "      <td>NaT</td>\n",
       "      <td>Janeth814</td>\n",
       "      <td>Beatty507</td>\n",
       "      <td>M</td>\n",
       "      <td>0</td>\n",
       "      <td>0</td>\n",
       "      <td>1</td>\n",
       "      <td>...</td>\n",
       "      <td>Middlesex County</td>\n",
       "      <td>1880.0</td>\n",
       "      <td>42.460402</td>\n",
       "      <td>-71.113293</td>\n",
       "      <td>878157.60</td>\n",
       "      <td>8128.09</td>\n",
       "      <td>0</td>\n",
       "      <td>0</td>\n",
       "      <td>0</td>\n",
       "      <td>41</td>\n",
       "    </tr>\n",
       "    <tr>\n",
       "      <th>1</th>\n",
       "      <td>2020-02-23</td>\n",
       "      <td>26e5d262-6cdc-4274-a5cd-d7fd439e35f9</td>\n",
       "      <td>1989-09-05</td>\n",
       "      <td>NaT</td>\n",
       "      <td>Adrian111</td>\n",
       "      <td>Blanda868</td>\n",
       "      <td>S</td>\n",
       "      <td>0</td>\n",
       "      <td>0</td>\n",
       "      <td>0</td>\n",
       "      <td>...</td>\n",
       "      <td>Middlesex County</td>\n",
       "      <td>None</td>\n",
       "      <td>42.338808</td>\n",
       "      <td>-71.341510</td>\n",
       "      <td>21147.02</td>\n",
       "      <td>0.00</td>\n",
       "      <td>0</td>\n",
       "      <td>0</td>\n",
       "      <td>0</td>\n",
       "      <td>30</td>\n",
       "    </tr>\n",
       "    <tr>\n",
       "      <th>2</th>\n",
       "      <td>2020-03-03</td>\n",
       "      <td>90031c21-e8a4-416e-b60b-23e871ee62dc</td>\n",
       "      <td>1983-07-24</td>\n",
       "      <td>NaT</td>\n",
       "      <td>Peggie783</td>\n",
       "      <td>Turcotte120</td>\n",
       "      <td>M</td>\n",
       "      <td>0</td>\n",
       "      <td>0</td>\n",
       "      <td>1</td>\n",
       "      <td>...</td>\n",
       "      <td>Worcester County</td>\n",
       "      <td>None</td>\n",
       "      <td>42.010525</td>\n",
       "      <td>-71.622337</td>\n",
       "      <td>746790.89</td>\n",
       "      <td>12704.15</td>\n",
       "      <td>0</td>\n",
       "      <td>0</td>\n",
       "      <td>1</td>\n",
       "      <td>36</td>\n",
       "    </tr>\n",
       "    <tr>\n",
       "      <th>3</th>\n",
       "      <td>2020-03-10</td>\n",
       "      <td>0ac2e031-ab88-41f9-ac5d-d7d588952222</td>\n",
       "      <td>1996-02-17</td>\n",
       "      <td>NaT</td>\n",
       "      <td>Cecil300</td>\n",
       "      <td>Barton704</td>\n",
       "      <td>None</td>\n",
       "      <td>1</td>\n",
       "      <td>0</td>\n",
       "      <td>0</td>\n",
       "      <td>...</td>\n",
       "      <td>Suffolk County</td>\n",
       "      <td>2199.0</td>\n",
       "      <td>42.377211</td>\n",
       "      <td>-70.996938</td>\n",
       "      <td>620087.37</td>\n",
       "      <td>8129.28</td>\n",
       "      <td>0</td>\n",
       "      <td>0</td>\n",
       "      <td>0</td>\n",
       "      <td>24</td>\n",
       "    </tr>\n",
       "    <tr>\n",
       "      <th>4</th>\n",
       "      <td>2020-03-09</td>\n",
       "      <td>45138fb4-dc79-4aec-ba78-7a012d3edca7</td>\n",
       "      <td>1960-06-08</td>\n",
       "      <td>NaT</td>\n",
       "      <td>Shiloh191</td>\n",
       "      <td>Turner526</td>\n",
       "      <td>M</td>\n",
       "      <td>0</td>\n",
       "      <td>1</td>\n",
       "      <td>1</td>\n",
       "      <td>...</td>\n",
       "      <td>Suffolk County</td>\n",
       "      <td>2134.0</td>\n",
       "      <td>42.350963</td>\n",
       "      <td>-71.133840</td>\n",
       "      <td>32286.70</td>\n",
       "      <td>1659.84</td>\n",
       "      <td>0</td>\n",
       "      <td>0</td>\n",
       "      <td>0</td>\n",
       "      <td>59</td>\n",
       "    </tr>\n",
       "  </tbody>\n",
       "</table>\n",
       "<p>5 rows × 21 columns</p>\n",
       "</div>"
      ],
      "text/plain": [
       "  DATE_TESTED_POSITIVE                               PATIENT  BIRTHDATE  \\\n",
       "0           2020-03-11  afa2680f-7f73-46d9-b0cd-2cf3db49724b 1978-06-16   \n",
       "1           2020-02-23  26e5d262-6cdc-4274-a5cd-d7fd439e35f9 1989-09-05   \n",
       "2           2020-03-03  90031c21-e8a4-416e-b60b-23e871ee62dc 1983-07-24   \n",
       "3           2020-03-10  0ac2e031-ab88-41f9-ac5d-d7d588952222 1996-02-17   \n",
       "4           2020-03-09  45138fb4-dc79-4aec-ba78-7a012d3edca7 1960-06-08   \n",
       "\n",
       "  DEATHDATE      FIRST         LAST MARITAL  RACE  ISHISPANIC  ISFEMALE  ...  \\\n",
       "0       NaT  Janeth814    Beatty507       M     0           0         1  ...   \n",
       "1       NaT  Adrian111    Blanda868       S     0           0         0  ...   \n",
       "2       NaT  Peggie783  Turcotte120       M     0           0         1  ...   \n",
       "3       NaT   Cecil300    Barton704    None     1           0         0  ...   \n",
       "4       NaT  Shiloh191    Turner526       M     0           1         1  ...   \n",
       "\n",
       "             COUNTY     ZIP        LAT        LON  HEALTHCARE_EXPENSES  \\\n",
       "0  Middlesex County  1880.0  42.460402 -71.113293            878157.60   \n",
       "1  Middlesex County    None  42.338808 -71.341510             21147.02   \n",
       "2  Worcester County    None  42.010525 -71.622337            746790.89   \n",
       "3    Suffolk County  2199.0  42.377211 -70.996938            620087.37   \n",
       "4    Suffolk County  2134.0  42.350963 -71.133840             32286.70   \n",
       "\n",
       "   HEALTHCARE_COVERAGE  ISDEAD  HAS_MOULD_ALLERGY  HAS_DIABETES  \\\n",
       "0              8128.09       0                  0             0   \n",
       "1                 0.00       0                  0             0   \n",
       "2             12704.15       0                  0             1   \n",
       "3              8129.28       0                  0             0   \n",
       "4              1659.84       0                  0             0   \n",
       "\n",
       "   AGE_WHEN_TESTED  \n",
       "0               41  \n",
       "1               30  \n",
       "2               36  \n",
       "3               24  \n",
       "4               59  \n",
       "\n",
       "[5 rows x 21 columns]"
      ]
     },
     "execution_count": 265,
     "metadata": {},
     "output_type": "execute_result"
    }
   ],
   "source": [
    "master.head()"
   ]
  },
  {
   "cell_type": "code",
   "execution_count": 208,
   "metadata": {},
   "outputs": [],
   "source": [
    "X = master[['HAS_MOULD_ALLERGY', 'ISHISPANIC', 'ISFEMALE', 'RACE', 'AGE_WHEN_TESTED', 'HAS_DIABETES']]\n",
    "y = master['ISDEAD']"
   ]
  },
  {
   "cell_type": "code",
   "execution_count": 209,
   "metadata": {},
   "outputs": [
    {
     "data": {
      "text/plain": [
       "<matplotlib.axes._subplots.AxesSubplot at 0x20d90c6cdc8>"
      ]
     },
     "execution_count": 209,
     "metadata": {},
     "output_type": "execute_result"
    },
    {
     "data": {
      "image/png": "[encoded data removed]",
      "text/plain": [
       "<Figure size 432x288 with 2 Axes>"
      ]
     },
     "metadata": {
      "needs_background": "light"
     },
     "output_type": "display_data"
    }
   ],
   "source": [
    "sns.heatmap(X.corr(), annot=True)"
   ]
  },
  {
   "cell_type": "code",
   "execution_count": 266,
   "metadata": {},
   "outputs": [],
   "source": [
    "X_train, X_test, y_train, y_test = train_test_split(X, y, test_size = 0.2, random_state = 2)"
   ]
  },
  {
   "cell_type": "code",
   "execution_count": 211,
   "metadata": {},
   "outputs": [
    {
     "data": {
      "text/html": [
       "<div>\n",
       "<style scoped>\n",
       "    .dataframe tbody tr th:only-of-type {\n",
       "        vertical-align: middle;\n",
       "    }\n",
       "\n",
       "    .dataframe tbody tr th {\n",
       "        vertical-align: top;\n",
       "    }\n",
       "\n",
       "    .dataframe thead th {\n",
       "        text-align: right;\n",
       "    }\n",
       "</style>\n",
       "<table border=\"1\" class=\"dataframe\">\n",
       "  <thead>\n",
       "    <tr style=\"text-align: right;\">\n",
       "      <th></th>\n",
       "      <th>HAS_MOULD_ALLERGY</th>\n",
       "      <th>ISHISPANIC</th>\n",
       "      <th>ISFEMALE</th>\n",
       "      <th>RACE</th>\n",
       "      <th>AGE_WHEN_TESTED</th>\n",
       "      <th>HAS_DIABETES</th>\n",
       "    </tr>\n",
       "  </thead>\n",
       "  <tbody>\n",
       "    <tr>\n",
       "      <th>70848</th>\n",
       "      <td>0</td>\n",
       "      <td>0</td>\n",
       "      <td>0</td>\n",
       "      <td>0</td>\n",
       "      <td>36</td>\n",
       "      <td>0</td>\n",
       "    </tr>\n",
       "    <tr>\n",
       "      <th>12131</th>\n",
       "      <td>0</td>\n",
       "      <td>0</td>\n",
       "      <td>1</td>\n",
       "      <td>1</td>\n",
       "      <td>58</td>\n",
       "      <td>1</td>\n",
       "    </tr>\n",
       "    <tr>\n",
       "      <th>43562</th>\n",
       "      <td>0</td>\n",
       "      <td>0</td>\n",
       "      <td>0</td>\n",
       "      <td>0</td>\n",
       "      <td>53</td>\n",
       "      <td>1</td>\n",
       "    </tr>\n",
       "    <tr>\n",
       "      <th>4704</th>\n",
       "      <td>0</td>\n",
       "      <td>0</td>\n",
       "      <td>0</td>\n",
       "      <td>0</td>\n",
       "      <td>31</td>\n",
       "      <td>0</td>\n",
       "    </tr>\n",
       "    <tr>\n",
       "      <th>53712</th>\n",
       "      <td>1</td>\n",
       "      <td>0</td>\n",
       "      <td>0</td>\n",
       "      <td>0</td>\n",
       "      <td>41</td>\n",
       "      <td>0</td>\n",
       "    </tr>\n",
       "  </tbody>\n",
       "</table>\n",
       "</div>"
      ],
      "text/plain": [
       "       HAS_MOULD_ALLERGY  ISHISPANIC  ISFEMALE  RACE  AGE_WHEN_TESTED  \\\n",
       "70848                  0           0         0     0               36   \n",
       "12131                  0           0         1     1               58   \n",
       "43562                  0           0         0     0               53   \n",
       "4704                   0           0         0     0               31   \n",
       "53712                  1           0         0     0               41   \n",
       "\n",
       "       HAS_DIABETES  \n",
       "70848             0  \n",
       "12131             1  \n",
       "43562             1  \n",
       "4704              0  \n",
       "53712             0  "
      ]
     },
     "execution_count": 211,
     "metadata": {},
     "output_type": "execute_result"
    }
   ],
   "source": [
    "X_train.head()"
   ]
  },
  {
   "cell_type": "code",
   "execution_count": 212,
   "metadata": {},
   "outputs": [
    {
     "data": {
      "image/png": "[encoded data removed]",
      "text/plain": [
       "<Figure size 648x648 with 36 Axes>"
      ]
     },
     "metadata": {
      "needs_background": "light"
     },
     "output_type": "display_data"
    }
   ],
   "source": [
    "#from pandas.plotting import scatter_matrix\n",
    "from matplotlib import cm\n",
    "\n",
    "cmap = cm.get_cmap('gnuplot')\n",
    "scatter = pd.plotting.scatter_matrix(X, c=y, marker = 'o', s=40, hist_kwds={'bins':15}, figsize=(9,9), cmap = cmap)"
   ]
  },
  {
   "cell_type": "code",
   "execution_count": null,
   "metadata": {},
   "outputs": [],
   "source": [
    "from sklearn.neighbors import KNeighborsClassifier"
   ]
  },
  {
   "cell_type": "code",
   "execution_count": 280,
   "metadata": {},
   "outputs": [
    {
     "data": {
      "image/png": "[encoded data removed]",
      "text/plain": [
       "<Figure size 432x288 with 1 Axes>"
      ]
     },
     "metadata": {
      "needs_background": "light"
     },
     "output_type": "display_data"
    }
   ],
   "source": [
    "training_accuracy = []\n",
    "test_accuracy = []\n",
    "neighbors_settings = range(1,11)\n",
    "for n in neighbors_settings:\n",
    "    clf = KNeighborsClassifier(n_neighbors=n)\n",
    "    clf.fit(X_train, y_train)\n",
    "    training_accuracy.append(clf.score(X_train, y_train))\n",
    "    test_accuracy.append(clf.score(X_test, y_test))\n",
    "\n",
    "plt.plot(neighbors_settings, training_accuracy, label=\"Training Accuracy\")\n",
    "plt.plot(neighbors_settings, test_accuracy, label=\"Test Accuracy\")\n",
    "plt.ylabel('Accuracy')\n",
    "plt.xlabel('n_neighbors')\n",
    "plt.legend()\n",
    "plt.show()"
   ]
  },
  {
   "cell_type": "code",
   "execution_count": 288,
   "metadata": {},
   "outputs": [
    {
     "data": {
      "text/plain": [
       "KNeighborsClassifier(algorithm='auto', leaf_size=30, metric='minkowski',\n",
       "                     metric_params=None, n_jobs=None, n_neighbors=11, p=2,\n",
       "                     weights='uniform')"
      ]
     },
     "execution_count": 288,
     "metadata": {},
     "output_type": "execute_result"
    }
   ],
   "source": [
    "knn = KNeighborsClassifier(n_neighbors=11)\n",
    "knn.fit(X_train, y_train)"
   ]
  },
  {
   "cell_type": "code",
   "execution_count": 289,
   "metadata": {},
   "outputs": [
    {
     "name": "stdout",
     "output_type": "stream",
     "text": [
      "Test set predictions:\n",
      " [0 0 0 ... 0 0 0]\n"
     ]
    }
   ],
   "source": [
    "y_predictions = knn.predict(X_test)\n",
    "print(\"Test set predictions:\\n {}\".format(y_predictions))"
   ]
  },
  {
   "cell_type": "code",
   "execution_count": 290,
   "metadata": {},
   "outputs": [
    {
     "name": "stdout",
     "output_type": "stream",
     "text": [
      "Test set score: 0.92\n"
     ]
    }
   ],
   "source": [
    "print(\"Test set score: {:.2f}\".format(np.mean(y_predictions == y_test)))"
   ]
  },
  {
   "cell_type": "code",
   "execution_count": 291,
   "metadata": {},
   "outputs": [
    {
     "name": "stdout",
     "output_type": "stream",
     "text": [
      "Test set score: 0.92\n"
     ]
    }
   ],
   "source": [
    "print(\"Test set score: {:.2f}\".format(knn.score(X_test, y_test)))"
   ]
  },
  {
   "cell_type": "code",
   "execution_count": 292,
   "metadata": {},
   "outputs": [
    {
     "name": "stdout",
     "output_type": "stream",
     "text": [
      "Actual number of patients who died: 1119\n",
      "Predicted number of patients who died: 14\n"
     ]
    }
   ],
   "source": [
    "print(\"Actual number of patients who died: {}\".format(y_test.to_numpy().sum()))\n",
    "print(\"Predicted number of patients who died: {}\".format(y_predictions.sum()))"
   ]
  },
  {
   "cell_type": "code",
   "execution_count": 286,
   "metadata": {},
   "outputs": [
    {
     "name": "stdout",
     "output_type": "stream",
     "text": [
      "[[13614     7]\n",
      " [ 1114     5]]\n"
     ]
    }
   ],
   "source": [
    "from sklearn.metrics import classification_report, confusion_matrix\n",
    "\n",
    "# Print the resulting confusion matrix\n",
    "print(confusion_matrix(y_test, y_predictions))"
   ]
  },
  {
   "cell_type": "code",
   "execution_count": 287,
   "metadata": {},
   "outputs": [
    {
     "name": "stdout",
     "output_type": "stream",
     "text": [
      "0.92\n"
     ]
    }
   ],
   "source": [
    "accuracy = (13614+5)/(13614+12+1114)\n",
    "print(str(round(accuracy, 2)))"
   ]
  },
  {
   "cell_type": "code",
   "execution_count": 273,
   "metadata": {},
   "outputs": [
    {
     "data": {
      "text/plain": [
       "LogisticRegression(C=1.0, class_weight=None, dual=False, fit_intercept=True,\n",
       "                   intercept_scaling=1, l1_ratio=None, max_iter=10000,\n",
       "                   multi_class='auto', n_jobs=None, penalty='l2',\n",
       "                   random_state=None, solver='lbfgs', tol=0.0001, verbose=0,\n",
       "                   warm_start=False)"
      ]
     },
     "execution_count": 273,
     "metadata": {},
     "output_type": "execute_result"
    }
   ],
   "source": [
    "# Fit a logistic regression model to our train data, by converting 'DESCRIPTION' to a dummy variable, to feed it into the model.\n",
    "logisticRegression = LogisticRegression(max_iter = 10000)\n",
    "logisticRegression.fit(X_train, y_train)"
   ]
  },
  {
   "cell_type": "code",
   "execution_count": 274,
   "metadata": {},
   "outputs": [],
   "source": [
    "# Predict!\n",
    "predictions = logisticRegression.predict(X_test)"
   ]
  },
  {
   "cell_type": "code",
   "execution_count": 279,
   "metadata": {},
   "outputs": [
    {
     "name": "stdout",
     "output_type": "stream",
     "text": [
      "[0 0 0 ... 0 0 0]\n"
     ]
    }
   ],
   "source": [
    "pd.set_option('display.max_rows', 100)\n",
    "print(predictions)\n"
   ]
  },
  {
   "cell_type": "code",
   "execution_count": 83,
   "metadata": {},
   "outputs": [
    {
     "data": {
      "text/plain": [
       "0.0"
      ]
     },
     "execution_count": 83,
     "metadata": {},
     "output_type": "execute_result"
    }
   ],
   "source": [
    "round(np.mean(predictions), 2)"
   ]
  },
  {
   "cell_type": "code",
   "execution_count": 152,
   "metadata": {},
   "outputs": [
    {
     "data": {
      "text/plain": [
       "0.0"
      ]
     },
     "execution_count": 152,
     "metadata": {},
     "output_type": "execute_result"
    }
   ],
   "source": [
    "# Let's try Random Forest\n",
    "from sklearn.ensemble import RandomForestClassifier\n",
    "\n",
    "my_forest = RandomForestClassifier(random_state=1)\n",
    "my_forest.fit(X_train, y_train)\n",
    "predictions = my_forest.predict(X_test)\n",
    "round(np.mean(predictions), 2)"
   ]
  },
  {
   "cell_type": "code",
   "execution_count": null,
   "metadata": {},
   "outputs": [],
   "source": []
  }
 ],
 "metadata": {
  "kernelspec": {
   "display_name": "Python 3",
   "language": "python",
   "name": "python3"
  },
  "language_info": {
   "codemirror_mode": {
    "name": "ipython",
    "version": 3
   },
   "file_extension": ".py",
   "mimetype": "text/x-python",
   "name": "python",
   "nbconvert_exporter": "python",
   "pygments_lexer": "ipython3",
   "version": "3.7.6"
  }
 },
 "nbformat": 4,
 "nbformat_minor": 4
}
