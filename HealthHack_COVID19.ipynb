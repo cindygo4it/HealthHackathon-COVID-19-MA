{
 "cells": [
  {
   "cell_type": "markdown",
   "metadata": {},
   "source": [
    "# COVID-19 Hackathon\n",
    "\n",
    "## Challenge\n",
    "\n",
    "In this challenge, we have a training and a test data set consisting of synthetic patient health records. We will develop computational algorithms to model the risk of severe outcomes (e.g. death) to a positive test of COVID-19 in the data population. We will develop a model that will be used to predict mortality for each synthetic patient in the test data set.\n",
    "\n",
    "## About the data\n",
    "\n",
    "* COVID-19 status is defined as the patient’s test result from the SARS-CoV-2 test. A negative SARS-CoV-2 test is identified by an observation with “CODE” 94531-1 and “VALUE” of “Not detected (qualifier value)“. The “VALUE” for a positive result is “Detected (qualifier value)“.\n",
    "* Alive or deceased status is defined as the “DEATHDATE” for a patient. A patient without a “DEATHDATE” is considered alive.\n",
    "\n",
    "## Importing the data\n",
    "\n",
    "16 CSV files were made available with patient and hospital data. These files were imported into a database in SQLite and became separate tables.\n",
    "\n",
    "## Let's begin...\n",
    "\n",
    "By importing the libraries we'll use in this notebook"
   ]
  },
  {
   "cell_type": "code",
   "execution_count": 1,
   "metadata": {},
   "outputs": [],
   "source": [
    "import pandas as pd\n",
    "import numpy as np\n",
    "import sqlite3\n",
    "import matplotlib.pyplot as plt\n",
    "import seaborn as sns\n",
    "from sklearn.linear_model import LogisticRegression\n",
    "from sklearn.model_selection import train_test_split\n",
    "from sklearn.svm import SVC\n",
    "from sklearn.ensemble import RandomForestClassifier\n",
    "from sklearn.neighbors import KNeighborsClassifier\n",
    "from sklearn.metrics import classification_report, confusion_matrix"
   ]
  },
  {
   "cell_type": "code",
   "execution_count": 45,
   "metadata": {},
   "outputs": [],
   "source": [
    "# Create a SQL connection to our SQLite database\n",
    "con = sqlite3.connect(\"C:\\\\Users\\\\cgoss\\\\Downloads\\\\SQLiteDatabaseBrowserPortable\\\\Data\\\\HealthHack_TrainData.db\")\n",
    "\n",
    "#Get training data\n",
    "obser = pd.read_sql_query(\"SELECT * from observations WHERE CODE='94531-1'\" , con)\n",
    "allergies = pd.read_sql_query(\"SELECT * from allergies\" , con)\n",
    "conditions = pd.read_sql_query(\"SELECT * from conditions\", con)\n",
    "devices = pd.read_sql_query(\"SELECT * from devices\", con)\n",
    "immunizations = pd.read_sql_query(\"SELECT * from immunizations\", con)\n",
    "patients = pd.read_sql_query(\"SELECT * from patients\", con)\n",
    "\n",
    "# Be sure to close the connection\n",
    "con.close()"
   ]
  },
  {
   "cell_type": "markdown",
   "metadata": {},
   "source": [
    "#### The observations table was imported with a filter to get only rows that were for a SARS-CoV-2 test\n",
    "\n",
    "So, let's take a look at that data, note the DESCRIPTION and the VALUE (the result of the test - Detected or Not detected)"
   ]
  },
  {
   "cell_type": "code",
   "execution_count": 46,
   "metadata": {},
   "outputs": [
    {
     "data": {
      "text/html": [
       "<div>\n",
       "<style scoped>\n",
       "    .dataframe tbody tr th:only-of-type {\n",
       "        vertical-align: middle;\n",
       "    }\n",
       "\n",
       "    .dataframe tbody tr th {\n",
       "        vertical-align: top;\n",
       "    }\n",
       "\n",
       "    .dataframe thead th {\n",
       "        text-align: right;\n",
       "    }\n",
       "</style>\n",
       "<table border=\"1\" class=\"dataframe\">\n",
       "  <thead>\n",
       "    <tr style=\"text-align: right;\">\n",
       "      <th></th>\n",
       "      <th>DATE</th>\n",
       "      <th>PATIENT</th>\n",
       "      <th>ENCOUNTER</th>\n",
       "      <th>CODE</th>\n",
       "      <th>DESCRIPTION</th>\n",
       "      <th>VALUE</th>\n",
       "      <th>UNITS</th>\n",
       "      <th>TYPE</th>\n",
       "    </tr>\n",
       "  </thead>\n",
       "  <tbody>\n",
       "    <tr>\n",
       "      <th>0</th>\n",
       "      <td>2020-03-10</td>\n",
       "      <td>30fb496e-b8d3-4d36-8e50-86acb3d1a223</td>\n",
       "      <td>a703222d-f88a-45ef-be97-b3636357b5bc</td>\n",
       "      <td>94531-1</td>\n",
       "      <td>SARS-CoV-2 RNA Pnl Resp NAA+probe</td>\n",
       "      <td>Not detected (qualifier value)</td>\n",
       "      <td>None</td>\n",
       "      <td>text</td>\n",
       "    </tr>\n",
       "    <tr>\n",
       "      <th>1</th>\n",
       "      <td>2020-03-11</td>\n",
       "      <td>afa2680f-7f73-46d9-b0cd-2cf3db49724b</td>\n",
       "      <td>00bee8c8-40e5-433e-ba85-2125f133e5eb</td>\n",
       "      <td>94531-1</td>\n",
       "      <td>SARS-CoV-2 RNA Pnl Resp NAA+probe</td>\n",
       "      <td>Detected (qualifier value)</td>\n",
       "      <td>None</td>\n",
       "      <td>text</td>\n",
       "    </tr>\n",
       "    <tr>\n",
       "      <th>2</th>\n",
       "      <td>2020-02-23</td>\n",
       "      <td>26e5d262-6cdc-4274-a5cd-d7fd439e35f9</td>\n",
       "      <td>08727d55-6b17-4312-9e90-1174f54b9c22</td>\n",
       "      <td>94531-1</td>\n",
       "      <td>SARS-CoV-2 RNA Pnl Resp NAA+probe</td>\n",
       "      <td>Detected (qualifier value)</td>\n",
       "      <td>None</td>\n",
       "      <td>text</td>\n",
       "    </tr>\n",
       "    <tr>\n",
       "      <th>3</th>\n",
       "      <td>2020-03-03</td>\n",
       "      <td>90031c21-e8a4-416e-b60b-23e871ee62dc</td>\n",
       "      <td>630ee0a3-2bb2-434a-a7cb-b37c7f8a43cb</td>\n",
       "      <td>94531-1</td>\n",
       "      <td>SARS-CoV-2 RNA Pnl Resp NAA+probe</td>\n",
       "      <td>Detected (qualifier value)</td>\n",
       "      <td>None</td>\n",
       "      <td>text</td>\n",
       "    </tr>\n",
       "    <tr>\n",
       "      <th>4</th>\n",
       "      <td>2020-03-10</td>\n",
       "      <td>26e5d262-6cdc-4274-a5cd-d7fd439e35f9</td>\n",
       "      <td>e6ad9f78-fa0e-431a-b9b6-5d127a594261</td>\n",
       "      <td>94531-1</td>\n",
       "      <td>SARS-CoV-2 RNA Pnl Resp NAA+probe</td>\n",
       "      <td>Not detected (qualifier value)</td>\n",
       "      <td>None</td>\n",
       "      <td>text</td>\n",
       "    </tr>\n",
       "    <tr>\n",
       "      <th>5</th>\n",
       "      <td>2020-03-11</td>\n",
       "      <td>26e5d262-6cdc-4274-a5cd-d7fd439e35f9</td>\n",
       "      <td>e6ad9f78-fa0e-431a-b9b6-5d127a594261</td>\n",
       "      <td>94531-1</td>\n",
       "      <td>SARS-CoV-2 RNA Pnl Resp NAA+probe</td>\n",
       "      <td>Not detected (qualifier value)</td>\n",
       "      <td>None</td>\n",
       "      <td>text</td>\n",
       "    </tr>\n",
       "    <tr>\n",
       "      <th>6</th>\n",
       "      <td>2020-03-22</td>\n",
       "      <td>90031c21-e8a4-416e-b60b-23e871ee62dc</td>\n",
       "      <td>d068a77c-abcf-4c5e-a8b9-e74cbdbfe099</td>\n",
       "      <td>94531-1</td>\n",
       "      <td>SARS-CoV-2 RNA Pnl Resp NAA+probe</td>\n",
       "      <td>Not detected (qualifier value)</td>\n",
       "      <td>None</td>\n",
       "      <td>text</td>\n",
       "    </tr>\n",
       "    <tr>\n",
       "      <th>7</th>\n",
       "      <td>2020-03-23</td>\n",
       "      <td>90031c21-e8a4-416e-b60b-23e871ee62dc</td>\n",
       "      <td>d068a77c-abcf-4c5e-a8b9-e74cbdbfe099</td>\n",
       "      <td>94531-1</td>\n",
       "      <td>SARS-CoV-2 RNA Pnl Resp NAA+probe</td>\n",
       "      <td>Not detected (qualifier value)</td>\n",
       "      <td>None</td>\n",
       "      <td>text</td>\n",
       "    </tr>\n",
       "    <tr>\n",
       "      <th>8</th>\n",
       "      <td>2020-03-10</td>\n",
       "      <td>0ac2e031-ab88-41f9-ac5d-d7d588952222</td>\n",
       "      <td>6faa29bc-9e80-4386-840e-b9c5ad5644ef</td>\n",
       "      <td>94531-1</td>\n",
       "      <td>SARS-CoV-2 RNA Pnl Resp NAA+probe</td>\n",
       "      <td>Detected (qualifier value)</td>\n",
       "      <td>None</td>\n",
       "      <td>text</td>\n",
       "    </tr>\n",
       "    <tr>\n",
       "      <th>9</th>\n",
       "      <td>2020-03-09</td>\n",
       "      <td>45138fb4-dc79-4aec-ba78-7a012d3edca7</td>\n",
       "      <td>eed09e0e-a9ba-4623-82c7-9e28d90812bc</td>\n",
       "      <td>94531-1</td>\n",
       "      <td>SARS-CoV-2 RNA Pnl Resp NAA+probe</td>\n",
       "      <td>Detected (qualifier value)</td>\n",
       "      <td>None</td>\n",
       "      <td>text</td>\n",
       "    </tr>\n",
       "  </tbody>\n",
       "</table>\n",
       "</div>"
      ],
      "text/plain": [
       "         DATE                               PATIENT  \\\n",
       "0  2020-03-10  30fb496e-b8d3-4d36-8e50-86acb3d1a223   \n",
       "1  2020-03-11  afa2680f-7f73-46d9-b0cd-2cf3db49724b   \n",
       "2  2020-02-23  26e5d262-6cdc-4274-a5cd-d7fd439e35f9   \n",
       "3  2020-03-03  90031c21-e8a4-416e-b60b-23e871ee62dc   \n",
       "4  2020-03-10  26e5d262-6cdc-4274-a5cd-d7fd439e35f9   \n",
       "5  2020-03-11  26e5d262-6cdc-4274-a5cd-d7fd439e35f9   \n",
       "6  2020-03-22  90031c21-e8a4-416e-b60b-23e871ee62dc   \n",
       "7  2020-03-23  90031c21-e8a4-416e-b60b-23e871ee62dc   \n",
       "8  2020-03-10  0ac2e031-ab88-41f9-ac5d-d7d588952222   \n",
       "9  2020-03-09  45138fb4-dc79-4aec-ba78-7a012d3edca7   \n",
       "\n",
       "                              ENCOUNTER     CODE  \\\n",
       "0  a703222d-f88a-45ef-be97-b3636357b5bc  94531-1   \n",
       "1  00bee8c8-40e5-433e-ba85-2125f133e5eb  94531-1   \n",
       "2  08727d55-6b17-4312-9e90-1174f54b9c22  94531-1   \n",
       "3  630ee0a3-2bb2-434a-a7cb-b37c7f8a43cb  94531-1   \n",
       "4  e6ad9f78-fa0e-431a-b9b6-5d127a594261  94531-1   \n",
       "5  e6ad9f78-fa0e-431a-b9b6-5d127a594261  94531-1   \n",
       "6  d068a77c-abcf-4c5e-a8b9-e74cbdbfe099  94531-1   \n",
       "7  d068a77c-abcf-4c5e-a8b9-e74cbdbfe099  94531-1   \n",
       "8  6faa29bc-9e80-4386-840e-b9c5ad5644ef  94531-1   \n",
       "9  eed09e0e-a9ba-4623-82c7-9e28d90812bc  94531-1   \n",
       "\n",
       "                         DESCRIPTION                           VALUE UNITS  \\\n",
       "0  SARS-CoV-2 RNA Pnl Resp NAA+probe  Not detected (qualifier value)  None   \n",
       "1  SARS-CoV-2 RNA Pnl Resp NAA+probe      Detected (qualifier value)  None   \n",
       "2  SARS-CoV-2 RNA Pnl Resp NAA+probe      Detected (qualifier value)  None   \n",
       "3  SARS-CoV-2 RNA Pnl Resp NAA+probe      Detected (qualifier value)  None   \n",
       "4  SARS-CoV-2 RNA Pnl Resp NAA+probe  Not detected (qualifier value)  None   \n",
       "5  SARS-CoV-2 RNA Pnl Resp NAA+probe  Not detected (qualifier value)  None   \n",
       "6  SARS-CoV-2 RNA Pnl Resp NAA+probe  Not detected (qualifier value)  None   \n",
       "7  SARS-CoV-2 RNA Pnl Resp NAA+probe  Not detected (qualifier value)  None   \n",
       "8  SARS-CoV-2 RNA Pnl Resp NAA+probe      Detected (qualifier value)  None   \n",
       "9  SARS-CoV-2 RNA Pnl Resp NAA+probe      Detected (qualifier value)  None   \n",
       "\n",
       "   TYPE  \n",
       "0  text  \n",
       "1  text  \n",
       "2  text  \n",
       "3  text  \n",
       "4  text  \n",
       "5  text  \n",
       "6  text  \n",
       "7  text  \n",
       "8  text  \n",
       "9  text  "
      ]
     },
     "execution_count": 46,
     "metadata": {},
     "output_type": "execute_result"
    }
   ],
   "source": [
    "obser.head(10)"
   ]
  },
  {
   "cell_type": "code",
   "execution_count": 115,
   "metadata": {},
   "outputs": [
    {
     "data": {
      "text/plain": [
       "73697"
      ]
     },
     "execution_count": 115,
     "metadata": {},
     "output_type": "execute_result"
    }
   ],
   "source": [
    "# From looking at the data, it appears that one patient could have had the test multiple times\n",
    "len(obser.PATIENT.unique())"
   ]
  },
  {
   "cell_type": "code",
   "execution_count": 116,
   "metadata": {},
   "outputs": [
    {
     "data": {
      "text/plain": [
       "(73697, 3)"
      ]
     },
     "execution_count": 116,
     "metadata": {},
     "output_type": "execute_result"
    }
   ],
   "source": [
    "obser.shape"
   ]
  },
  {
   "cell_type": "code",
   "execution_count": 49,
   "metadata": {},
   "outputs": [],
   "source": [
    "# These extra tests appear to be a follow-up test a couple weeks after the first positive result\n",
    "# These extra tests must be confirming that the patient is COVID-19-free.\n",
    "# Let's drop those follow-up tests by dropping duplicates\n",
    "obser.drop_duplicates(subset='PATIENT', inplace=True)"
   ]
  },
  {
   "cell_type": "code",
   "execution_count": 50,
   "metadata": {},
   "outputs": [
    {
     "data": {
      "text/plain": [
       "(73697, 8)"
      ]
     },
     "execution_count": 50,
     "metadata": {},
     "output_type": "execute_result"
    }
   ],
   "source": [
    "# Now we'll drop all rows that lead to a negative test result, we are focusing on POSITIVE test result leading to death\n",
    "obser.drop(obser[obser['VALUE'] == \"Not detected (qualifier value)\"].index, axis=0, inplace=True)\n",
    "obser.shape"
   ]
  },
  {
   "cell_type": "code",
   "execution_count": 51,
   "metadata": {},
   "outputs": [
    {
     "name": "stdout",
     "output_type": "stream",
     "text": [
      "<class 'pandas.core.frame.DataFrame'>\n",
      "Int64Index: 73697 entries, 1 to 105547\n",
      "Data columns (total 8 columns):\n",
      " #   Column       Non-Null Count  Dtype \n",
      "---  ------       --------------  ----- \n",
      " 0   DATE         73697 non-null  object\n",
      " 1   PATIENT      73697 non-null  object\n",
      " 2   ENCOUNTER    73697 non-null  object\n",
      " 3   CODE         73697 non-null  object\n",
      " 4   DESCRIPTION  73697 non-null  object\n",
      " 5   VALUE        73697 non-null  object\n",
      " 6   UNITS        0 non-null      object\n",
      " 7   TYPE         73697 non-null  object\n",
      "dtypes: object(8)\n",
      "memory usage: 5.1+ MB\n"
     ]
    }
   ],
   "source": [
    "obser.info()"
   ]
  },
  {
   "cell_type": "code",
   "execution_count": 52,
   "metadata": {},
   "outputs": [],
   "source": [
    "# We'll continually drop columns we are not interested in, here, we only need 3 columns:\n",
    "obser = obser[['DATE', 'PATIENT', 'ENCOUNTER']]"
   ]
  },
  {
   "cell_type": "code",
   "execution_count": 53,
   "metadata": {},
   "outputs": [
    {
     "data": {
      "text/html": [
       "<div>\n",
       "<style scoped>\n",
       "    .dataframe tbody tr th:only-of-type {\n",
       "        vertical-align: middle;\n",
       "    }\n",
       "\n",
       "    .dataframe tbody tr th {\n",
       "        vertical-align: top;\n",
       "    }\n",
       "\n",
       "    .dataframe thead th {\n",
       "        text-align: right;\n",
       "    }\n",
       "</style>\n",
       "<table border=\"1\" class=\"dataframe\">\n",
       "  <thead>\n",
       "    <tr style=\"text-align: right;\">\n",
       "      <th></th>\n",
       "      <th>DATE</th>\n",
       "      <th>PATIENT</th>\n",
       "      <th>ENCOUNTER</th>\n",
       "    </tr>\n",
       "  </thead>\n",
       "  <tbody>\n",
       "    <tr>\n",
       "      <th>1</th>\n",
       "      <td>2020-03-11</td>\n",
       "      <td>afa2680f-7f73-46d9-b0cd-2cf3db49724b</td>\n",
       "      <td>00bee8c8-40e5-433e-ba85-2125f133e5eb</td>\n",
       "    </tr>\n",
       "    <tr>\n",
       "      <th>2</th>\n",
       "      <td>2020-02-23</td>\n",
       "      <td>26e5d262-6cdc-4274-a5cd-d7fd439e35f9</td>\n",
       "      <td>08727d55-6b17-4312-9e90-1174f54b9c22</td>\n",
       "    </tr>\n",
       "    <tr>\n",
       "      <th>3</th>\n",
       "      <td>2020-03-03</td>\n",
       "      <td>90031c21-e8a4-416e-b60b-23e871ee62dc</td>\n",
       "      <td>630ee0a3-2bb2-434a-a7cb-b37c7f8a43cb</td>\n",
       "    </tr>\n",
       "    <tr>\n",
       "      <th>8</th>\n",
       "      <td>2020-03-10</td>\n",
       "      <td>0ac2e031-ab88-41f9-ac5d-d7d588952222</td>\n",
       "      <td>6faa29bc-9e80-4386-840e-b9c5ad5644ef</td>\n",
       "    </tr>\n",
       "    <tr>\n",
       "      <th>9</th>\n",
       "      <td>2020-03-09</td>\n",
       "      <td>45138fb4-dc79-4aec-ba78-7a012d3edca7</td>\n",
       "      <td>eed09e0e-a9ba-4623-82c7-9e28d90812bc</td>\n",
       "    </tr>\n",
       "  </tbody>\n",
       "</table>\n",
       "</div>"
      ],
      "text/plain": [
       "         DATE                               PATIENT  \\\n",
       "1  2020-03-11  afa2680f-7f73-46d9-b0cd-2cf3db49724b   \n",
       "2  2020-02-23  26e5d262-6cdc-4274-a5cd-d7fd439e35f9   \n",
       "3  2020-03-03  90031c21-e8a4-416e-b60b-23e871ee62dc   \n",
       "8  2020-03-10  0ac2e031-ab88-41f9-ac5d-d7d588952222   \n",
       "9  2020-03-09  45138fb4-dc79-4aec-ba78-7a012d3edca7   \n",
       "\n",
       "                              ENCOUNTER  \n",
       "1  00bee8c8-40e5-433e-ba85-2125f133e5eb  \n",
       "2  08727d55-6b17-4312-9e90-1174f54b9c22  \n",
       "3  630ee0a3-2bb2-434a-a7cb-b37c7f8a43cb  \n",
       "8  6faa29bc-9e80-4386-840e-b9c5ad5644ef  \n",
       "9  eed09e0e-a9ba-4623-82c7-9e28d90812bc  "
      ]
     },
     "execution_count": 53,
     "metadata": {},
     "output_type": "execute_result"
    }
   ],
   "source": [
    "obser.head()"
   ]
  },
  {
   "cell_type": "markdown",
   "metadata": {},
   "source": [
    "### We are ready for our first table merge now! \n",
    "\n",
    "Let's add basic patient data to the positive COVID19 observations and create a new \"master\" dataframe."
   ]
  },
  {
   "cell_type": "code",
   "execution_count": 54,
   "metadata": {},
   "outputs": [],
   "source": [
    "master = obser.merge(patients, how=\"left\", left_on='PATIENT', right_on='Id')"
   ]
  },
  {
   "cell_type": "code",
   "execution_count": 55,
   "metadata": {},
   "outputs": [
    {
     "data": {
      "text/html": [
       "<div>\n",
       "<style scoped>\n",
       "    .dataframe tbody tr th:only-of-type {\n",
       "        vertical-align: middle;\n",
       "    }\n",
       "\n",
       "    .dataframe tbody tr th {\n",
       "        vertical-align: top;\n",
       "    }\n",
       "\n",
       "    .dataframe thead th {\n",
       "        text-align: right;\n",
       "    }\n",
       "</style>\n",
       "<table border=\"1\" class=\"dataframe\">\n",
       "  <thead>\n",
       "    <tr style=\"text-align: right;\">\n",
       "      <th></th>\n",
       "      <th>DATE</th>\n",
       "      <th>PATIENT</th>\n",
       "      <th>ENCOUNTER</th>\n",
       "      <th>Id</th>\n",
       "      <th>BIRTHDATE</th>\n",
       "      <th>DEATHDATE</th>\n",
       "      <th>SSN</th>\n",
       "      <th>DRIVERS</th>\n",
       "      <th>PASSPORT</th>\n",
       "      <th>PREFIX</th>\n",
       "      <th>...</th>\n",
       "      <th>BIRTHPLACE</th>\n",
       "      <th>ADDRESS</th>\n",
       "      <th>CITY</th>\n",
       "      <th>STATE</th>\n",
       "      <th>COUNTY</th>\n",
       "      <th>ZIP</th>\n",
       "      <th>LAT</th>\n",
       "      <th>LON</th>\n",
       "      <th>HEALTHCARE_EXPENSES</th>\n",
       "      <th>HEALTHCARE_COVERAGE</th>\n",
       "    </tr>\n",
       "  </thead>\n",
       "  <tbody>\n",
       "    <tr>\n",
       "      <th>0</th>\n",
       "      <td>2020-03-11</td>\n",
       "      <td>afa2680f-7f73-46d9-b0cd-2cf3db49724b</td>\n",
       "      <td>00bee8c8-40e5-433e-ba85-2125f133e5eb</td>\n",
       "      <td>afa2680f-7f73-46d9-b0cd-2cf3db49724b</td>\n",
       "      <td>1978-06-16</td>\n",
       "      <td>None</td>\n",
       "      <td>999-21-2569</td>\n",
       "      <td>S99940488</td>\n",
       "      <td>X6135636X</td>\n",
       "      <td>Mrs.</td>\n",
       "      <td>...</td>\n",
       "      <td>Boston  Massachusetts  US</td>\n",
       "      <td>128 Considine Plaza Apt 21</td>\n",
       "      <td>Wakefield</td>\n",
       "      <td>Massachusetts</td>\n",
       "      <td>Middlesex County</td>\n",
       "      <td>1880.0</td>\n",
       "      <td>42.460402</td>\n",
       "      <td>-71.113293</td>\n",
       "      <td>878157.60</td>\n",
       "      <td>8128.09</td>\n",
       "    </tr>\n",
       "    <tr>\n",
       "      <th>1</th>\n",
       "      <td>2020-02-23</td>\n",
       "      <td>26e5d262-6cdc-4274-a5cd-d7fd439e35f9</td>\n",
       "      <td>08727d55-6b17-4312-9e90-1174f54b9c22</td>\n",
       "      <td>26e5d262-6cdc-4274-a5cd-d7fd439e35f9</td>\n",
       "      <td>1989-09-05</td>\n",
       "      <td>None</td>\n",
       "      <td>999-39-4400</td>\n",
       "      <td>S99956192</td>\n",
       "      <td>X43478634X</td>\n",
       "      <td>Mr.</td>\n",
       "      <td>...</td>\n",
       "      <td>Hamilton  Massachusetts  US</td>\n",
       "      <td>840 Brekke Union</td>\n",
       "      <td>Weston</td>\n",
       "      <td>Massachusetts</td>\n",
       "      <td>Middlesex County</td>\n",
       "      <td>None</td>\n",
       "      <td>42.338808</td>\n",
       "      <td>-71.341510</td>\n",
       "      <td>21147.02</td>\n",
       "      <td>0.00</td>\n",
       "    </tr>\n",
       "    <tr>\n",
       "      <th>2</th>\n",
       "      <td>2020-03-03</td>\n",
       "      <td>90031c21-e8a4-416e-b60b-23e871ee62dc</td>\n",
       "      <td>630ee0a3-2bb2-434a-a7cb-b37c7f8a43cb</td>\n",
       "      <td>90031c21-e8a4-416e-b60b-23e871ee62dc</td>\n",
       "      <td>1983-07-24</td>\n",
       "      <td>None</td>\n",
       "      <td>999-86-1503</td>\n",
       "      <td>S99937062</td>\n",
       "      <td>X73557271X</td>\n",
       "      <td>Mrs.</td>\n",
       "      <td>...</td>\n",
       "      <td>Charlton  Massachusetts  US</td>\n",
       "      <td>475 Cronin Manor Unit 94</td>\n",
       "      <td>Millville</td>\n",
       "      <td>Massachusetts</td>\n",
       "      <td>Worcester County</td>\n",
       "      <td>None</td>\n",
       "      <td>42.010525</td>\n",
       "      <td>-71.622337</td>\n",
       "      <td>746790.89</td>\n",
       "      <td>12704.15</td>\n",
       "    </tr>\n",
       "    <tr>\n",
       "      <th>3</th>\n",
       "      <td>2020-03-10</td>\n",
       "      <td>0ac2e031-ab88-41f9-ac5d-d7d588952222</td>\n",
       "      <td>6faa29bc-9e80-4386-840e-b9c5ad5644ef</td>\n",
       "      <td>0ac2e031-ab88-41f9-ac5d-d7d588952222</td>\n",
       "      <td>1996-02-17</td>\n",
       "      <td>None</td>\n",
       "      <td>999-28-9132</td>\n",
       "      <td>S99982506</td>\n",
       "      <td>X18319389X</td>\n",
       "      <td>Mr.</td>\n",
       "      <td>...</td>\n",
       "      <td>Holbrook  Massachusetts  US</td>\n",
       "      <td>561 Crona Byway Unit 38</td>\n",
       "      <td>Boston</td>\n",
       "      <td>Massachusetts</td>\n",
       "      <td>Suffolk County</td>\n",
       "      <td>2199.0</td>\n",
       "      <td>42.377211</td>\n",
       "      <td>-70.996938</td>\n",
       "      <td>620087.37</td>\n",
       "      <td>8129.28</td>\n",
       "    </tr>\n",
       "    <tr>\n",
       "      <th>4</th>\n",
       "      <td>2020-03-09</td>\n",
       "      <td>45138fb4-dc79-4aec-ba78-7a012d3edca7</td>\n",
       "      <td>eed09e0e-a9ba-4623-82c7-9e28d90812bc</td>\n",
       "      <td>45138fb4-dc79-4aec-ba78-7a012d3edca7</td>\n",
       "      <td>1960-06-08</td>\n",
       "      <td>None</td>\n",
       "      <td>999-81-6574</td>\n",
       "      <td>S99977268</td>\n",
       "      <td>X8571358X</td>\n",
       "      <td>Mrs.</td>\n",
       "      <td>...</td>\n",
       "      <td>Stoughton  Massachusetts  US</td>\n",
       "      <td>807 Maggio Grove</td>\n",
       "      <td>Boston</td>\n",
       "      <td>Massachusetts</td>\n",
       "      <td>Suffolk County</td>\n",
       "      <td>2134.0</td>\n",
       "      <td>42.350963</td>\n",
       "      <td>-71.133840</td>\n",
       "      <td>32286.70</td>\n",
       "      <td>1659.84</td>\n",
       "    </tr>\n",
       "  </tbody>\n",
       "</table>\n",
       "<p>5 rows × 28 columns</p>\n",
       "</div>"
      ],
      "text/plain": [
       "         DATE                               PATIENT  \\\n",
       "0  2020-03-11  afa2680f-7f73-46d9-b0cd-2cf3db49724b   \n",
       "1  2020-02-23  26e5d262-6cdc-4274-a5cd-d7fd439e35f9   \n",
       "2  2020-03-03  90031c21-e8a4-416e-b60b-23e871ee62dc   \n",
       "3  2020-03-10  0ac2e031-ab88-41f9-ac5d-d7d588952222   \n",
       "4  2020-03-09  45138fb4-dc79-4aec-ba78-7a012d3edca7   \n",
       "\n",
       "                              ENCOUNTER                                    Id  \\\n",
       "0  00bee8c8-40e5-433e-ba85-2125f133e5eb  afa2680f-7f73-46d9-b0cd-2cf3db49724b   \n",
       "1  08727d55-6b17-4312-9e90-1174f54b9c22  26e5d262-6cdc-4274-a5cd-d7fd439e35f9   \n",
       "2  630ee0a3-2bb2-434a-a7cb-b37c7f8a43cb  90031c21-e8a4-416e-b60b-23e871ee62dc   \n",
       "3  6faa29bc-9e80-4386-840e-b9c5ad5644ef  0ac2e031-ab88-41f9-ac5d-d7d588952222   \n",
       "4  eed09e0e-a9ba-4623-82c7-9e28d90812bc  45138fb4-dc79-4aec-ba78-7a012d3edca7   \n",
       "\n",
       "    BIRTHDATE DEATHDATE          SSN    DRIVERS    PASSPORT PREFIX  ...  \\\n",
       "0  1978-06-16      None  999-21-2569  S99940488   X6135636X   Mrs.  ...   \n",
       "1  1989-09-05      None  999-39-4400  S99956192  X43478634X    Mr.  ...   \n",
       "2  1983-07-24      None  999-86-1503  S99937062  X73557271X   Mrs.  ...   \n",
       "3  1996-02-17      None  999-28-9132  S99982506  X18319389X    Mr.  ...   \n",
       "4  1960-06-08      None  999-81-6574  S99977268   X8571358X   Mrs.  ...   \n",
       "\n",
       "                     BIRTHPLACE                     ADDRESS       CITY  \\\n",
       "0     Boston  Massachusetts  US  128 Considine Plaza Apt 21  Wakefield   \n",
       "1   Hamilton  Massachusetts  US            840 Brekke Union     Weston   \n",
       "2   Charlton  Massachusetts  US    475 Cronin Manor Unit 94  Millville   \n",
       "3   Holbrook  Massachusetts  US     561 Crona Byway Unit 38     Boston   \n",
       "4  Stoughton  Massachusetts  US            807 Maggio Grove     Boston   \n",
       "\n",
       "           STATE            COUNTY     ZIP        LAT        LON  \\\n",
       "0  Massachusetts  Middlesex County  1880.0  42.460402 -71.113293   \n",
       "1  Massachusetts  Middlesex County    None  42.338808 -71.341510   \n",
       "2  Massachusetts  Worcester County    None  42.010525 -71.622337   \n",
       "3  Massachusetts    Suffolk County  2199.0  42.377211 -70.996938   \n",
       "4  Massachusetts    Suffolk County  2134.0  42.350963 -71.133840   \n",
       "\n",
       "  HEALTHCARE_EXPENSES HEALTHCARE_COVERAGE  \n",
       "0           878157.60             8128.09  \n",
       "1            21147.02                0.00  \n",
       "2           746790.89            12704.15  \n",
       "3           620087.37             8129.28  \n",
       "4            32286.70             1659.84  \n",
       "\n",
       "[5 rows x 28 columns]"
      ]
     },
     "execution_count": 55,
     "metadata": {},
     "output_type": "execute_result"
    }
   ],
   "source": [
    "# Note that PATIENT and Id are the same value, we'll need to drop that\n",
    "master.head()"
   ]
  },
  {
   "cell_type": "code",
   "execution_count": 56,
   "metadata": {},
   "outputs": [
    {
     "data": {
      "text/plain": [
       "(73697, 28)"
      ]
     },
     "execution_count": 56,
     "metadata": {},
     "output_type": "execute_result"
    }
   ],
   "source": [
    "# To be sure, let's confirm we have the same number of rows before/after the merge\n",
    "master.shape"
   ]
  },
  {
   "cell_type": "markdown",
   "metadata": {},
   "source": [
    "### Featuring engineering #1 - ISDEAD - this, unfortunately, is our target"
   ]
  },
  {
   "cell_type": "code",
   "execution_count": 57,
   "metadata": {},
   "outputs": [],
   "source": [
    "master[\"ISDEAD\"] = master['DEATHDATE'].notnull()\n",
    "master.loc[(master.ISDEAD == True), 'ISDEAD'] = 1\n",
    "master.loc[(master.ISDEAD == False), 'ISDEAD'] = 0"
   ]
  },
  {
   "cell_type": "code",
   "execution_count": 58,
   "metadata": {},
   "outputs": [
    {
     "data": {
      "text/plain": [
       "0    68129\n",
       "1     5568\n",
       "Name: ISDEAD, dtype: int64"
      ]
     },
     "execution_count": 58,
     "metadata": {},
     "output_type": "execute_result"
    }
   ],
   "source": [
    "master['ISDEAD'].value_counts()"
   ]
  },
  {
   "cell_type": "code",
   "execution_count": 59,
   "metadata": {},
   "outputs": [
    {
     "name": "stdout",
     "output_type": "stream",
     "text": [
      "Percentage of people in our dataset who tested positive for COVID-19 and ultimately died: 7.6%\n"
     ]
    }
   ],
   "source": [
    "print('Percentage of people in our dataset who tested positive for COVID-19 and ultimately died: {:.1f}%'.format(5568/73697 * 100))"
   ]
  },
  {
   "cell_type": "code",
   "execution_count": 60,
   "metadata": {},
   "outputs": [],
   "source": [
    "# We'll continually drop columns we are not interested in:\n",
    "master.drop(['Id', 'SSN', 'DRIVERS', 'PASSPORT', 'MAIDEN', 'BIRTHPLACE', 'ADDRESS', 'STATE', 'PREFIX', 'SUFFIX'], axis=1, inplace=True)"
   ]
  },
  {
   "cell_type": "code",
   "execution_count": 61,
   "metadata": {},
   "outputs": [
    {
     "name": "stdout",
     "output_type": "stream",
     "text": [
      "<class 'pandas.core.frame.DataFrame'>\n",
      "Int64Index: 73697 entries, 0 to 73696\n",
      "Data columns (total 19 columns):\n",
      " #   Column               Non-Null Count  Dtype  \n",
      "---  ------               --------------  -----  \n",
      " 0   DATE                 73697 non-null  object \n",
      " 1   PATIENT              73697 non-null  object \n",
      " 2   ENCOUNTER            73697 non-null  object \n",
      " 3   BIRTHDATE            73697 non-null  object \n",
      " 4   DEATHDATE            5568 non-null   object \n",
      " 5   FIRST                73697 non-null  object \n",
      " 6   LAST                 73697 non-null  object \n",
      " 7   MARITAL              67360 non-null  object \n",
      " 8   RACE                 73697 non-null  object \n",
      " 9   ETHNICITY            73697 non-null  object \n",
      " 10  GENDER               73697 non-null  object \n",
      " 11  CITY                 73697 non-null  object \n",
      " 12  COUNTY               73697 non-null  object \n",
      " 13  ZIP                  39687 non-null  object \n",
      " 14  LAT                  73697 non-null  float64\n",
      " 15  LON                  73697 non-null  float64\n",
      " 16  HEALTHCARE_EXPENSES  73697 non-null  float64\n",
      " 17  HEALTHCARE_COVERAGE  73697 non-null  float64\n",
      " 18  ISDEAD               73697 non-null  object \n",
      "dtypes: float64(4), object(15)\n",
      "memory usage: 11.2+ MB\n"
     ]
    }
   ],
   "source": [
    "master.info()"
   ]
  },
  {
   "cell_type": "markdown",
   "metadata": {},
   "source": [
    "### Time to add more features to our master DF - Allergies\n",
    "\n",
    "Our \"allergies\" table tracks 7 allergies. We started by taking the most common, mould allergy"
   ]
  },
  {
   "cell_type": "code",
   "execution_count": 62,
   "metadata": {},
   "outputs": [
    {
     "data": {
      "text/plain": [
       "(3966, 6)"
      ]
     },
     "execution_count": 62,
     "metadata": {},
     "output_type": "execute_result"
    }
   ],
   "source": [
    "mould_allergy = allergies.loc[(allergies['CODE'] == 419474003)]\n",
    "type(mould_allergy)\n",
    "mould_allergy.head()\n",
    "mould_allergy.shape"
   ]
  },
  {
   "cell_type": "code",
   "execution_count": 63,
   "metadata": {},
   "outputs": [],
   "source": [
    "#merge patients that have a mould allergy into master dataframe (DF)\n",
    "master = master.merge(mould_allergy, how=\"left\", on='PATIENT')"
   ]
  },
  {
   "cell_type": "code",
   "execution_count": 64,
   "metadata": {},
   "outputs": [
    {
     "data": {
      "text/plain": [
       "419474003.0    2884\n",
       "Name: CODE, dtype: int64"
      ]
     },
     "execution_count": 64,
     "metadata": {},
     "output_type": "execute_result"
    }
   ],
   "source": [
    "master.CODE.value_counts()"
   ]
  },
  {
   "cell_type": "code",
   "execution_count": 65,
   "metadata": {},
   "outputs": [],
   "source": [
    "# Feature engineering to make a boolean column from the Allergy CODE column\n",
    "master[\"CODE\"] = master['CODE'].notnull()\n",
    "master.loc[(master.CODE == True), 'CODE'] = 1\n",
    "master.loc[(master.CODE == False), 'CODE'] = 0"
   ]
  },
  {
   "cell_type": "code",
   "execution_count": 66,
   "metadata": {},
   "outputs": [],
   "source": [
    "# We decided to rename column names so that they better indicate what the boolean value meant\n",
    "# For example, instead of a column named \"ETHNICITY\", it's clearer with a 1 or a 0 to answer the question \"ISHISPANIC\"\n",
    "\n",
    "master.rename(columns={'CODE':'HAS_MOULD_ALLERGY', 'DATE':'DATE_TESTED_POSITIVE', 'ETHNICITY':'ISHISPANIC', 'GENDER':'ISFEMALE'}, inplace = True)"
   ]
  },
  {
   "cell_type": "code",
   "execution_count": 67,
   "metadata": {},
   "outputs": [],
   "source": [
    "# We'll continually drop columns we are not interested in\n",
    "master.drop(['ENCOUNTER_x', 'START', 'STOP', 'ENCOUNTER_y', 'DESCRIPTION'], axis=1, inplace=True)"
   ]
  },
  {
   "cell_type": "markdown",
   "metadata": {},
   "source": [
    "### We are now ready to add more features to the master DF: DIABETES"
   ]
  },
  {
   "cell_type": "code",
   "execution_count": 68,
   "metadata": {},
   "outputs": [
    {
     "name": "stdout",
     "output_type": "stream",
     "text": [
      "(23686, 6)\n"
     ]
    }
   ],
   "source": [
    "# merge patients that have diabetes into master df\n",
    "diabetes_patients = conditions.loc[(conditions['CODE'] == 44054006)]\n",
    "#diabetes_patients.rename(columns={'CODE':'HAS_DIABETES'}, inplace=True)\n",
    "print(diabetes_patients.shape)\n",
    "#diabetes_patients.head()"
   ]
  },
  {
   "cell_type": "code",
   "execution_count": 69,
   "metadata": {},
   "outputs": [
    {
     "data": {
      "text/plain": [
       "Index(['DATE_TESTED_POSITIVE', 'PATIENT', 'BIRTHDATE', 'DEATHDATE', 'FIRST',\n",
       "       'LAST', 'MARITAL', 'RACE', 'ISHISPANIC', 'ISFEMALE', 'CITY', 'COUNTY',\n",
       "       'ZIP', 'LAT', 'LON', 'HEALTHCARE_EXPENSES', 'HEALTHCARE_COVERAGE',\n",
       "       'ISDEAD', 'HAS_MOULD_ALLERGY'],\n",
       "      dtype='object')"
      ]
     },
     "execution_count": 69,
     "metadata": {},
     "output_type": "execute_result"
    }
   ],
   "source": [
    "master.columns"
   ]
  },
  {
   "cell_type": "code",
   "execution_count": 70,
   "metadata": {},
   "outputs": [
    {
     "data": {
      "text/plain": [
       "Index(['START', 'STOP', 'PATIENT', 'ENCOUNTER', 'CODE', 'DESCRIPTION'], dtype='object')"
      ]
     },
     "execution_count": 70,
     "metadata": {},
     "output_type": "execute_result"
    }
   ],
   "source": [
    "diabetes_patients.columns"
   ]
  },
  {
   "cell_type": "code",
   "execution_count": 71,
   "metadata": {},
   "outputs": [
    {
     "data": {
      "text/plain": [
       "Index(['DATE_TESTED_POSITIVE', 'PATIENT', 'BIRTHDATE', 'DEATHDATE', 'FIRST',\n",
       "       'LAST', 'MARITAL', 'RACE', 'ISHISPANIC', 'ISFEMALE', 'CITY', 'COUNTY',\n",
       "       'ZIP', 'LAT', 'LON', 'HEALTHCARE_EXPENSES', 'HEALTHCARE_COVERAGE',\n",
       "       'ISDEAD', 'HAS_MOULD_ALLERGY', 'START', 'STOP', 'ENCOUNTER', 'CODE',\n",
       "       'DESCRIPTION'],\n",
       "      dtype='object')"
      ]
     },
     "execution_count": 71,
     "metadata": {},
     "output_type": "execute_result"
    }
   ],
   "source": [
    "master = master.merge(diabetes_patients, how='left', on='PATIENT')\n",
    "master.columns"
   ]
  },
  {
   "cell_type": "code",
   "execution_count": 72,
   "metadata": {},
   "outputs": [],
   "source": [
    "# This is our periodic column dropping to keep things tidy, also rename the CODE column\n",
    "master.drop(['START', 'STOP', 'ENCOUNTER', 'DESCRIPTION'], axis=1, inplace=True)\n",
    "master.rename(columns={'CODE':'HAS_DIABETES'}, inplace=True)"
   ]
  },
  {
   "cell_type": "code",
   "execution_count": 73,
   "metadata": {},
   "outputs": [
    {
     "name": "stdout",
     "output_type": "stream",
     "text": [
      "Index(['DATE_TESTED_POSITIVE', 'PATIENT', 'BIRTHDATE', 'DEATHDATE', 'FIRST',\n",
      "       'LAST', 'MARITAL', 'RACE', 'ISHISPANIC', 'ISFEMALE', 'CITY', 'COUNTY',\n",
      "       'ZIP', 'LAT', 'LON', 'HEALTHCARE_EXPENSES', 'HEALTHCARE_COVERAGE',\n",
      "       'ISDEAD', 'HAS_MOULD_ALLERGY', 'HAS_DIABETES'],\n",
      "      dtype='object')\n"
     ]
    },
    {
     "data": {
      "text/plain": [
       "(73697, 20)"
      ]
     },
     "execution_count": 73,
     "metadata": {},
     "output_type": "execute_result"
    }
   ],
   "source": [
    "print(master.columns)\n",
    "master.shape"
   ]
  },
  {
   "cell_type": "code",
   "execution_count": 74,
   "metadata": {},
   "outputs": [],
   "source": [
    "master[\"HAS_DIABETES\"] = master['HAS_DIABETES'].notnull()\n",
    "master.loc[(master.HAS_DIABETES == True), 'HAS_DIABETES'] = 1\n",
    "master.loc[(master.HAS_DIABETES == False), 'HAS_DIABETES'] = 0"
   ]
  },
  {
   "cell_type": "code",
   "execution_count": 75,
   "metadata": {},
   "outputs": [
    {
     "data": {
      "text/plain": [
       "(73697, 20)"
      ]
     },
     "execution_count": 75,
     "metadata": {},
     "output_type": "execute_result"
    }
   ],
   "source": [
    "master.shape"
   ]
  },
  {
   "cell_type": "code",
   "execution_count": 91,
   "metadata": {},
   "outputs": [
    {
     "data": {
      "text/plain": [
       "<matplotlib.axes._subplots.AxesSubplot at 0x1f6fed01c88>"
      ]
     },
     "execution_count": 91,
     "metadata": {},
     "output_type": "execute_result"
    },
    {
     "data": {
      "image/png": "[encoded data removed]",
      "text/plain": [
       "<Figure size 432x288 with 1 Axes>"
      ]
     },
     "metadata": {
      "needs_background": "light"
     },
     "output_type": "display_data"
    }
   ],
   "source": [
    "sns.countplot(x = 'HAS_DIABETES', hue = 'ISDEAD', data = master)"
   ]
  },
  {
   "cell_type": "markdown",
   "metadata": {},
   "source": [
    "### Time for more features: HEART and KIDNEY issues\n",
    "\n",
    "Our research showed us that HEART and KIDNEY issues were indicators of \"severe outcomes\" to COVID-19\n",
    "See: https://www.cdc.gov/coronavirus/2019-ncov/need-extra-precautions/people-with-medical-conditions.html\n",
    "\n",
    "We started by pulling these devices into individual columns for each patient, then merged them into a final two - one for heart, and one for lung.\n",
    "\n",
    "The way we are getting this data is through the devices table:\n",
    "* If a patient has a pacemaker, stent, or debibrillator, we are concluding they have heart issues\n",
    "* If a patient is on dialysis, we are concluding they have kidney issues\n",
    "* If a patient has either videolaryngoscope or a ventilator, we are concluding these are complications related to COVID-19, and not a pre-existing condition that would be a relevant factor in determining death"
   ]
  },
  {
   "cell_type": "code",
   "execution_count": 76,
   "metadata": {},
   "outputs": [
    {
     "data": {
      "text/plain": [
       "Hemodialysis machine  device (physical object)         14088\n",
       "Implantable defibrillator  device (physical object)     5760\n",
       "Mechanical ventilator (physical object)                 4210\n",
       "Videolaryngoscope (physical object)                     4210\n",
       "Coronary artery stent (physical object)                 3698\n",
       "Implantable cardiac pacemaker (physical object)         1530\n",
       "Name: DESCRIPTION, dtype: int64"
      ]
     },
     "execution_count": 76,
     "metadata": {},
     "output_type": "execute_result"
    }
   ],
   "source": [
    "devices.DESCRIPTION.value_counts()"
   ]
  },
  {
   "cell_type": "code",
   "execution_count": 77,
   "metadata": {},
   "outputs": [
    {
     "name": "stdout",
     "output_type": "stream",
     "text": [
      "(3590, 7)\n"
     ]
    },
    {
     "name": "stderr",
     "output_type": "stream",
     "text": [
      "C:\\Users\\cgoss\\Anaconda3\\lib\\site-packages\\pandas\\core\\frame.py:3997: SettingWithCopyWarning: \n",
      "A value is trying to be set on a copy of a slice from a DataFrame\n",
      "\n",
      "See the caveats in the documentation: https://pandas.pydata.org/pandas-docs/stable/user_guide/indexing.html#returning-a-view-versus-a-copy\n",
      "  errors=errors,\n"
     ]
    },
    {
     "data": {
      "text/html": [
       "<div>\n",
       "<style scoped>\n",
       "    .dataframe tbody tr th:only-of-type {\n",
       "        vertical-align: middle;\n",
       "    }\n",
       "\n",
       "    .dataframe tbody tr th {\n",
       "        vertical-align: top;\n",
       "    }\n",
       "\n",
       "    .dataframe thead th {\n",
       "        text-align: right;\n",
       "    }\n",
       "</style>\n",
       "<table border=\"1\" class=\"dataframe\">\n",
       "  <thead>\n",
       "    <tr style=\"text-align: right;\">\n",
       "      <th></th>\n",
       "      <th>PATIENT</th>\n",
       "      <th>CODE</th>\n",
       "    </tr>\n",
       "  </thead>\n",
       "  <tbody>\n",
       "    <tr>\n",
       "      <th>9</th>\n",
       "      <td>534e1ef3-b3c7-42da-a022-fea54d6c828f</td>\n",
       "      <td>449071006</td>\n",
       "    </tr>\n",
       "    <tr>\n",
       "      <th>14</th>\n",
       "      <td>534e1ef3-b3c7-42da-a022-fea54d6c828f</td>\n",
       "      <td>36965003</td>\n",
       "    </tr>\n",
       "    <tr>\n",
       "      <th>23</th>\n",
       "      <td>5158d043-8c93-4987-8fcb-5f94e7e32fa1</td>\n",
       "      <td>36965003</td>\n",
       "    </tr>\n",
       "    <tr>\n",
       "      <th>36</th>\n",
       "      <td>358b784d-cccb-421e-84af-033aecec250b</td>\n",
       "      <td>706004007</td>\n",
       "    </tr>\n",
       "    <tr>\n",
       "      <th>38</th>\n",
       "      <td>e95e1cce-8950-432b-b56b-907b9e2696d7</td>\n",
       "      <td>705643001</td>\n",
       "    </tr>\n",
       "  </tbody>\n",
       "</table>\n",
       "</div>"
      ],
      "text/plain": [
       "                                 PATIENT       CODE\n",
       "9   534e1ef3-b3c7-42da-a022-fea54d6c828f  449071006\n",
       "14  534e1ef3-b3c7-42da-a022-fea54d6c828f   36965003\n",
       "23  5158d043-8c93-4987-8fcb-5f94e7e32fa1   36965003\n",
       "36  358b784d-cccb-421e-84af-033aecec250b  706004007\n",
       "38  e95e1cce-8950-432b-b56b-907b9e2696d7  705643001"
      ]
     },
     "execution_count": 77,
     "metadata": {},
     "output_type": "execute_result"
    }
   ],
   "source": [
    "# let's add if a patient has a device - these seem to indicate weak heart or kidney\n",
    "device_patients = devices.loc[(master['PATIENT'].isin(devices['PATIENT']))]\n",
    "#diabetes_patients.rename(columns={'CODE':'HAS_DIABETES'}, inplace=True)\n",
    "print(device_patients.shape)\n",
    "device_patients.drop(['START', 'STOP', 'ENCOUNTER', 'DESCRIPTION', 'UDI'], axis=1, inplace=True)\n",
    "device_patients.head()\n"
   ]
  },
  {
   "cell_type": "code",
   "execution_count": 78,
   "metadata": {},
   "outputs": [
    {
     "name": "stderr",
     "output_type": "stream",
     "text": [
      "C:\\Users\\cgoss\\Anaconda3\\lib\\site-packages\\ipykernel_launcher.py:3: SettingWithCopyWarning: \n",
      "A value is trying to be set on a copy of a slice from a DataFrame\n",
      "\n",
      "See the caveats in the documentation: https://pandas.pydata.org/pandas-docs/stable/user_guide/indexing.html#returning-a-view-versus-a-copy\n",
      "  This is separate from the ipykernel package so we can avoid doing imports until\n"
     ]
    }
   ],
   "source": [
    "# let's split out which device a patient has\n",
    "dialysis_patients = device_patients.loc[(device_patients['CODE'] == 36965003)]\n",
    "dialysis_patients.drop_duplicates(subset =\"PATIENT\", keep = 'first', inplace = True) \n",
    "debfib_patients = device_patients.loc[(device_patients['CODE'] == 72506001)]\n",
    "vent_patients = device_patients.loc[(device_patients['CODE'] == 449071006)]\n",
    "video_patients = device_patients.loc[(device_patients['CODE'] == 448907002)]\n",
    "stent_patients = device_patients.loc[(device_patients['CODE'] == 705643001)]\n",
    "pacemaker_patients = device_patients.loc[(device_patients['CODE'] == 706004007)]"
   ]
  },
  {
   "cell_type": "code",
   "execution_count": 79,
   "metadata": {},
   "outputs": [],
   "source": [
    "#merge patients that have each diff device into master df in its own column\n",
    "master = master.merge(dialysis_patients, how=\"left\", on='PATIENT')\n",
    "master.rename(columns={'CODE':'HAS_DIALYSIS'}, inplace=True)\n",
    "master = master.merge(debfib_patients, how=\"left\", on='PATIENT')\n",
    "master.rename(columns={'CODE':'HAS_DEFIB'}, inplace=True)\n",
    "master = master.merge(vent_patients, how=\"left\", on='PATIENT')\n",
    "master.rename(columns={'CODE':'HAS_VENT'}, inplace=True)\n",
    "master = master.merge(video_patients, how=\"left\", on='PATIENT')\n",
    "master.rename(columns={'CODE':'HAS_VIDEO'}, inplace=True)\n",
    "master = master.merge(stent_patients, how=\"left\", on='PATIENT')\n",
    "master.rename(columns={'CODE':'HAS_STENT'}, inplace=True)\n",
    "master = master.merge(pacemaker_patients, how=\"left\", on='PATIENT')\n",
    "master.rename(columns={'CODE':'HAS_PACEMAKER'}, inplace=True)"
   ]
  },
  {
   "cell_type": "code",
   "execution_count": 80,
   "metadata": {},
   "outputs": [],
   "source": [
    "master[\"HAS_KIDNEY_ISSUE\"] = master['HAS_DIALYSIS'].notnull()\n",
    "master.loc[(master.HAS_KIDNEY_ISSUE == True), 'HAS_KIDNEY_ISSUE'] = 1\n",
    "master.loc[(master.HAS_KIDNEY_ISSUE == False), 'HAS_KIDNEY_ISSUE'] = 0\n",
    "master.drop(['HAS_DIALYSIS'], axis=1, inplace=True)"
   ]
  },
  {
   "cell_type": "code",
   "execution_count": 81,
   "metadata": {},
   "outputs": [],
   "source": [
    "# We wanted to simplify by merging the 3 HEART-related devices into one column\n",
    "master[\"HAS_HEART_ISSUE\"] = master[['HAS_DEFIB', 'HAS_PACEMAKER', 'HAS_STENT']].any(axis=1)\n",
    "master.loc[(master.HAS_HEART_ISSUE == True), 'HAS_HEART_ISSUE'] = 1\n",
    "master.loc[(master.HAS_HEART_ISSUE == False), 'HAS_HEART_ISSUE'] = 0\n",
    "master.drop(['HAS_DEFIB', 'HAS_PACEMAKER', 'HAS_STENT'], axis=1, inplace=True)"
   ]
  },
  {
   "cell_type": "code",
   "execution_count": 85,
   "metadata": {},
   "outputs": [
    {
     "name": "stdout",
     "output_type": "stream",
     "text": [
      "Percent of our COVID-19 positive patients that have a heart issue: 0.594\n"
     ]
    }
   ],
   "source": [
    "print('Percent of our COVID-19 positive patients that have a heart issue: {:.3f}'.format(master.HAS_HEART_ISSUE.mean() * 100))"
   ]
  },
  {
   "cell_type": "code",
   "execution_count": 86,
   "metadata": {},
   "outputs": [
    {
     "name": "stdout",
     "output_type": "stream",
     "text": [
      "Percent of our COVID-19 positive patients that have a kidney issue: 1.4\n"
     ]
    }
   ],
   "source": [
    "print('Percent of our COVID-19 positive patients that have a kidney issue: {:.1f}'.format(master.HAS_KIDNEY_ISSUE.mean() * 100))"
   ]
  },
  {
   "cell_type": "code",
   "execution_count": 87,
   "metadata": {},
   "outputs": [
    {
     "data": {
      "text/plain": [
       "(73697, 24)"
      ]
     },
     "execution_count": 87,
     "metadata": {},
     "output_type": "execute_result"
    }
   ],
   "source": [
    "master.shape"
   ]
  },
  {
   "cell_type": "code",
   "execution_count": 88,
   "metadata": {},
   "outputs": [
    {
     "data": {
      "text/html": [
       "<div>\n",
       "<style scoped>\n",
       "    .dataframe tbody tr th:only-of-type {\n",
       "        vertical-align: middle;\n",
       "    }\n",
       "\n",
       "    .dataframe tbody tr th {\n",
       "        vertical-align: top;\n",
       "    }\n",
       "\n",
       "    .dataframe thead th {\n",
       "        text-align: right;\n",
       "    }\n",
       "</style>\n",
       "<table border=\"1\" class=\"dataframe\">\n",
       "  <thead>\n",
       "    <tr style=\"text-align: right;\">\n",
       "      <th></th>\n",
       "      <th>DATE_TESTED_POSITIVE</th>\n",
       "      <th>PATIENT</th>\n",
       "      <th>BIRTHDATE</th>\n",
       "      <th>DEATHDATE</th>\n",
       "      <th>FIRST</th>\n",
       "      <th>LAST</th>\n",
       "      <th>MARITAL</th>\n",
       "      <th>RACE</th>\n",
       "      <th>ISHISPANIC</th>\n",
       "      <th>ISFEMALE</th>\n",
       "      <th>...</th>\n",
       "      <th>LON</th>\n",
       "      <th>HEALTHCARE_EXPENSES</th>\n",
       "      <th>HEALTHCARE_COVERAGE</th>\n",
       "      <th>ISDEAD</th>\n",
       "      <th>HAS_MOULD_ALLERGY</th>\n",
       "      <th>HAS_DIABETES</th>\n",
       "      <th>HAS_VENT</th>\n",
       "      <th>HAS_VIDEO</th>\n",
       "      <th>HAS_KIDNEY_ISSUE</th>\n",
       "      <th>HAS_HEART_ISSUE</th>\n",
       "    </tr>\n",
       "  </thead>\n",
       "  <tbody>\n",
       "    <tr>\n",
       "      <th>0</th>\n",
       "      <td>2020-03-11</td>\n",
       "      <td>afa2680f-7f73-46d9-b0cd-2cf3db49724b</td>\n",
       "      <td>1978-06-16</td>\n",
       "      <td>None</td>\n",
       "      <td>Janeth814</td>\n",
       "      <td>Beatty507</td>\n",
       "      <td>M</td>\n",
       "      <td>white</td>\n",
       "      <td>nonhispanic</td>\n",
       "      <td>F</td>\n",
       "      <td>...</td>\n",
       "      <td>-71.113293</td>\n",
       "      <td>878157.60</td>\n",
       "      <td>8128.09</td>\n",
       "      <td>0</td>\n",
       "      <td>0</td>\n",
       "      <td>0</td>\n",
       "      <td>NaN</td>\n",
       "      <td>NaN</td>\n",
       "      <td>0</td>\n",
       "      <td>0</td>\n",
       "    </tr>\n",
       "    <tr>\n",
       "      <th>1</th>\n",
       "      <td>2020-02-23</td>\n",
       "      <td>26e5d262-6cdc-4274-a5cd-d7fd439e35f9</td>\n",
       "      <td>1989-09-05</td>\n",
       "      <td>None</td>\n",
       "      <td>Adrian111</td>\n",
       "      <td>Blanda868</td>\n",
       "      <td>S</td>\n",
       "      <td>white</td>\n",
       "      <td>nonhispanic</td>\n",
       "      <td>M</td>\n",
       "      <td>...</td>\n",
       "      <td>-71.341510</td>\n",
       "      <td>21147.02</td>\n",
       "      <td>0.00</td>\n",
       "      <td>0</td>\n",
       "      <td>0</td>\n",
       "      <td>0</td>\n",
       "      <td>NaN</td>\n",
       "      <td>NaN</td>\n",
       "      <td>0</td>\n",
       "      <td>0</td>\n",
       "    </tr>\n",
       "    <tr>\n",
       "      <th>2</th>\n",
       "      <td>2020-03-03</td>\n",
       "      <td>90031c21-e8a4-416e-b60b-23e871ee62dc</td>\n",
       "      <td>1983-07-24</td>\n",
       "      <td>None</td>\n",
       "      <td>Peggie783</td>\n",
       "      <td>Turcotte120</td>\n",
       "      <td>M</td>\n",
       "      <td>white</td>\n",
       "      <td>nonhispanic</td>\n",
       "      <td>F</td>\n",
       "      <td>...</td>\n",
       "      <td>-71.622337</td>\n",
       "      <td>746790.89</td>\n",
       "      <td>12704.15</td>\n",
       "      <td>0</td>\n",
       "      <td>0</td>\n",
       "      <td>1</td>\n",
       "      <td>NaN</td>\n",
       "      <td>NaN</td>\n",
       "      <td>0</td>\n",
       "      <td>0</td>\n",
       "    </tr>\n",
       "    <tr>\n",
       "      <th>3</th>\n",
       "      <td>2020-03-10</td>\n",
       "      <td>0ac2e031-ab88-41f9-ac5d-d7d588952222</td>\n",
       "      <td>1996-02-17</td>\n",
       "      <td>None</td>\n",
       "      <td>Cecil300</td>\n",
       "      <td>Barton704</td>\n",
       "      <td>None</td>\n",
       "      <td>black</td>\n",
       "      <td>nonhispanic</td>\n",
       "      <td>M</td>\n",
       "      <td>...</td>\n",
       "      <td>-70.996938</td>\n",
       "      <td>620087.37</td>\n",
       "      <td>8129.28</td>\n",
       "      <td>0</td>\n",
       "      <td>0</td>\n",
       "      <td>0</td>\n",
       "      <td>NaN</td>\n",
       "      <td>NaN</td>\n",
       "      <td>0</td>\n",
       "      <td>0</td>\n",
       "    </tr>\n",
       "    <tr>\n",
       "      <th>4</th>\n",
       "      <td>2020-03-09</td>\n",
       "      <td>45138fb4-dc79-4aec-ba78-7a012d3edca7</td>\n",
       "      <td>1960-06-08</td>\n",
       "      <td>None</td>\n",
       "      <td>Shiloh191</td>\n",
       "      <td>Turner526</td>\n",
       "      <td>M</td>\n",
       "      <td>white</td>\n",
       "      <td>hispanic</td>\n",
       "      <td>F</td>\n",
       "      <td>...</td>\n",
       "      <td>-71.133840</td>\n",
       "      <td>32286.70</td>\n",
       "      <td>1659.84</td>\n",
       "      <td>0</td>\n",
       "      <td>0</td>\n",
       "      <td>0</td>\n",
       "      <td>NaN</td>\n",
       "      <td>NaN</td>\n",
       "      <td>0</td>\n",
       "      <td>0</td>\n",
       "    </tr>\n",
       "  </tbody>\n",
       "</table>\n",
       "<p>5 rows × 24 columns</p>\n",
       "</div>"
      ],
      "text/plain": [
       "  DATE_TESTED_POSITIVE                               PATIENT   BIRTHDATE  \\\n",
       "0           2020-03-11  afa2680f-7f73-46d9-b0cd-2cf3db49724b  1978-06-16   \n",
       "1           2020-02-23  26e5d262-6cdc-4274-a5cd-d7fd439e35f9  1989-09-05   \n",
       "2           2020-03-03  90031c21-e8a4-416e-b60b-23e871ee62dc  1983-07-24   \n",
       "3           2020-03-10  0ac2e031-ab88-41f9-ac5d-d7d588952222  1996-02-17   \n",
       "4           2020-03-09  45138fb4-dc79-4aec-ba78-7a012d3edca7  1960-06-08   \n",
       "\n",
       "  DEATHDATE      FIRST         LAST MARITAL   RACE   ISHISPANIC ISFEMALE  ...  \\\n",
       "0      None  Janeth814    Beatty507       M  white  nonhispanic        F  ...   \n",
       "1      None  Adrian111    Blanda868       S  white  nonhispanic        M  ...   \n",
       "2      None  Peggie783  Turcotte120       M  white  nonhispanic        F  ...   \n",
       "3      None   Cecil300    Barton704    None  black  nonhispanic        M  ...   \n",
       "4      None  Shiloh191    Turner526       M  white     hispanic        F  ...   \n",
       "\n",
       "         LON HEALTHCARE_EXPENSES HEALTHCARE_COVERAGE  ISDEAD  \\\n",
       "0 -71.113293           878157.60             8128.09       0   \n",
       "1 -71.341510            21147.02                0.00       0   \n",
       "2 -71.622337           746790.89            12704.15       0   \n",
       "3 -70.996938           620087.37             8129.28       0   \n",
       "4 -71.133840            32286.70             1659.84       0   \n",
       "\n",
       "   HAS_MOULD_ALLERGY  HAS_DIABETES  HAS_VENT HAS_VIDEO HAS_KIDNEY_ISSUE  \\\n",
       "0                  0             0       NaN       NaN                0   \n",
       "1                  0             0       NaN       NaN                0   \n",
       "2                  0             1       NaN       NaN                0   \n",
       "3                  0             0       NaN       NaN                0   \n",
       "4                  0             0       NaN       NaN                0   \n",
       "\n",
       "  HAS_HEART_ISSUE  \n",
       "0               0  \n",
       "1               0  \n",
       "2               0  \n",
       "3               0  \n",
       "4               0  \n",
       "\n",
       "[5 rows x 24 columns]"
      ]
     },
     "execution_count": 88,
     "metadata": {},
     "output_type": "execute_result"
    }
   ],
   "source": [
    "master.head()"
   ]
  },
  {
   "cell_type": "code",
   "execution_count": 89,
   "metadata": {},
   "outputs": [
    {
     "data": {
      "text/html": [
       "<div>\n",
       "<style scoped>\n",
       "    .dataframe tbody tr th:only-of-type {\n",
       "        vertical-align: middle;\n",
       "    }\n",
       "\n",
       "    .dataframe tbody tr th {\n",
       "        vertical-align: top;\n",
       "    }\n",
       "\n",
       "    .dataframe thead th {\n",
       "        text-align: right;\n",
       "    }\n",
       "</style>\n",
       "<table border=\"1\" class=\"dataframe\">\n",
       "  <thead>\n",
       "    <tr style=\"text-align: right;\">\n",
       "      <th></th>\n",
       "      <th>DATE_TESTED_POSITIVE</th>\n",
       "      <th>PATIENT</th>\n",
       "      <th>BIRTHDATE</th>\n",
       "      <th>DEATHDATE</th>\n",
       "      <th>FIRST</th>\n",
       "      <th>LAST</th>\n",
       "      <th>MARITAL</th>\n",
       "      <th>RACE</th>\n",
       "      <th>ISHISPANIC</th>\n",
       "      <th>ISFEMALE</th>\n",
       "      <th>...</th>\n",
       "      <th>LON</th>\n",
       "      <th>HEALTHCARE_EXPENSES</th>\n",
       "      <th>HEALTHCARE_COVERAGE</th>\n",
       "      <th>ISDEAD</th>\n",
       "      <th>HAS_MOULD_ALLERGY</th>\n",
       "      <th>HAS_DIABETES</th>\n",
       "      <th>HAS_VENT</th>\n",
       "      <th>HAS_VIDEO</th>\n",
       "      <th>HAS_KIDNEY_ISSUE</th>\n",
       "      <th>HAS_HEART_ISSUE</th>\n",
       "    </tr>\n",
       "  </thead>\n",
       "  <tbody>\n",
       "    <tr>\n",
       "      <th>0</th>\n",
       "      <td>2020-03-11</td>\n",
       "      <td>afa2680f-7f73-46d9-b0cd-2cf3db49724b</td>\n",
       "      <td>1978-06-16</td>\n",
       "      <td>None</td>\n",
       "      <td>Janeth814</td>\n",
       "      <td>Beatty507</td>\n",
       "      <td>M</td>\n",
       "      <td>white</td>\n",
       "      <td>nonhispanic</td>\n",
       "      <td>F</td>\n",
       "      <td>...</td>\n",
       "      <td>-71.113293</td>\n",
       "      <td>878157.60</td>\n",
       "      <td>8128.09</td>\n",
       "      <td>0</td>\n",
       "      <td>0</td>\n",
       "      <td>0</td>\n",
       "      <td>NaN</td>\n",
       "      <td>NaN</td>\n",
       "      <td>0</td>\n",
       "      <td>0</td>\n",
       "    </tr>\n",
       "    <tr>\n",
       "      <th>1</th>\n",
       "      <td>2020-02-23</td>\n",
       "      <td>26e5d262-6cdc-4274-a5cd-d7fd439e35f9</td>\n",
       "      <td>1989-09-05</td>\n",
       "      <td>None</td>\n",
       "      <td>Adrian111</td>\n",
       "      <td>Blanda868</td>\n",
       "      <td>S</td>\n",
       "      <td>white</td>\n",
       "      <td>nonhispanic</td>\n",
       "      <td>M</td>\n",
       "      <td>...</td>\n",
       "      <td>-71.341510</td>\n",
       "      <td>21147.02</td>\n",
       "      <td>0.00</td>\n",
       "      <td>0</td>\n",
       "      <td>0</td>\n",
       "      <td>0</td>\n",
       "      <td>NaN</td>\n",
       "      <td>NaN</td>\n",
       "      <td>0</td>\n",
       "      <td>0</td>\n",
       "    </tr>\n",
       "    <tr>\n",
       "      <th>2</th>\n",
       "      <td>2020-03-03</td>\n",
       "      <td>90031c21-e8a4-416e-b60b-23e871ee62dc</td>\n",
       "      <td>1983-07-24</td>\n",
       "      <td>None</td>\n",
       "      <td>Peggie783</td>\n",
       "      <td>Turcotte120</td>\n",
       "      <td>M</td>\n",
       "      <td>white</td>\n",
       "      <td>nonhispanic</td>\n",
       "      <td>F</td>\n",
       "      <td>...</td>\n",
       "      <td>-71.622337</td>\n",
       "      <td>746790.89</td>\n",
       "      <td>12704.15</td>\n",
       "      <td>0</td>\n",
       "      <td>0</td>\n",
       "      <td>1</td>\n",
       "      <td>NaN</td>\n",
       "      <td>NaN</td>\n",
       "      <td>0</td>\n",
       "      <td>0</td>\n",
       "    </tr>\n",
       "    <tr>\n",
       "      <th>3</th>\n",
       "      <td>2020-03-10</td>\n",
       "      <td>0ac2e031-ab88-41f9-ac5d-d7d588952222</td>\n",
       "      <td>1996-02-17</td>\n",
       "      <td>None</td>\n",
       "      <td>Cecil300</td>\n",
       "      <td>Barton704</td>\n",
       "      <td>None</td>\n",
       "      <td>black</td>\n",
       "      <td>nonhispanic</td>\n",
       "      <td>M</td>\n",
       "      <td>...</td>\n",
       "      <td>-70.996938</td>\n",
       "      <td>620087.37</td>\n",
       "      <td>8129.28</td>\n",
       "      <td>0</td>\n",
       "      <td>0</td>\n",
       "      <td>0</td>\n",
       "      <td>NaN</td>\n",
       "      <td>NaN</td>\n",
       "      <td>0</td>\n",
       "      <td>0</td>\n",
       "    </tr>\n",
       "    <tr>\n",
       "      <th>4</th>\n",
       "      <td>2020-03-09</td>\n",
       "      <td>45138fb4-dc79-4aec-ba78-7a012d3edca7</td>\n",
       "      <td>1960-06-08</td>\n",
       "      <td>None</td>\n",
       "      <td>Shiloh191</td>\n",
       "      <td>Turner526</td>\n",
       "      <td>M</td>\n",
       "      <td>white</td>\n",
       "      <td>hispanic</td>\n",
       "      <td>F</td>\n",
       "      <td>...</td>\n",
       "      <td>-71.133840</td>\n",
       "      <td>32286.70</td>\n",
       "      <td>1659.84</td>\n",
       "      <td>0</td>\n",
       "      <td>0</td>\n",
       "      <td>0</td>\n",
       "      <td>NaN</td>\n",
       "      <td>NaN</td>\n",
       "      <td>0</td>\n",
       "      <td>0</td>\n",
       "    </tr>\n",
       "    <tr>\n",
       "      <th>5</th>\n",
       "      <td>2020-03-06</td>\n",
       "      <td>fba0823a-d6fc-402f-a6c3-9394f54b1870</td>\n",
       "      <td>1981-04-04</td>\n",
       "      <td>None</td>\n",
       "      <td>Man114</td>\n",
       "      <td>Halvorson124</td>\n",
       "      <td>S</td>\n",
       "      <td>white</td>\n",
       "      <td>nonhispanic</td>\n",
       "      <td>M</td>\n",
       "      <td>...</td>\n",
       "      <td>-72.728120</td>\n",
       "      <td>989352.06</td>\n",
       "      <td>3135.56</td>\n",
       "      <td>0</td>\n",
       "      <td>0</td>\n",
       "      <td>0</td>\n",
       "      <td>NaN</td>\n",
       "      <td>NaN</td>\n",
       "      <td>0</td>\n",
       "      <td>0</td>\n",
       "    </tr>\n",
       "    <tr>\n",
       "      <th>6</th>\n",
       "      <td>2020-02-11</td>\n",
       "      <td>93ef4d47-2a1e-4af1-b792-96a6077b75e0</td>\n",
       "      <td>1984-08-14</td>\n",
       "      <td>None</td>\n",
       "      <td>Lionel365</td>\n",
       "      <td>D'Amore443</td>\n",
       "      <td>M</td>\n",
       "      <td>white</td>\n",
       "      <td>nonhispanic</td>\n",
       "      <td>M</td>\n",
       "      <td>...</td>\n",
       "      <td>-70.905575</td>\n",
       "      <td>823563.89</td>\n",
       "      <td>3958.76</td>\n",
       "      <td>0</td>\n",
       "      <td>0</td>\n",
       "      <td>0</td>\n",
       "      <td>NaN</td>\n",
       "      <td>NaN</td>\n",
       "      <td>0</td>\n",
       "      <td>0</td>\n",
       "    </tr>\n",
       "    <tr>\n",
       "      <th>7</th>\n",
       "      <td>2020-03-05</td>\n",
       "      <td>ff524e84-ef48-4c59-8e16-ff28514271a1</td>\n",
       "      <td>1998-06-17</td>\n",
       "      <td>None</td>\n",
       "      <td>Dessie725</td>\n",
       "      <td>Thiel172</td>\n",
       "      <td>None</td>\n",
       "      <td>white</td>\n",
       "      <td>nonhispanic</td>\n",
       "      <td>F</td>\n",
       "      <td>...</td>\n",
       "      <td>-71.027811</td>\n",
       "      <td>512151.27</td>\n",
       "      <td>4462.12</td>\n",
       "      <td>0</td>\n",
       "      <td>0</td>\n",
       "      <td>0</td>\n",
       "      <td>NaN</td>\n",
       "      <td>NaN</td>\n",
       "      <td>0</td>\n",
       "      <td>0</td>\n",
       "    </tr>\n",
       "    <tr>\n",
       "      <th>8</th>\n",
       "      <td>2020-03-12</td>\n",
       "      <td>5c6dd9dd-effb-4ba6-a059-a60579b86ee1</td>\n",
       "      <td>1976-01-27</td>\n",
       "      <td>None</td>\n",
       "      <td>Eldridge510</td>\n",
       "      <td>Wuckert783</td>\n",
       "      <td>S</td>\n",
       "      <td>asian</td>\n",
       "      <td>nonhispanic</td>\n",
       "      <td>M</td>\n",
       "      <td>...</td>\n",
       "      <td>-71.206804</td>\n",
       "      <td>1077512.24</td>\n",
       "      <td>5529.52</td>\n",
       "      <td>0</td>\n",
       "      <td>0</td>\n",
       "      <td>0</td>\n",
       "      <td>NaN</td>\n",
       "      <td>NaN</td>\n",
       "      <td>0</td>\n",
       "      <td>0</td>\n",
       "    </tr>\n",
       "    <tr>\n",
       "      <th>9</th>\n",
       "      <td>2020-03-04</td>\n",
       "      <td>c58ae02e-235e-4db2-a9c3-6926e9c0c5fa</td>\n",
       "      <td>1954-03-19</td>\n",
       "      <td>2020-03-15</td>\n",
       "      <td>Tuan998</td>\n",
       "      <td>Schuster709</td>\n",
       "      <td>M</td>\n",
       "      <td>white</td>\n",
       "      <td>nonhispanic</td>\n",
       "      <td>M</td>\n",
       "      <td>...</td>\n",
       "      <td>-71.075393</td>\n",
       "      <td>1423163.19</td>\n",
       "      <td>8303.87</td>\n",
       "      <td>1</td>\n",
       "      <td>0</td>\n",
       "      <td>1</td>\n",
       "      <td>NaN</td>\n",
       "      <td>NaN</td>\n",
       "      <td>0</td>\n",
       "      <td>0</td>\n",
       "    </tr>\n",
       "  </tbody>\n",
       "</table>\n",
       "<p>10 rows × 24 columns</p>\n",
       "</div>"
      ],
      "text/plain": [
       "  DATE_TESTED_POSITIVE                               PATIENT   BIRTHDATE  \\\n",
       "0           2020-03-11  afa2680f-7f73-46d9-b0cd-2cf3db49724b  1978-06-16   \n",
       "1           2020-02-23  26e5d262-6cdc-4274-a5cd-d7fd439e35f9  1989-09-05   \n",
       "2           2020-03-03  90031c21-e8a4-416e-b60b-23e871ee62dc  1983-07-24   \n",
       "3           2020-03-10  0ac2e031-ab88-41f9-ac5d-d7d588952222  1996-02-17   \n",
       "4           2020-03-09  45138fb4-dc79-4aec-ba78-7a012d3edca7  1960-06-08   \n",
       "5           2020-03-06  fba0823a-d6fc-402f-a6c3-9394f54b1870  1981-04-04   \n",
       "6           2020-02-11  93ef4d47-2a1e-4af1-b792-96a6077b75e0  1984-08-14   \n",
       "7           2020-03-05  ff524e84-ef48-4c59-8e16-ff28514271a1  1998-06-17   \n",
       "8           2020-03-12  5c6dd9dd-effb-4ba6-a059-a60579b86ee1  1976-01-27   \n",
       "9           2020-03-04  c58ae02e-235e-4db2-a9c3-6926e9c0c5fa  1954-03-19   \n",
       "\n",
       "    DEATHDATE        FIRST          LAST MARITAL   RACE   ISHISPANIC ISFEMALE  \\\n",
       "0        None    Janeth814     Beatty507       M  white  nonhispanic        F   \n",
       "1        None    Adrian111     Blanda868       S  white  nonhispanic        M   \n",
       "2        None    Peggie783   Turcotte120       M  white  nonhispanic        F   \n",
       "3        None     Cecil300     Barton704    None  black  nonhispanic        M   \n",
       "4        None    Shiloh191     Turner526       M  white     hispanic        F   \n",
       "5        None       Man114  Halvorson124       S  white  nonhispanic        M   \n",
       "6        None    Lionel365    D'Amore443       M  white  nonhispanic        M   \n",
       "7        None    Dessie725      Thiel172    None  white  nonhispanic        F   \n",
       "8        None  Eldridge510    Wuckert783       S  asian  nonhispanic        M   \n",
       "9  2020-03-15      Tuan998   Schuster709       M  white  nonhispanic        M   \n",
       "\n",
       "   ...        LON HEALTHCARE_EXPENSES HEALTHCARE_COVERAGE  ISDEAD  \\\n",
       "0  ... -71.113293           878157.60             8128.09       0   \n",
       "1  ... -71.341510            21147.02                0.00       0   \n",
       "2  ... -71.622337           746790.89            12704.15       0   \n",
       "3  ... -70.996938           620087.37             8129.28       0   \n",
       "4  ... -71.133840            32286.70             1659.84       0   \n",
       "5  ... -72.728120           989352.06             3135.56       0   \n",
       "6  ... -70.905575           823563.89             3958.76       0   \n",
       "7  ... -71.027811           512151.27             4462.12       0   \n",
       "8  ... -71.206804          1077512.24             5529.52       0   \n",
       "9  ... -71.075393          1423163.19             8303.87       1   \n",
       "\n",
       "   HAS_MOULD_ALLERGY  HAS_DIABETES  HAS_VENT HAS_VIDEO HAS_KIDNEY_ISSUE  \\\n",
       "0                  0             0       NaN       NaN                0   \n",
       "1                  0             0       NaN       NaN                0   \n",
       "2                  0             1       NaN       NaN                0   \n",
       "3                  0             0       NaN       NaN                0   \n",
       "4                  0             0       NaN       NaN                0   \n",
       "5                  0             0       NaN       NaN                0   \n",
       "6                  0             0       NaN       NaN                0   \n",
       "7                  0             0       NaN       NaN                0   \n",
       "8                  0             0       NaN       NaN                0   \n",
       "9                  0             1       NaN       NaN                0   \n",
       "\n",
       "  HAS_HEART_ISSUE  \n",
       "0               0  \n",
       "1               0  \n",
       "2               0  \n",
       "3               0  \n",
       "4               0  \n",
       "5               0  \n",
       "6               0  \n",
       "7               0  \n",
       "8               0  \n",
       "9               0  \n",
       "\n",
       "[10 rows x 24 columns]"
      ]
     },
     "execution_count": 89,
     "metadata": {},
     "output_type": "execute_result"
    }
   ],
   "source": [
    "master.head(10)"
   ]
  },
  {
   "cell_type": "markdown",
   "metadata": {},
   "source": [
    "### Now we will add another feature: RACE"
   ]
  },
  {
   "cell_type": "code",
   "execution_count": 90,
   "metadata": {},
   "outputs": [
    {
     "data": {
      "text/plain": [
       "white     61959\n",
       "black      6306\n",
       "asian      4946\n",
       "native      400\n",
       "other        86\n",
       "Name: RACE, dtype: int64"
      ]
     },
     "execution_count": 90,
     "metadata": {},
     "output_type": "execute_result"
    }
   ],
   "source": [
    "master.RACE.value_counts()"
   ]
  },
  {
   "cell_type": "code",
   "execution_count": 92,
   "metadata": {},
   "outputs": [],
   "source": [
    "master.loc[(master.RACE == 'white'), 'RACE'] = 0\n",
    "master.loc[(master.RACE == 'black'), 'RACE'] = 1\n",
    "master.loc[(master.RACE == 'asian'), 'RACE'] = 2\n",
    "master.loc[(master.RACE == 'native'), 'RACE'] = 3\n",
    "master.loc[(master.RACE == 'other'), 'RACE'] = 4"
   ]
  },
  {
   "cell_type": "markdown",
   "metadata": {},
   "source": [
    "### And another feature: GENDER"
   ]
  },
  {
   "cell_type": "code",
   "execution_count": 98,
   "metadata": {},
   "outputs": [],
   "source": [
    "master.loc[(master.ISFEMALE == 'M'), 'ISFEMALE'] = 0\n",
    "master.loc[(master.ISFEMALE == 'F'), 'ISFEMALE'] = 1"
   ]
  },
  {
   "cell_type": "markdown",
   "metadata": {},
   "source": [
    "### And another feature: ETHNICITY - only 2 values hispanic/nonhispanic"
   ]
  },
  {
   "cell_type": "code",
   "execution_count": 93,
   "metadata": {},
   "outputs": [
    {
     "data": {
      "text/plain": [
       "0    65420\n",
       "1     8277\n",
       "Name: ISHISPANIC, dtype: int64"
      ]
     },
     "execution_count": 93,
     "metadata": {},
     "output_type": "execute_result"
    }
   ],
   "source": [
    "master.loc[(master.ISHISPANIC == 'nonhispanic'), 'ISHISPANIC'] = 0\n",
    "master.loc[(master.ISHISPANIC == 'hispanic'), 'ISHISPANIC'] = 1\n",
    "master.ISHISPANIC.value_counts()"
   ]
  },
  {
   "cell_type": "markdown",
   "metadata": {},
   "source": [
    "### And another feature: AGE"
   ]
  },
  {
   "cell_type": "code",
   "execution_count": 94,
   "metadata": {},
   "outputs": [],
   "source": [
    "master['BIRTHDATE'] = pd.to_datetime(master['BIRTHDATE'])\n",
    "master['DEATHDATE'] = pd.to_datetime(master['DEATHDATE'])\n",
    "master['DATE_TESTED_POSITIVE'] = pd.to_datetime(master['DATE_TESTED_POSITIVE'])"
   ]
  },
  {
   "cell_type": "code",
   "execution_count": 95,
   "metadata": {},
   "outputs": [],
   "source": [
    "master['AGE_WHEN_TESTED'] = (master['DATE_TESTED_POSITIVE'] - master['BIRTHDATE']).dt.days / 365"
   ]
  },
  {
   "cell_type": "code",
   "execution_count": 96,
   "metadata": {},
   "outputs": [],
   "source": [
    "master['AGE_WHEN_TESTED'] = master['AGE_WHEN_TESTED'].astype(int)"
   ]
  },
  {
   "cell_type": "markdown",
   "metadata": {},
   "source": [
    "### FINAL STEP before we start running models: convert all columns to numeric values"
   ]
  },
  {
   "cell_type": "code",
   "execution_count": 99,
   "metadata": {},
   "outputs": [
    {
     "name": "stdout",
     "output_type": "stream",
     "text": [
      "<class 'pandas.core.frame.DataFrame'>\n",
      "Int64Index: 73697 entries, 0 to 73696\n",
      "Data columns (total 25 columns):\n",
      " #   Column                Non-Null Count  Dtype         \n",
      "---  ------                --------------  -----         \n",
      " 0   DATE_TESTED_POSITIVE  73697 non-null  datetime64[ns]\n",
      " 1   PATIENT               73697 non-null  object        \n",
      " 2   BIRTHDATE             73697 non-null  datetime64[ns]\n",
      " 3   DEATHDATE             5568 non-null   datetime64[ns]\n",
      " 4   FIRST                 73697 non-null  object        \n",
      " 5   LAST                  73697 non-null  object        \n",
      " 6   MARITAL               67360 non-null  object        \n",
      " 7   RACE                  73697 non-null  int64         \n",
      " 8   ISHISPANIC            73697 non-null  int64         \n",
      " 9   ISFEMALE              73697 non-null  int64         \n",
      " 10  CITY                  73697 non-null  object        \n",
      " 11  COUNTY                73697 non-null  object        \n",
      " 12  ZIP                   39687 non-null  object        \n",
      " 13  LAT                   73697 non-null  float64       \n",
      " 14  LON                   73697 non-null  float64       \n",
      " 15  HEALTHCARE_EXPENSES   73697 non-null  float64       \n",
      " 16  HEALTHCARE_COVERAGE   73697 non-null  float64       \n",
      " 17  ISDEAD                73697 non-null  int64         \n",
      " 18  HAS_MOULD_ALLERGY     73697 non-null  int64         \n",
      " 19  HAS_DIABETES          73697 non-null  int64         \n",
      " 20  HAS_VENT              476 non-null    float64       \n",
      " 21  HAS_VIDEO             441 non-null    float64       \n",
      " 22  HAS_KIDNEY_ISSUE      73697 non-null  int64         \n",
      " 23  HAS_HEART_ISSUE       73697 non-null  int64         \n",
      " 24  AGE_WHEN_TESTED       73697 non-null  int32         \n",
      "dtypes: datetime64[ns](3), float64(6), int32(1), int64(8), object(7)\n",
      "memory usage: 16.8+ MB\n"
     ]
    }
   ],
   "source": [
    "master['ISFEMALE'] = pd.to_numeric(master['ISFEMALE'])\n",
    "master['ISHISPANIC'] = pd.to_numeric(master['ISHISPANIC'])\n",
    "master['HAS_MOULD_ALLERGY'] = pd.to_numeric(master['HAS_MOULD_ALLERGY'])\n",
    "master['RACE'] = pd.to_numeric(master['RACE'])\n",
    "master['ISDEAD'] = pd.to_numeric(master['ISDEAD'])\n",
    "master['HAS_DIABETES'] = pd.to_numeric(master['HAS_DIABETES'])\n",
    "master['HAS_HEART_ISSUE'] = pd.to_numeric(master['HAS_HEART_ISSUE'])\n",
    "master['HAS_KIDNEY_ISSUE'] = pd.to_numeric(master['HAS_KIDNEY_ISSUE'])\n",
    "\n",
    "master.info()"
   ]
  },
  {
   "cell_type": "code",
   "execution_count": 100,
   "metadata": {},
   "outputs": [
    {
     "data": {
      "text/html": [
       "<div>\n",
       "<style scoped>\n",
       "    .dataframe tbody tr th:only-of-type {\n",
       "        vertical-align: middle;\n",
       "    }\n",
       "\n",
       "    .dataframe tbody tr th {\n",
       "        vertical-align: top;\n",
       "    }\n",
       "\n",
       "    .dataframe thead th {\n",
       "        text-align: right;\n",
       "    }\n",
       "</style>\n",
       "<table border=\"1\" class=\"dataframe\">\n",
       "  <thead>\n",
       "    <tr style=\"text-align: right;\">\n",
       "      <th></th>\n",
       "      <th>DATE_TESTED_POSITIVE</th>\n",
       "      <th>PATIENT</th>\n",
       "      <th>BIRTHDATE</th>\n",
       "      <th>DEATHDATE</th>\n",
       "      <th>FIRST</th>\n",
       "      <th>LAST</th>\n",
       "      <th>MARITAL</th>\n",
       "      <th>RACE</th>\n",
       "      <th>ISHISPANIC</th>\n",
       "      <th>ISFEMALE</th>\n",
       "      <th>...</th>\n",
       "      <th>HEALTHCARE_EXPENSES</th>\n",
       "      <th>HEALTHCARE_COVERAGE</th>\n",
       "      <th>ISDEAD</th>\n",
       "      <th>HAS_MOULD_ALLERGY</th>\n",
       "      <th>HAS_DIABETES</th>\n",
       "      <th>HAS_VENT</th>\n",
       "      <th>HAS_VIDEO</th>\n",
       "      <th>HAS_KIDNEY_ISSUE</th>\n",
       "      <th>HAS_HEART_ISSUE</th>\n",
       "      <th>AGE_WHEN_TESTED</th>\n",
       "    </tr>\n",
       "  </thead>\n",
       "  <tbody>\n",
       "    <tr>\n",
       "      <th>0</th>\n",
       "      <td>2020-03-11</td>\n",
       "      <td>afa2680f-7f73-46d9-b0cd-2cf3db49724b</td>\n",
       "      <td>1978-06-16</td>\n",
       "      <td>NaT</td>\n",
       "      <td>Janeth814</td>\n",
       "      <td>Beatty507</td>\n",
       "      <td>M</td>\n",
       "      <td>0</td>\n",
       "      <td>0</td>\n",
       "      <td>1</td>\n",
       "      <td>...</td>\n",
       "      <td>878157.60</td>\n",
       "      <td>8128.09</td>\n",
       "      <td>0</td>\n",
       "      <td>0</td>\n",
       "      <td>0</td>\n",
       "      <td>NaN</td>\n",
       "      <td>NaN</td>\n",
       "      <td>0</td>\n",
       "      <td>0</td>\n",
       "      <td>41</td>\n",
       "    </tr>\n",
       "    <tr>\n",
       "      <th>1</th>\n",
       "      <td>2020-02-23</td>\n",
       "      <td>26e5d262-6cdc-4274-a5cd-d7fd439e35f9</td>\n",
       "      <td>1989-09-05</td>\n",
       "      <td>NaT</td>\n",
       "      <td>Adrian111</td>\n",
       "      <td>Blanda868</td>\n",
       "      <td>S</td>\n",
       "      <td>0</td>\n",
       "      <td>0</td>\n",
       "      <td>0</td>\n",
       "      <td>...</td>\n",
       "      <td>21147.02</td>\n",
       "      <td>0.00</td>\n",
       "      <td>0</td>\n",
       "      <td>0</td>\n",
       "      <td>0</td>\n",
       "      <td>NaN</td>\n",
       "      <td>NaN</td>\n",
       "      <td>0</td>\n",
       "      <td>0</td>\n",
       "      <td>30</td>\n",
       "    </tr>\n",
       "    <tr>\n",
       "      <th>2</th>\n",
       "      <td>2020-03-03</td>\n",
       "      <td>90031c21-e8a4-416e-b60b-23e871ee62dc</td>\n",
       "      <td>1983-07-24</td>\n",
       "      <td>NaT</td>\n",
       "      <td>Peggie783</td>\n",
       "      <td>Turcotte120</td>\n",
       "      <td>M</td>\n",
       "      <td>0</td>\n",
       "      <td>0</td>\n",
       "      <td>1</td>\n",
       "      <td>...</td>\n",
       "      <td>746790.89</td>\n",
       "      <td>12704.15</td>\n",
       "      <td>0</td>\n",
       "      <td>0</td>\n",
       "      <td>1</td>\n",
       "      <td>NaN</td>\n",
       "      <td>NaN</td>\n",
       "      <td>0</td>\n",
       "      <td>0</td>\n",
       "      <td>36</td>\n",
       "    </tr>\n",
       "    <tr>\n",
       "      <th>3</th>\n",
       "      <td>2020-03-10</td>\n",
       "      <td>0ac2e031-ab88-41f9-ac5d-d7d588952222</td>\n",
       "      <td>1996-02-17</td>\n",
       "      <td>NaT</td>\n",
       "      <td>Cecil300</td>\n",
       "      <td>Barton704</td>\n",
       "      <td>None</td>\n",
       "      <td>1</td>\n",
       "      <td>0</td>\n",
       "      <td>0</td>\n",
       "      <td>...</td>\n",
       "      <td>620087.37</td>\n",
       "      <td>8129.28</td>\n",
       "      <td>0</td>\n",
       "      <td>0</td>\n",
       "      <td>0</td>\n",
       "      <td>NaN</td>\n",
       "      <td>NaN</td>\n",
       "      <td>0</td>\n",
       "      <td>0</td>\n",
       "      <td>24</td>\n",
       "    </tr>\n",
       "    <tr>\n",
       "      <th>4</th>\n",
       "      <td>2020-03-09</td>\n",
       "      <td>45138fb4-dc79-4aec-ba78-7a012d3edca7</td>\n",
       "      <td>1960-06-08</td>\n",
       "      <td>NaT</td>\n",
       "      <td>Shiloh191</td>\n",
       "      <td>Turner526</td>\n",
       "      <td>M</td>\n",
       "      <td>0</td>\n",
       "      <td>1</td>\n",
       "      <td>1</td>\n",
       "      <td>...</td>\n",
       "      <td>32286.70</td>\n",
       "      <td>1659.84</td>\n",
       "      <td>0</td>\n",
       "      <td>0</td>\n",
       "      <td>0</td>\n",
       "      <td>NaN</td>\n",
       "      <td>NaN</td>\n",
       "      <td>0</td>\n",
       "      <td>0</td>\n",
       "      <td>59</td>\n",
       "    </tr>\n",
       "  </tbody>\n",
       "</table>\n",
       "<p>5 rows × 25 columns</p>\n",
       "</div>"
      ],
      "text/plain": [
       "  DATE_TESTED_POSITIVE                               PATIENT  BIRTHDATE  \\\n",
       "0           2020-03-11  afa2680f-7f73-46d9-b0cd-2cf3db49724b 1978-06-16   \n",
       "1           2020-02-23  26e5d262-6cdc-4274-a5cd-d7fd439e35f9 1989-09-05   \n",
       "2           2020-03-03  90031c21-e8a4-416e-b60b-23e871ee62dc 1983-07-24   \n",
       "3           2020-03-10  0ac2e031-ab88-41f9-ac5d-d7d588952222 1996-02-17   \n",
       "4           2020-03-09  45138fb4-dc79-4aec-ba78-7a012d3edca7 1960-06-08   \n",
       "\n",
       "  DEATHDATE      FIRST         LAST MARITAL  RACE  ISHISPANIC  ISFEMALE  ...  \\\n",
       "0       NaT  Janeth814    Beatty507       M     0           0         1  ...   \n",
       "1       NaT  Adrian111    Blanda868       S     0           0         0  ...   \n",
       "2       NaT  Peggie783  Turcotte120       M     0           0         1  ...   \n",
       "3       NaT   Cecil300    Barton704    None     1           0         0  ...   \n",
       "4       NaT  Shiloh191    Turner526       M     0           1         1  ...   \n",
       "\n",
       "  HEALTHCARE_EXPENSES HEALTHCARE_COVERAGE ISDEAD  HAS_MOULD_ALLERGY  \\\n",
       "0           878157.60             8128.09      0                  0   \n",
       "1            21147.02                0.00      0                  0   \n",
       "2           746790.89            12704.15      0                  0   \n",
       "3           620087.37             8129.28      0                  0   \n",
       "4            32286.70             1659.84      0                  0   \n",
       "\n",
       "   HAS_DIABETES  HAS_VENT  HAS_VIDEO  HAS_KIDNEY_ISSUE  HAS_HEART_ISSUE  \\\n",
       "0             0       NaN        NaN                 0                0   \n",
       "1             0       NaN        NaN                 0                0   \n",
       "2             1       NaN        NaN                 0                0   \n",
       "3             0       NaN        NaN                 0                0   \n",
       "4             0       NaN        NaN                 0                0   \n",
       "\n",
       "   AGE_WHEN_TESTED  \n",
       "0               41  \n",
       "1               30  \n",
       "2               36  \n",
       "3               24  \n",
       "4               59  \n",
       "\n",
       "[5 rows x 25 columns]"
      ]
     },
     "execution_count": 100,
     "metadata": {},
     "output_type": "execute_result"
    }
   ],
   "source": [
    "master.head()"
   ]
  },
  {
   "cell_type": "markdown",
   "metadata": {},
   "source": [
    "# At this point, we consider our master data set complete!\n",
    "\n",
    "We have imported all the data we felt relevant, feature engineered, cleaned the data and are now ready to model\n",
    "\n",
    "#### Let's create our X and y dataframes"
   ]
  },
  {
   "cell_type": "code",
   "execution_count": 102,
   "metadata": {},
   "outputs": [],
   "source": [
    "X = master[['HAS_MOULD_ALLERGY', 'ISHISPANIC', 'ISFEMALE', 'RACE', 'AGE_WHEN_TESTED', 'HAS_DIABETES', 'HAS_HEART_ISSUE', 'HAS_KIDNEY_ISSUE']]\n",
    "y = master['ISDEAD']"
   ]
  },
  {
   "cell_type": "code",
   "execution_count": 103,
   "metadata": {},
   "outputs": [
    {
     "data": {
      "text/plain": [
       "<matplotlib.axes._subplots.AxesSubplot at 0x1f6fa937b48>"
      ]
     },
     "execution_count": 103,
     "metadata": {},
     "output_type": "execute_result"
    },
    {
     "data": {
      "image/png": "[encoded data removed]",
      "text/plain": [
       "<Figure size 432x288 with 2 Axes>"
      ]
     },
     "metadata": {
      "needs_background": "light"
     },
     "output_type": "display_data"
    }
   ],
   "source": [
    "# Check attributes are not highly correlated\n",
    "sns.heatmap(X.corr(), annot=True)"
   ]
  },
  {
   "cell_type": "code",
   "execution_count": 104,
   "metadata": {},
   "outputs": [],
   "source": [
    "# Split the data\n",
    "X_train, X_test, y_train, y_test = train_test_split(X, y, test_size = 0.3, random_state = 2)"
   ]
  },
  {
   "cell_type": "code",
   "execution_count": 105,
   "metadata": {},
   "outputs": [
    {
     "data": {
      "text/html": [
       "<div>\n",
       "<style scoped>\n",
       "    .dataframe tbody tr th:only-of-type {\n",
       "        vertical-align: middle;\n",
       "    }\n",
       "\n",
       "    .dataframe tbody tr th {\n",
       "        vertical-align: top;\n",
       "    }\n",
       "\n",
       "    .dataframe thead th {\n",
       "        text-align: right;\n",
       "    }\n",
       "</style>\n",
       "<table border=\"1\" class=\"dataframe\">\n",
       "  <thead>\n",
       "    <tr style=\"text-align: right;\">\n",
       "      <th></th>\n",
       "      <th>HAS_MOULD_ALLERGY</th>\n",
       "      <th>ISHISPANIC</th>\n",
       "      <th>ISFEMALE</th>\n",
       "      <th>RACE</th>\n",
       "      <th>AGE_WHEN_TESTED</th>\n",
       "      <th>HAS_DIABETES</th>\n",
       "      <th>HAS_HEART_ISSUE</th>\n",
       "      <th>HAS_KIDNEY_ISSUE</th>\n",
       "    </tr>\n",
       "  </thead>\n",
       "  <tbody>\n",
       "    <tr>\n",
       "      <th>51458</th>\n",
       "      <td>0</td>\n",
       "      <td>0</td>\n",
       "      <td>0</td>\n",
       "      <td>0</td>\n",
       "      <td>77</td>\n",
       "      <td>0</td>\n",
       "      <td>0</td>\n",
       "      <td>0</td>\n",
       "    </tr>\n",
       "    <tr>\n",
       "      <th>51284</th>\n",
       "      <td>0</td>\n",
       "      <td>0</td>\n",
       "      <td>1</td>\n",
       "      <td>0</td>\n",
       "      <td>60</td>\n",
       "      <td>1</td>\n",
       "      <td>0</td>\n",
       "      <td>0</td>\n",
       "    </tr>\n",
       "    <tr>\n",
       "      <th>2180</th>\n",
       "      <td>0</td>\n",
       "      <td>0</td>\n",
       "      <td>0</td>\n",
       "      <td>0</td>\n",
       "      <td>49</td>\n",
       "      <td>0</td>\n",
       "      <td>0</td>\n",
       "      <td>0</td>\n",
       "    </tr>\n",
       "    <tr>\n",
       "      <th>51142</th>\n",
       "      <td>0</td>\n",
       "      <td>1</td>\n",
       "      <td>1</td>\n",
       "      <td>0</td>\n",
       "      <td>40</td>\n",
       "      <td>0</td>\n",
       "      <td>0</td>\n",
       "      <td>0</td>\n",
       "    </tr>\n",
       "    <tr>\n",
       "      <th>22322</th>\n",
       "      <td>0</td>\n",
       "      <td>0</td>\n",
       "      <td>1</td>\n",
       "      <td>0</td>\n",
       "      <td>68</td>\n",
       "      <td>1</td>\n",
       "      <td>0</td>\n",
       "      <td>0</td>\n",
       "    </tr>\n",
       "  </tbody>\n",
       "</table>\n",
       "</div>"
      ],
      "text/plain": [
       "       HAS_MOULD_ALLERGY  ISHISPANIC  ISFEMALE  RACE  AGE_WHEN_TESTED  \\\n",
       "51458                  0           0         0     0               77   \n",
       "51284                  0           0         1     0               60   \n",
       "2180                   0           0         0     0               49   \n",
       "51142                  0           1         1     0               40   \n",
       "22322                  0           0         1     0               68   \n",
       "\n",
       "       HAS_DIABETES  HAS_HEART_ISSUE  HAS_KIDNEY_ISSUE  \n",
       "51458             0                0                 0  \n",
       "51284             1                0                 0  \n",
       "2180              0                0                 0  \n",
       "51142             0                0                 0  \n",
       "22322             1                0                 0  "
      ]
     },
     "execution_count": 105,
     "metadata": {},
     "output_type": "execute_result"
    }
   ],
   "source": [
    "X_train.head()"
   ]
  },
  {
   "cell_type": "code",
   "execution_count": 107,
   "metadata": {},
   "outputs": [
    {
     "data": {
      "image/png": "[encoded data removed]",
      "text/plain": [
       "<Figure size 432x288 with 1 Axes>"
      ]
     },
     "metadata": {
      "needs_background": "light"
     },
     "output_type": "display_data"
    }
   ],
   "source": [
    "training_accuracy = []\n",
    "test_accuracy = []\n",
    "neighbors_settings = range(1,11)\n",
    "for n in neighbors_settings:\n",
    "    clf = KNeighborsClassifier(n_neighbors=n)\n",
    "    clf.fit(X_train, y_train)\n",
    "    training_accuracy.append(clf.score(X_train, y_train))\n",
    "    test_accuracy.append(clf.score(X_test, y_test))\n",
    "\n",
    "plt.plot(neighbors_settings, training_accuracy, label=\"Training Accuracy\")\n",
    "plt.plot(neighbors_settings, test_accuracy, label=\"Test Accuracy\")\n",
    "plt.ylabel('Accuracy')\n",
    "plt.xlabel('n_neighbors')\n",
    "plt.legend()\n",
    "plt.show()"
   ]
  },
  {
   "cell_type": "code",
   "execution_count": 108,
   "metadata": {},
   "outputs": [
    {
     "data": {
      "text/plain": [
       "KNeighborsClassifier(algorithm='auto', leaf_size=30, metric='minkowski',\n",
       "                     metric_params=None, n_jobs=None, n_neighbors=4, p=2,\n",
       "                     weights='uniform')"
      ]
     },
     "execution_count": 108,
     "metadata": {},
     "output_type": "execute_result"
    }
   ],
   "source": [
    "knn = KNeighborsClassifier(n_neighbors=4)\n",
    "knn.fit(X_train, y_train)"
   ]
  },
  {
   "cell_type": "code",
   "execution_count": 109,
   "metadata": {},
   "outputs": [
    {
     "name": "stdout",
     "output_type": "stream",
     "text": [
      "Test set predictions:\n",
      " [0 0 0 ... 0 0 0]\n"
     ]
    }
   ],
   "source": [
    "y_predictions = knn.predict(X_test)\n",
    "print(\"Test set predictions:\\n {}\".format(y_predictions))"
   ]
  },
  {
   "cell_type": "code",
   "execution_count": 110,
   "metadata": {},
   "outputs": [
    {
     "name": "stdout",
     "output_type": "stream",
     "text": [
      "Test set score: 0.93\n"
     ]
    }
   ],
   "source": [
    "print(\"Test set score: {:.2f}\".format(np.mean(y_predictions == y_test)))"
   ]
  },
  {
   "cell_type": "code",
   "execution_count": 111,
   "metadata": {},
   "outputs": [
    {
     "name": "stdout",
     "output_type": "stream",
     "text": [
      "Test set score: 0.93\n"
     ]
    }
   ],
   "source": [
    "print(\"Test set score: {:.2f}\".format(knn.score(X_test, y_test)))"
   ]
  },
  {
   "cell_type": "code",
   "execution_count": 112,
   "metadata": {},
   "outputs": [
    {
     "name": "stdout",
     "output_type": "stream",
     "text": [
      "Actual number of patients who died: 1695\n",
      "Predicted number of patients who died: 336\n"
     ]
    }
   ],
   "source": [
    "print(\"Actual number of patients who died: {}\".format(y_test.to_numpy().sum()))\n",
    "print(\"Predicted number of patients who died: {}\".format(y_predictions.sum()))"
   ]
  },
  {
   "cell_type": "code",
   "execution_count": 113,
   "metadata": {},
   "outputs": [
    {
     "name": "stdout",
     "output_type": "stream",
     "text": [
      "[[20318    97]\n",
      " [ 1456   239]]\n"
     ]
    }
   ],
   "source": [
    "# Print the resulting confusion matrix\n",
    "print(confusion_matrix(y_test, y_predictions))"
   ]
  },
  {
   "cell_type": "code",
   "execution_count": 114,
   "metadata": {},
   "outputs": [
    {
     "name": "stdout",
     "output_type": "stream",
     "text": [
      "13.24\n"
     ]
    }
   ],
   "source": [
    "accuracy = (20318+239)/(1456+97)\n",
    "print(str(round(accuracy, 2)))"
   ]
  },
  {
   "cell_type": "code",
   "execution_count": 68,
   "metadata": {},
   "outputs": [
    {
     "name": "stdout",
     "output_type": "stream",
     "text": [
      "Logistic regression accuracy score: 0.9378561736770692\n"
     ]
    }
   ],
   "source": [
    "# Fit a logistic regression model to our train data\n",
    "logisticRegression.fit(X_train, y_train)\n",
    "print('Logistic regression accuracy score: {}'.format(logisticRegression.score(X_test, y_test)))"
   ]
  },
  {
   "cell_type": "code",
   "execution_count": 69,
   "metadata": {},
   "outputs": [],
   "source": [
    "from matplotlib import pyplot"
   ]
  },
  {
   "cell_type": "code",
   "execution_count": 70,
   "metadata": {},
   "outputs": [
    {
     "data": {
      "text/plain": [
       "Index(['HAS_MOULD_ALLERGY', 'ISHISPANIC', 'ISFEMALE', 'RACE',\n",
       "       'AGE_WHEN_TESTED', 'HAS_DIABETES', 'HAS_HEART_ISSUE',\n",
       "       'HAS_KIDNEY_ISSUE'],\n",
       "      dtype='object')"
      ]
     },
     "execution_count": 70,
     "metadata": {},
     "output_type": "execute_result"
    }
   ],
   "source": [
    "X.columns"
   ]
  },
  {
   "cell_type": "code",
   "execution_count": 71,
   "metadata": {},
   "outputs": [
    {
     "data": {
      "text/plain": [
       "array([[ 0.20551959,  0.12801364, -0.42066048, -0.01274549,  0.07406647,\n",
       "         0.40899261, -0.098596  ,  6.73689177]])"
      ]
     },
     "execution_count": 71,
     "metadata": {},
     "output_type": "execute_result"
    }
   ],
   "source": [
    "importance = logisticRegression.coef_\n",
    "importance"
   ]
  },
  {
   "cell_type": "code",
   "execution_count": 72,
   "metadata": {},
   "outputs": [
    {
     "name": "stdout",
     "output_type": "stream",
     "text": [
      "RandomForestClassifier accuracy score: 0.936951605608322\n"
     ]
    }
   ],
   "source": [
    "# Let's try Random Forest\n",
    "my_forest = RandomForestClassifier(random_state=1)\n",
    "my_forest.fit(X_train, y_train)\n",
    "print('RandomForestClassifier accuracy score: {}'.format(my_forest.score(X_test, y_test)))"
   ]
  },
  {
   "cell_type": "code",
   "execution_count": 73,
   "metadata": {},
   "outputs": [
    {
     "data": {
      "text/plain": [
       "KFold(n_splits=10, random_state=None, shuffle=False)"
      ]
     },
     "execution_count": 73,
     "metadata": {},
     "output_type": "execute_result"
    }
   ],
   "source": [
    "from sklearn.model_selection import KFold\n",
    "kf = KFold(n_splits=10, random_state=None, shuffle=False)\n",
    "kf"
   ]
  },
  {
   "cell_type": "code",
   "execution_count": 74,
   "metadata": {},
   "outputs": [
    {
     "name": "stdout",
     "output_type": "stream",
     "text": [
      "[ 2  3  4  5  6  7  8  9 10 11] [0 1]\n",
      "[ 0  1  4  5  6  7  8  9 10 11] [2 3]\n",
      "[ 0  1  2  3  5  6  7  8  9 10 11] [4]\n",
      "[ 0  1  2  3  4  6  7  8  9 10 11] [5]\n",
      "[ 0  1  2  3  4  5  7  8  9 10 11] [6]\n",
      "[ 0  1  2  3  4  5  6  8  9 10 11] [7]\n",
      "[ 0  1  2  3  4  5  6  7  9 10 11] [8]\n",
      "[ 0  1  2  3  4  5  6  7  8 10 11] [9]\n",
      "[ 0  1  2  3  4  5  6  7  8  9 11] [10]\n",
      "[ 0  1  2  3  4  5  6  7  8  9 10] [11]\n"
     ]
    }
   ],
   "source": [
    "# see how there are 3 folds (012), (345), (678) and they are split into train (left column) and test) right column\n",
    "for train_index, test_index in kf.split([1, 2, 3, 4, 5, 6, 7, 8, 9, 10, 11, 12]):\n",
    "    print(train_index, test_index)"
   ]
  },
  {
   "cell_type": "code",
   "execution_count": 75,
   "metadata": {},
   "outputs": [],
   "source": [
    "def get_score(model, X_train, X_test, y_train, y_test):\n",
    "    model.fit(X_train, y_train)\n",
    "    return model.score(X_test, y_test)"
   ]
  },
  {
   "cell_type": "code",
   "execution_count": 76,
   "metadata": {},
   "outputs": [
    {
     "data": {
      "text/plain": [
       "0.9378561736770692"
      ]
     },
     "execution_count": 76,
     "metadata": {},
     "output_type": "execute_result"
    }
   ],
   "source": [
    "# for example\n",
    "get_score(LogisticRegression(max_iter = 10000), X_train, X_test, y_train, y_test)"
   ]
  },
  {
   "cell_type": "code",
   "execution_count": 77,
   "metadata": {},
   "outputs": [],
   "source": [
    "from sklearn.model_selection import cross_val_score"
   ]
  },
  {
   "cell_type": "code",
   "execution_count": 78,
   "metadata": {},
   "outputs": [
    {
     "data": {
      "text/plain": [
       "array([0.93778833, 0.93880597, 0.9380555 , 0.93873397, 0.93975168])"
      ]
     },
     "execution_count": 78,
     "metadata": {},
     "output_type": "execute_result"
    }
   ],
   "source": [
    "cross_val_score(LogisticRegression(max_iter = 10000), X, y)\n",
    "# This method does the same thing as the for loop above to get the scores"
   ]
  },
  {
   "cell_type": "code",
   "execution_count": 79,
   "metadata": {},
   "outputs": [
    {
     "data": {
      "text/plain": [
       "array([0.93643148, 0.93738128, 0.93649501, 0.93778411, 0.93825904])"
      ]
     },
     "execution_count": 79,
     "metadata": {},
     "output_type": "execute_result"
    }
   ],
   "source": [
    "cross_val_score(RandomForestClassifier(n_estimators=40), X, y)"
   ]
  },
  {
   "cell_type": "code",
   "execution_count": 80,
   "metadata": {},
   "outputs": [
    {
     "data": {
      "text/plain": [
       "array([0.92442334, 0.92442334, 0.92448606, 0.92448606, 0.92441821])"
      ]
     },
     "execution_count": 80,
     "metadata": {},
     "output_type": "execute_result"
    }
   ],
   "source": [
    "cross_val_score(SVC(), X, y)"
   ]
  },
  {
   "cell_type": "code",
   "execution_count": 81,
   "metadata": {},
   "outputs": [],
   "source": [
    "# Let's run our data through an SVR model\n",
    "from sklearn.preprocessing import MinMaxScaler\n",
    "from sklearn import preprocessing\n",
    "from sklearn.svm import SVR"
   ]
  },
  {
   "cell_type": "code",
   "execution_count": 82,
   "metadata": {},
   "outputs": [],
   "source": [
    "X_svr = preprocessing.scale(X)\n",
    "y_svr = np.array(y)"
   ]
  },
  {
   "cell_type": "code",
   "execution_count": 83,
   "metadata": {},
   "outputs": [
    {
     "data": {
      "text/plain": [
       "numpy.ndarray"
      ]
     },
     "execution_count": 83,
     "metadata": {},
     "output_type": "execute_result"
    }
   ],
   "source": [
    "type(X_svr)"
   ]
  },
  {
   "cell_type": "code",
   "execution_count": 84,
   "metadata": {},
   "outputs": [
    {
     "data": {
      "text/plain": [
       "numpy.ndarray"
      ]
     },
     "execution_count": 84,
     "metadata": {},
     "output_type": "execute_result"
    }
   ],
   "source": [
    "type(y_svr)"
   ]
  },
  {
   "cell_type": "code",
   "execution_count": 85,
   "metadata": {},
   "outputs": [
    {
     "name": "stdout",
     "output_type": "stream",
     "text": [
      "Train index:  [24566 24567 24568 ... 73694 73695 73696] \n",
      "\n",
      "Test index:  [    0     1     2 ... 24563 24564 24565]\n",
      "Train index:  [    0     1     2 ... 73694 73695 73696] \n",
      "\n",
      "Test index:  [24566 24567 24568 ... 49129 49130 49131]\n",
      "Train index:  [    0     1     2 ... 49129 49130 49131] \n",
      "\n",
      "Test index:  [49132 49133 49134 ... 73694 73695 73696]\n",
      "0.15407851735966785\n"
     ]
    }
   ],
   "source": [
    "scores = []\n",
    "best_svr = SVR(kernel='linear')\n",
    "cv = KFold(n_splits=3, shuffle=False)\n",
    "for train_index, test_index in cv.split(X_svr):\n",
    "    print(\"Train index: \", train_index, \"\\n\")\n",
    "    print(\"Test index: \", test_index,)\n",
    "    \n",
    "    X_train, X_test, y_train, y_test = X_svr[train_index], X_svr[test_index], y_svr[train_index], y_svr[test_index]\n",
    "    best_svr.fit(X_train, y_train)\n",
    "    scores.append(best_svr.score(X_test, y_test))\n",
    "    \n",
    "print(np.mean(scores))"
   ]
  },
  {
   "cell_type": "code",
   "execution_count": 86,
   "metadata": {},
   "outputs": [
    {
     "data": {
      "text/plain": [
       "[0.15126941281828532, 0.1456263032521754, 0.16533983600854285]"
      ]
     },
     "execution_count": 86,
     "metadata": {},
     "output_type": "execute_result"
    }
   ],
   "source": [
    "scores"
   ]
  },
  {
   "cell_type": "code",
   "execution_count": 88,
   "metadata": {},
   "outputs": [
    {
     "data": {
      "text/plain": [
       "array([0.1482199 , 0.15217874, 0.14894451, 0.15290467, 0.1670069 ])"
      ]
     },
     "execution_count": 88,
     "metadata": {},
     "output_type": "execute_result"
    }
   ],
   "source": [
    "# try SVR regression with X and y as is, not scaled or preprocessed\n",
    "cross_val_score(SVR(kernel='linear'), X, y)"
   ]
  },
  {
   "cell_type": "code",
   "execution_count": 89,
   "metadata": {},
   "outputs": [
    {
     "data": {
      "text/plain": [
       "array([0.14856289, 0.1519725 , 0.1484676 , 0.15342904, 0.16719975])"
      ]
     },
     "execution_count": 89,
     "metadata": {},
     "output_type": "execute_result"
    }
   ],
   "source": [
    "# try SVR regression with X_svr and y_svr where I preprocessed them a few cells above\n",
    "# in this case, the preprocessing does not appear to make much difference in the scores\n",
    "cross_val_score(SVR(kernel='linear'), X_svr, y_svr)"
   ]
  },
  {
   "cell_type": "code",
   "execution_count": null,
   "metadata": {},
   "outputs": [],
   "source": [
    "# ^^^ I must be doing something wrong, these scores are terrible!! :-)"
   ]
  }
 ],
 "metadata": {
  "kernelspec": {
   "display_name": "Python 3",
   "language": "python",
   "name": "python3"
  },
  "language_info": {
   "codemirror_mode": {
    "name": "ipython",
    "version": 3
   },
   "file_extension": ".py",
   "mimetype": "text/x-python",
   "name": "python",
   "nbconvert_exporter": "python",
   "pygments_lexer": "ipython3",
   "version": "3.7.6"
  }
 },
 "nbformat": 4,
 "nbformat_minor": 4
}
